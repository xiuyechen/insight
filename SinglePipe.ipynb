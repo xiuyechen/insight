{
 "cells": [
  {
   "cell_type": "code",
   "execution_count": 1,
   "metadata": {},
   "outputs": [
    {
     "name": "stdout",
     "output_type": "stream",
     "text": [
      "['😀', '😁', '😂', '🤣', '😃', '😄', '😅', '😆', '😉', '😊', '😋', '😎', '😍', '😘', '😗', '😙', '😚', '☺️', '🙂', '🤗', '🤔', '😐', '😑', '😶', '🙄', '😏', '😣', '😥', '😮', '🤐', '😯', '😪', '😫', '😴', '😌', '😛', '😜', '😝', '🤤', '😒', '😓', '😔', '😕', '🙃', '🤑', '😲', '☹️', '🙁', '😖', '😞', '😟', '😤', '😢', '😭', '😦', '😧', '😨', '😩', '😬', '😰', '😱', '😳', '😵', '😡', '😠', '😷', '🤒', '🤕', '🤢', '🤧', '😇', '🤠', '🤡', '🤥', '🤓']\n",
      "75\n"
     ]
    }
   ],
   "source": [
    "import os\n",
    "import pickle\n",
    "import numpy as np\n",
    "import re\n",
    "import emoji\n",
    "import regex\n",
    "\n",
    "def extract_emojis(text):\n",
    "\n",
    "    emoji_list = []\n",
    "    data = regex.findall(r'\\X', text)\n",
    "    for word in data:\n",
    "        if any(char in emoji.UNICODE_EMOJI for char in word):\n",
    "            emoji_list.append(word)\n",
    "\n",
    "    return emoji_list\n",
    "\n",
    "def delete_emojis(text):\n",
    "\n",
    "    emoji_list = []\n",
    "    data = regex.findall(r'\\X', text)\n",
    "    for word in data:\n",
    "        if any(char in emoji.UNICODE_EMOJI for char in word):\n",
    "            \n",
    "            text = re.sub(\"|\".join(word), \"\", text)\n",
    "\n",
    "    return text\n",
    "\n",
    "# load emoji list\n",
    "fullfile = os.path.expanduser(\"~/Dropbox/insight/Emoji/\"+'mySmileys.p')\n",
    "with open(fullfile, 'rb') as fp:\n",
    "    emoji_list = pickle.load(fp)\n",
    "print(emoji_list)\n",
    "print(len(emoji_list))"
   ]
  },
  {
   "cell_type": "markdown",
   "metadata": {},
   "source": [
    "## sanitize tweets"
   ]
  },
  {
   "cell_type": "code",
   "execution_count": 17,
   "metadata": {},
   "outputs": [
    {
     "data": {
      "text/plain": [
       "'     and other words! '"
      ]
     },
     "execution_count": 17,
     "metadata": {},
     "output_type": "execute_result"
    }
   ],
   "source": [
    "def sanitize_tweets(tweet):\n",
    "    # delete twitter-specific tags\n",
    "    b1 = re.findall(r'@\\S*', tweet) # Twitter user names\n",
    "    b2 = re.findall(r'RT\\S*', tweet) # \"RT\"\n",
    "    b3 = re.findall(r'http\\S*', tweet) # links\n",
    "    b4 = re.findall(r'#\\S*', tweet) # hashtags\n",
    "\n",
    "    c = tweet #list(tweet.split())\n",
    "    for b in b1:\n",
    "        c = re.sub(re.escape(b),\"\",c)\n",
    "    for b in b2:\n",
    "        c = re.sub(re.escape(b),\"\",c)\n",
    "    for b in b3:\n",
    "        c = re.sub(re.escape(b),\"\",c)\n",
    "    for b in b4:\n",
    "        c = re.sub(re.escape(b),\"\",c)\n",
    "    return c\n",
    "    \n",
    "tweet = \"RT @aa RT @bbb https:__ and other words! #nofilter\" #RawT[-1]\n",
    "sanitize_tweets(tweet)"
   ]
  },
  {
   "cell_type": "code",
   "execution_count": 91,
   "metadata": {},
   "outputs": [
    {
     "name": "stdout",
     "output_type": "stream",
     "text": [
      "😀\n",
      "🤣\n",
      "😍\n",
      "🙄\n",
      "😛\n",
      "☹️\n",
      "😠\n",
      "🤓\n"
     ]
    }
   ],
   "source": [
    "# preprocessing with removing repeat tweets\n",
    "# IN\n",
    "target_names = ['😀','🤣','😍','🙄','😛','☹️','😠','🤓'] \n",
    "# target_names = ['😍','😡'] #['😍','😩','🙄'] # emoji_list # \n",
    "\n",
    "# OUT\n",
    "rawdata = []\n",
    "data = []\n",
    "raw_target = []\n",
    "Len = []\n",
    "filenames = []\n",
    "target_arr = np.zeros((5000*75*2, 75)) # init bigger than actual\n",
    "search_emoji = []\n",
    "\n",
    "# main loop\n",
    "ii = 0\n",
    "for keyword in target_names:\n",
    "    print(keyword)\n",
    "    fullfile = os.path.expanduser(\"~/Dropbox/insight_datadir/5k/\"+'outfile'+keyword+'.p')\n",
    "    with open(fullfile, 'rb') as fp:\n",
    "        Tweets1 = pickle.load(fp)\n",
    "    fullfile = os.path.expanduser(\"~/Dropbox/insight_datadir/5k_batch2/\"+'outfile'+keyword)\n",
    "    with open(fullfile, 'rb') as fp:\n",
    "        Tweets2 = pickle.load(fp)\n",
    "    Tweets = Tweets1+Tweets2\n",
    "\n",
    "    # remove repeat tweets\n",
    "    myset = set(Tweets)\n",
    "    Tweets_unique = list(myset)\n",
    "\n",
    "    Text = []\n",
    "    RawText = []\n",
    "    E = []\n",
    "    for tweet in Tweets_unique:\n",
    "        # remove tweets with more than one smiley\n",
    "        emojis = extract_emojis(tweet)\n",
    "        a = set(emojis) & set(emoji_list)\n",
    "        a2 = list(a)\n",
    "        if len(a2)==1 and a2[0]==keyword: # else: deal with later if doing multi-D target\n",
    "\n",
    "            # save raw tweet\n",
    "            RawText.append(tweet)\n",
    "            # save all emojis from input tweets\n",
    "            emojis = extract_emojis(tweet)\n",
    "            E.append(emojis)\n",
    "\n",
    "    #         # save emojis into target array \n",
    "    #         for x in emojis:\n",
    "    #             if x in emoji_list:\n",
    "    #                 ix = Edict[x]\n",
    "    #                 target_arr[ii,ix] = 1\n",
    "\n",
    "            # save sanitized text\n",
    "            text = sanitize_tweets(tweet)\n",
    "            text = delete_emojis(text)\n",
    "            Text.append(text)\n",
    "            ii = ii+1\n",
    "\n",
    "    data = data + Text\n",
    "    rawdata = rawdata + RawText\n",
    "    raw_target = raw_target + E\n",
    "    filenames = filenames + [fullfile]\n",
    "    search_emoji = search_emoji + [keyword]\n",
    "    Len.append(len(Text))"
   ]
  },
  {
   "cell_type": "code",
   "execution_count": 92,
   "metadata": {},
   "outputs": [],
   "source": [
    "# get 1-D target\n",
    "numEmojis = len(target_names)\n",
    "arr = []\n",
    "for i in range(numEmojis):\n",
    "    arr.extend([i] * Len[i]) \n",
    "target_1d = np.array(arr, dtype=int)"
   ]
  },
  {
   "cell_type": "code",
   "execution_count": 93,
   "metadata": {},
   "outputs": [],
   "source": [
    "# this struct is saving relatively raw data, for later use ~ visualizations\n",
    "class tweet_data:\n",
    "    pass\n",
    "\n",
    "D = tweet_data()\n",
    "D.raw_data = rawdata\n",
    "D.data = data\n",
    "D.raw_target = raw_target\n",
    "D.filenames = filenames\n",
    "D.numTweets = Len\n",
    "D.target_1d = target_1d\n",
    "# D.target_arr = target_arr\n",
    "D.target_names = target_names"
   ]
  },
  {
   "cell_type": "code",
   "execution_count": 70,
   "metadata": {},
   "outputs": [],
   "source": [
    "# # 10/02\n",
    "# fullfile = os.path.expanduser(\"~/Dropbox/insight/Twitter/\"+'tweet_data_3x_unique_singles_target1d.p')\n",
    "# # fullfile = os.path.expanduser(\"~/Dropbox/insight/Twitter/\"+'tweet_data_75x_unique_singles_target1d.p')\n",
    "# with open(fullfile, 'wb') as fp:\n",
    "#     pickle.dump(D, fp)"
   ]
  },
  {
   "cell_type": "markdown",
   "metadata": {},
   "source": [
    "## Train Model"
   ]
  },
  {
   "cell_type": "code",
   "execution_count": 94,
   "metadata": {},
   "outputs": [],
   "source": [
    "# this is like a struct\n",
    "class tweet_train:\n",
    "    pass\n",
    "\n",
    "T = tweet_train()\n",
    "T.target_names = target_names\n",
    "T.data = D.data\n",
    "T.filenames = D.filenames\n",
    "T.target = D.target_1d#target"
   ]
  },
  {
   "cell_type": "code",
   "execution_count": 95,
   "metadata": {},
   "outputs": [
    {
     "name": "stdout",
     "output_type": "stream",
     "text": [
      "😀\n"
     ]
    }
   ],
   "source": [
    "print(T.target_names[T.target[0]])"
   ]
  },
  {
   "cell_type": "code",
   "execution_count": 96,
   "metadata": {},
   "outputs": [],
   "source": [
    "# Split the dataset in training and test set:\n",
    "from sklearn.model_selection import train_test_split\n",
    "X_train, X_test, y_train, y_test = train_test_split(\n",
    "    T.data, T.target, test_size=0.2,random_state=0)"
   ]
  },
  {
   "cell_type": "code",
   "execution_count": 99,
   "metadata": {},
   "outputs": [
    {
     "data": {
      "text/plain": [
       "LogisticRegression(C=1.0, class_weight=None, dual=False, fit_intercept=True,\n",
       "          intercept_scaling=1, max_iter=1000, multi_class='ovr',\n",
       "          n_jobs=None, penalty='l2', random_state=0, solver='lbfgs',\n",
       "          tol=0.0001, verbose=0, warm_start=False)"
      ]
     },
     "execution_count": 99,
     "metadata": {},
     "output_type": "execute_result"
    }
   ],
   "source": [
    "# TASK: Build a vectorizer that splits strings into sequence of 1 to 3\n",
    "# characters instead of word tokens\n",
    "from sklearn.feature_extraction.text import TfidfVectorizer\n",
    "# from sklearn.linear_model import Perceptron\n",
    "from sklearn import metrics\n",
    "from wordcloud import WordCloud\n",
    "import matplotlib.pyplot as plt\n",
    "from sklearn.linear_model import LogisticRegression\n",
    "\n",
    "vectorizer = TfidfVectorizer(ngram_range=(1, 1), analyzer='word',\n",
    "                             use_idf=True, stop_words='english')\n",
    "\n",
    "XV_train = vectorizer.fit_transform(X_train)\n",
    "\n",
    "clf = LogisticRegression(random_state=0, solver='lbfgs',\n",
    "                         multi_class='ovr',max_iter=1000) # 'ovr' multinomial\n",
    "clf.fit(XV_train,y_train)"
   ]
  },
  {
   "cell_type": "markdown",
   "metadata": {},
   "source": [
    "## Test Model"
   ]
  },
  {
   "cell_type": "code",
   "execution_count": 100,
   "metadata": {},
   "outputs": [
    {
     "name": "stdout",
     "output_type": "stream",
     "text": [
      "              precision    recall  f1-score   support\n",
      "\n",
      "           😀       0.33      0.24      0.28       681\n",
      "           🤣       0.29      0.08      0.13       514\n",
      "           😍       0.47      0.48      0.47       915\n",
      "           🙄       0.30      0.50      0.38      1110\n",
      "           😛       0.38      0.40      0.39       925\n",
      "          ☹️       0.45      0.53      0.49      1172\n",
      "           😠       0.46      0.18      0.26       587\n",
      "           🤓       0.36      0.34      0.35       902\n",
      "\n",
      "   micro avg       0.38      0.38      0.38      6806\n",
      "   macro avg       0.38      0.34      0.34      6806\n",
      "weighted avg       0.38      0.38      0.37      6806\n",
      "\n"
     ]
    }
   ],
   "source": [
    "XV_test = vectorizer.transform(X_test)\n",
    "y_predicted = clf.predict(XV_test)\n",
    "print(metrics.classification_report(y_test, y_predicted,\n",
    "                                    target_names=T.target_names))"
   ]
  },
  {
   "cell_type": "code",
   "execution_count": 101,
   "metadata": {},
   "outputs": [
    {
     "data": {
      "text/plain": [
       "(8, 21159)"
      ]
     },
     "execution_count": 101,
     "metadata": {},
     "output_type": "execute_result"
    }
   ],
   "source": [
    "clf.coef_.shape"
   ]
  },
  {
   "cell_type": "code",
   "execution_count": 131,
   "metadata": {},
   "outputs": [
    {
     "name": "stdout",
     "output_type": "stream",
     "text": [
      "['soon', 'winners', 'fellas', 'wishes', 'sir', 'loving', 'huge', 'space', 'live', 'followers', 'brilliant', 'fantastic', 'destiny', 'retweets', 'realme', 'smile', 'strong', 'whoop', 'sunday', 'friday', 'stream', 'pleasure', 'worry', 'weekend', 'smiling', 'win', 'followed', 'indianapolis', 'yay', 'whatsapp', 'happy', 'thanks', 'sweet', 'bless', 'thank', 'good', 'awesome', 'forward', 'hi', 'debut', 'follower', 'wonderful', 'enjoy', 'nice', 'hello', 'congratulations', 'welcome', 'glad', 'fun', 'great']\n"
     ]
    }
   ],
   "source": [
    "to_sort = clf.coef_[0]\n",
    "to_sort.shape\n",
    "\n",
    "feature_names = vectorizer.get_feature_names()\n",
    "\n",
    "IX = np.argsort(to_sort)[-50:] # -50: largest values; end of array most representative\n",
    "\n",
    "# IX = np.argsort(to_sort)[:50] # :50 smallest values\n",
    "\n",
    "\n",
    "wordsList = []\n",
    "for ii in range(len(IX)):\n",
    "    wordsList.append(feature_names[IX[ii]])\n",
    "print(wordsList)\n",
    "\n",
    "# ix = wordsList.index(\"fucking\")\n",
    "# wordsList[ix] = 'f*cking'\n",
    "# print(wordsList)"
   ]
  },
  {
   "cell_type": "code",
   "execution_count": 83,
   "metadata": {},
   "outputs": [
    {
     "data": {
      "text/plain": [
       "array([1.3425158 , 1.34334238, 1.34955848, 1.35221931, 1.35675016,\n",
       "       1.36614837, 1.3888618 , 1.40540002, 1.4103247 , 1.42264211,\n",
       "       1.43675201, 1.44691036, 1.45049511, 1.45516015, 1.47010155,\n",
       "       1.47019753, 1.4730271 , 1.49718195, 1.50536279, 1.50838141,\n",
       "       1.50841594, 1.51242967, 1.53009896, 1.53135618, 1.56479044,\n",
       "       1.59779011, 1.60127356, 1.61027856, 1.63580266, 1.63679531,\n",
       "       1.68207639, 1.70927589, 1.72026883, 1.73539012, 1.73871243,\n",
       "       1.74854732, 1.76366504, 1.78728604, 1.79947944, 1.82915303,\n",
       "       1.86954169, 1.96265631, 1.96313172, 1.96568359, 1.97115688,\n",
       "       1.97530025, 2.31002151, 2.37595483, 2.44397694, 3.07071166])"
      ]
     },
     "execution_count": 83,
     "metadata": {},
     "output_type": "execute_result"
    }
   ],
   "source": [
    "np.sort(to_sort)[-50:]"
   ]
  },
  {
   "cell_type": "code",
   "execution_count": 90,
   "metadata": {},
   "outputs": [
    {
     "data": {
      "image/png": "[encoded data removed]",
      "text/plain": [
       "<Figure size 432x288 with 1 Axes>"
      ]
     },
     "metadata": {
      "needs_background": "light"
     },
     "output_type": "display_data"
    }
   ],
   "source": [
    "# make word cloud input\n",
    "K = wordsList\n",
    "V = abs(np.sort(to_sort)[-50:])\n",
    "# V = abs(np.sort(to_sort)[:50])\n",
    "d = {}\n",
    "for ii in range(50):\n",
    "    k = K[ii]\n",
    "    v = V[ii]\n",
    "    d[k] = v\n",
    "    \n",
    "# wordcloud = WordCloud(background_color=\"white\",width=900,height=500, max_words=1628,relative_scaling=1,normalize_plurals=False).generate_from_frequencies(d)\n",
    "wordcloud = WordCloud(background_color=\"white\",width=900,height=500,max_font_size=100).generate_from_frequencies(d)\n",
    "\n",
    "plt.imshow(wordcloud, interpolation='bilinear')\n",
    "plt.axis(\"off\")\n",
    "plt.show()\n",
    "# wordcloud.to_file(\"eye_roll_words.png\")"
   ]
  },
  {
   "cell_type": "code",
   "execution_count": 144,
   "metadata": {},
   "outputs": [
    {
     "name": "stdout",
     "output_type": "stream",
     "text": [
      "(2, 21159)\n",
      "[[0.08359024 0.03479959 0.23037363 0.05568677 0.13817456 0.28863854\n",
      "  0.02866545 0.14007121]\n",
      " [0.04819003 0.06413683 0.07110569 0.25401942 0.09095753 0.23789076\n",
      "  0.15259054 0.0811092 ]]\n",
      "5\n"
     ]
    },
    {
     "data": {
      "text/plain": [
       "'☹️'"
      ]
     },
     "execution_count": 144,
     "metadata": {},
     "output_type": "execute_result"
    }
   ],
   "source": [
    "test0 = ['site for meet teen friends and love.','Pigeons As Pets: Outside or Indoors Do the pigeons need to be of the same breed of pigeon? ...... which they were staying now i kept it in my balcony, both the pigeon flu away will they come back?']\n",
    "# test0 = ['What are your worst experiences with house centipedes Quora we deal with Tiger Centipedes(Scolopendra Polymorpha) and they usually come ... Whole House stinks really bad for a couple of Hours after a Spray down.']\n",
    "xv_test = vectorizer.transform(test0)\n",
    "print(xv_test.shape)\n",
    "y_predicted = clf.predict(xv_test)\n",
    "y_probs = clf.predict_proba(xv_test)\n",
    "print(y_probs)\n",
    "print(y_predicted[0])\n",
    "T.target_names[y_predicted[0]]"
   ]
  },
  {
   "cell_type": "code",
   "execution_count": 143,
   "metadata": {},
   "outputs": [
    {
     "data": {
      "text/plain": [
       "array([5])"
      ]
     },
     "execution_count": 143,
     "metadata": {},
     "output_type": "execute_result"
    }
   ],
   "source": []
  },
  {
   "cell_type": "code",
   "execution_count": 135,
   "metadata": {},
   "outputs": [],
   "source": [
    "# save model\n",
    "# fullfile = os.path.expanduser(\"~/Dropbox/insight_datadir/\"+'clf_2step_75way_1002_mindf6.p')\n",
    "fullfile = os.path.expanduser(\"~/Dropbox/insight_datadir/\"+'clf_2step_8way_1009.p')\n",
    "with open(fullfile, 'wb') as fp:\n",
    "    pickle.dump([vectorizer,clf], fp)"
   ]
  },
  {
   "cell_type": "code",
   "execution_count": null,
   "metadata": {},
   "outputs": [],
   "source": []
  },
  {
   "cell_type": "code",
   "execution_count": 136,
   "metadata": {},
   "outputs": [
    {
     "data": {
      "text/plain": [
       "7"
      ]
     },
     "execution_count": 136,
     "metadata": {},
     "output_type": "execute_result"
    }
   ],
   "source": [
    "y_train.max()"
   ]
  }
 ],
 "metadata": {
  "kernelspec": {
   "display_name": "Python (insight)",
   "language": "python",
   "name": "insight"
  },
  "language_info": {
   "codemirror_mode": {
    "name": "ipython",
    "version": 3
   },
   "file_extension": ".py",
   "mimetype": "text/x-python",
   "name": "python",
   "nbconvert_exporter": "python",
   "pygments_lexer": "ipython3",
   "version": "3.6.6"
  },
  "varInspector": {
   "cols": {
    "lenName": 16,
    "lenType": 16,
    "lenVar": 40
   },
   "kernels_config": {
    "python": {
     "delete_cmd_postfix": "",
     "delete_cmd_prefix": "del ",
     "library": "var_list.py",
     "varRefreshCmd": "print(var_dic_list())"
    },
    "r": {
     "delete_cmd_postfix": ") ",
     "delete_cmd_prefix": "rm(",
     "library": "var_list.r",
     "varRefreshCmd": "cat(var_dic_list()) "
    }
   },
   "types_to_exclude": [
    "module",
    "function",
    "builtin_function_or_method",
    "instance",
    "_Feature"
   ],
   "window_display": false
  }
 },
 "nbformat": 4,
 "nbformat_minor": 2
}
