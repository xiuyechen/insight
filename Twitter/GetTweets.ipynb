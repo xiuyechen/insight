{
 "cells": [
  {
   "cell_type": "code",
   "execution_count": 1,
   "metadata": {},
   "outputs": [],
   "source": [
    "# Setup\n",
    "import tweepy\n",
    "from tweepy import OAuthHandler\n",
    "import re\n",
    "import pickle\n",
    "import time\n",
    "  \n",
    "# load info from .env\n",
    "from dotenv import load_dotenv\n",
    "import os\n",
    "load_dotenv()\n",
    "consumer_key = os.getenv('TWITTER_CONSUMER_KEY')\n",
    "consumer_secret = os.getenv('TWITTER_CONSUMER_SECRET')\n",
    "access_token = os.getenv('TWITTER_ACCESS_TOKEN')\n",
    "access_secret = os.getenv('TWITTER_ACCESS_SECRET')\n",
    "\n",
    "# get api\n",
    "auth = OAuthHandler(consumer_key, consumer_secret)\n",
    "auth.set_access_token(access_token, access_secret)\n",
    "\n",
    "api = tweepy.API(auth, wait_on_rate_limit=True)"
   ]
  },
  {
   "cell_type": "code",
   "execution_count": 2,
   "metadata": {},
   "outputs": [],
   "source": [
    "\n",
    "Emojis0 = \"😄 😃 😀 😊 ☺ 😉 😍 😘 😚 😗 😙 😜 😝 😛 😳 😁 😔 😌 😒 😞 😣 😢 😂 😭 😪 😥 😰 😅 😓 😩 😫 😨 😱 😠 😡 😤 😖 😆 😋 😷 😎 😴 😵 😲 😟 😦 😧 😈 👿 😮 😬 😐 😕 😯 😶 😇 😏 😑\"\n",
    "Emojis = Emojis0.replace(\" \", \"\")"
   ]
  },
  {
   "cell_type": "code",
   "execution_count": 3,
   "metadata": {},
   "outputs": [
    {
     "name": "stdout",
     "output_type": "stream",
     "text": [
      "i=1 😄0.6062531471252441\n",
      "i=2 😃0.6358039379119873\n",
      "i=3 😀0.4526848793029785\n",
      "i=4 😊0.5359859466552734\n",
      "i=5 ☺0.46413707733154297\n",
      "i=6 😉0.41519784927368164\n",
      "i=7 😍0.5338802337646484\n",
      "i=8 😘0.49585509300231934\n",
      "i=9 😚0.47438573837280273\n",
      "i=10 😗0.38397693634033203\n",
      "i=11 😙0.42334604263305664\n",
      "i=12 😜0.45544910430908203\n",
      "i=13 😝0.4648008346557617\n",
      "i=14 😛0.3485689163208008\n",
      "i=15 😳0.536038875579834\n",
      "i=16 😁0.5813100337982178\n",
      "i=17 😔0.5054171085357666\n",
      "i=18 😌0.48235297203063965\n",
      "i=19 😒0.5152120590209961\n",
      "i=20 😞0.4091181755065918\n",
      "i=21 😣0.4387640953063965\n",
      "i=22 😢0.4557840824127197\n",
      "i=23 😂1.0335958003997803\n",
      "i=24 😭0.5512151718139648\n",
      "i=25 😪0.7076249122619629\n",
      "i=26 😥0.4274439811706543\n",
      "i=27 😰0.5032978057861328\n",
      "i=28 😅0.5825598239898682\n",
      "i=29 😓0.7121331691741943\n",
      "i=30 😩0.7541120052337646\n",
      "i=31 😫0.707202672958374\n",
      "i=32 😨0.6953661441802979\n",
      "i=33 😱0.49245285987854004\n",
      "i=34 😠0.4024848937988281\n",
      "i=35 😡0.4791738986968994\n",
      "i=36 😤0.46910524368286133\n",
      "i=37 😖0.4134049415588379\n",
      "i=38 😆0.46209096908569336\n",
      "i=39 😋0.5287463665008545\n",
      "i=40 😷0.4394989013671875\n",
      "i=41 😎0.421489953994751\n",
      "i=42 😴0.37383103370666504\n",
      "i=43 😵0.582866907119751\n",
      "i=44 😲0.5327291488647461\n",
      "i=45 😟0.4219701290130615\n",
      "i=46 😦0.4996621608734131\n",
      "i=47 😧0.5116598606109619\n",
      "i=48 😈0.47588610649108887\n",
      "i=49 👿0.45360875129699707\n",
      "i=50 😮0.40375399589538574\n",
      "i=51 😬0.3820202350616455\n",
      "i=52 😐0.39333200454711914\n",
      "i=53 😕0.8187332153320312\n",
      "i=54 😯0.42392516136169434\n",
      "i=55 😶0.6549081802368164\n",
      "i=56 😇0.47188282012939453\n",
      "i=57 😏0.4338419437408447\n",
      "i=58 😑0.5036942958831787\n",
      "CPU times: user 2.3 s, sys: 299 ms, total: 2.6 s\n",
      "Wall time: 29.7 s\n"
     ]
    }
   ],
   "source": [
    "#%%time\n",
    "#keyword = \"😍\" # \"😋\"\n",
    "\n",
    "numberOfTweets = 2\n",
    "\n",
    "i = 0\n",
    "for keyword in Emojis:\n",
    "    # track timing\n",
    "    t = time.time()\n",
    "    \n",
    "    # Empty Array \n",
    "    itemlist=[]  \n",
    "\n",
    "    n = 0;\n",
    "    for tweet in tweepy.Cursor(api.search, keyword, lang=\"en\").items(numberOfTweets):\n",
    "        dc = tweet._json\n",
    "        a_str = dc.get('text')\n",
    "        #list_all = re.split('( )', str) # this is a list\n",
    "        #list_a = re.findall(r'[@]\\S*', str) #[2,4,7]\n",
    "        #list_b = [1,2,3,4,5,6]\n",
    "        #list_a = [n for n in list_a if n not in list_b]\n",
    "\n",
    "        # remove the following\n",
    "        #print(re.findall(r'[@]\\S*', str)) # Twitter user names\n",
    "        #print(re.findall(r'[RT]\\S*', str)) # \"RT\"\n",
    "        #print(re.findall(r'[http]\\S*', str)) # \"RT\"\n",
    "\n",
    "        itemlist.append(a_str) \n",
    "        n = n+1\n",
    "        if n % 100 == 0:\n",
    "            print(str(n)+' ', end=\"\")\n",
    "\n",
    "    # save file\n",
    "    #with open('outfile'+keyword, 'wb') as fp:\n",
    "    \n",
    "    with open(os.path.expanduser(\"~/Dropbox/insight_datadir/\"+'outfile'+keyword), 'wb') as fp:\n",
    "        pickle.dump(itemlist, fp)\n",
    "    \n",
    "    # print time\n",
    "    elapsed = time.time() - t\n",
    "    i = i+1\n",
    "    print('i='+str(i)+' '+keyword+str(elapsed))"
   ]
  },
  {
   "cell_type": "markdown",
   "metadata": {},
   "source": [
    "str = dc.get('text')\n",
    "print(str)\n",
    "\n",
    "import re\n",
    "s2 = re.split('( )', str) # this is a list\n",
    "print(s2)\n",
    "#print(s2.startswith('@'))\n",
    "#[ t for t in s2 if t.startswith('s') ]\n",
    "print(re.findall(r'[@]\\S*', str))\n",
    "print(re.findall(r'[RT]\\S*', str))"
   ]
  },
  {
   "cell_type": "markdown",
   "metadata": {},
   "source": [
    "# load file\n",
    "with open ('outfile', 'rb') as fp:\n",
    "    itemlist2 = pickle.load(fp)"
   ]
  },
  {
   "cell_type": "markdown",
   "metadata": {},
   "source": [
    "#itemlist2[0:3]\n",
    "print(re.findall(r'[@]\\S*', itemlist2[0]))"
   ]
  }
 ],
 "metadata": {
  "kernelspec": {
   "display_name": "Python (insight)",
   "language": "python",
   "name": "insight"
  },
  "language_info": {
   "codemirror_mode": {
    "name": "ipython",
    "version": 3
   },
   "file_extension": ".py",
   "mimetype": "text/x-python",
   "name": "python",
   "nbconvert_exporter": "python",
   "pygments_lexer": "ipython3",
   "version": "3.6.6"
  },
  "varInspector": {
   "cols": {
    "lenName": 16,
    "lenType": 16,
    "lenVar": 40
   },
   "kernels_config": {
    "python": {
     "delete_cmd_postfix": "",
     "delete_cmd_prefix": "del ",
     "library": "var_list.py",
     "varRefreshCmd": "print(var_dic_list())"
    },
    "r": {
     "delete_cmd_postfix": ") ",
     "delete_cmd_prefix": "rm(",
     "library": "var_list.r",
     "varRefreshCmd": "cat(var_dic_list()) "
    }
   },
   "oldHeight": 459,
   "position": {
    "height": "40px",
    "left": "1082px",
    "right": "20px",
    "top": "29px",
    "width": "357px"
   },
   "types_to_exclude": [
    "module",
    "function",
    "builtin_function_or_method",
    "instance",
    "_Feature"
   ],
   "varInspector_section_display": "none",
   "window_display": true
  }
 },
 "nbformat": 4,
 "nbformat_minor": 2
}
