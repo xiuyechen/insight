{
 "cells": [
  {
   "cell_type": "code",
   "execution_count": 1,
   "metadata": {},
   "outputs": [],
   "source": [
    "import tweepy\n",
    "from tweepy import OAuthHandler\n",
    "import re\n",
    "import pickle\n",
    "  "
   ]
  },
  {
   "cell_type": "code",
   "execution_count": 2,
   "metadata": {},
   "outputs": [],
   "source": [
    "# load sensitive info\n",
    "from dotenv import load_dotenv\n",
    "import os\n",
    "load_dotenv()\n",
    "consumer_key = os.getenv('TWITTER_CONSUMER_KEY')\n",
    "consumer_secret = os.getenv('TWITTER_CONSUMER_SECRET')\n",
    "access_token = os.getenv('TWITTER_ACCESS_TOKEN')\n",
    "access_secret = os.getenv('TWITTER_ACCESS_SECRET')"
   ]
  },
  {
   "cell_type": "code",
   "execution_count": 3,
   "metadata": {},
   "outputs": [],
   "source": [
    "# get api\n",
    "auth = OAuthHandler(consumer_key, consumer_secret)\n",
    "auth.set_access_token(access_token, access_secret)\n",
    " \n",
    "api = tweepy.API(auth)"
   ]
  },
  {
   "cell_type": "code",
   "execution_count": 4,
   "metadata": {},
   "outputs": [
    {
     "name": "stdout",
     "output_type": "stream",
     "text": [
      "Bicycle speed record smashed at 180 mph - yike! https://t.co/nNfIwvWHS6\n",
      "RT @VanHooserLab: @vanhoosr Steve got a mention for Peer Review Week from Journal of Neuroscience! https://t.co/a9QQCwQhAG\n",
      "New job posting added: Princeton University has an opening for human cognitive neuroscience (including, but not lim… https://t.co/3axNKfkmdP\n",
      "Three faculty job postings in my department @UBiologySchool @UUtah\n",
      "\n",
      "Mol Biology /  Biochem (deadline 10/1)… https://t.co/foXUm9m3Ds\n",
      "@carolineleiwee So true - I do the same. Twitter is great but I want to encourage DEEP reading and critical evaluat… https://t.co/ORG8Fg0OMD\n",
      "Job application reminder: University of Chicago has an opening for neuronal circuits, behavior DUE  https://t.co/NAgcsx6tkq\n",
      "Job application reminder: University of Oregon has an opening for Motor control, biomechanics, neurophysiology DUE… https://t.co/9EvzwEpA1l\n",
      "Job application reminder: Virginia Tech has an opening for Developmental psychology and decision neuroscience DUE B… https://t.co/Pr1bY4S5bQ\n",
      "Job application reminder: Georgetown University has an opening for neuropharmacology, neurophysiology or neuroscien… https://t.co/btBGTYHJM2\n",
      "Job application reminder: CalTech has an opening for Intersection of neuroscience, math, and computing DUE 11/30/20… https://t.co/kGO1rjfNqb\n"
     ]
    }
   ],
   "source": [
    "# read our own timeline\n",
    "for status in tweepy.Cursor(api.home_timeline).items(10):\n",
    "    # Process a single status\n",
    "    print(status.text)"
   ]
  },
  {
   "cell_type": "code",
   "execution_count": 5,
   "metadata": {},
   "outputs": [
    {
     "name": "stdout",
     "output_type": "stream",
     "text": [
      "Xiuye (Sue) Chen\n"
     ]
    }
   ],
   "source": [
    "# username\n",
    "user = api.me()\n",
    "print (user.name)"
   ]
  },
  {
   "cell_type": "code",
   "execution_count": 5,
   "metadata": {},
   "outputs": [
    {
     "name": "stdout",
     "output_type": "stream",
     "text": [
      "=====\n",
      "@PRINCES55490064 @Sminxy_Breezy @naledi_hobo @BlackTwittaSA_ @NeshNattie We healthy like that 😂😁😍 https://t.co/ug2L3VEn60\n",
      "=====\n",
      "@li_thesudani That’s the best I won’t eat all day knowing I’m going to family’s house for dinner 😂😍\n",
      "=====\n",
      "RT @RdenBoer82WX: Todays #Sunset in Brouwershaven, Holland 😍😍😍 @spann @B_Ubiquitous @EarthandClouds @LincsSkies @500pxrtg @DSunsets https:/…\n",
      "=====\n",
      "RT @xojessicaa1: I love sex so much, I wanna have sex after we have sex 😫😍 sex sex sex sex\n",
      "=====\n",
      "RT @ComradeArif: Like and Retweet this👇\n",
      "🌸 #EdeDrive \n",
      "🌹 #1FIRST \n",
      "💚 #1DDrive \n",
      "🌻 #GainwithEmi \n",
      "❤ #TeamWolFPack \n",
      "💘 #FamilyOfLoyals \n",
      "🌼 #ThalyDri…\n",
      "=====\n",
      "RT @UglyStickkk: ABS-CBN Ball 2018: Focusing on Edward Barber’s youth \n",
      "\n",
      "🖇 https://t.co/jCMcFarEoH \n",
      " 🖇 https://t.co/0AGwYNM8vt \n",
      "\n",
      "Article abo…\n",
      "=====\n",
      "RT @ohsshari: I love when series don’t wait a long time to drop the next season. With that being said… STAR IS IN LIKE A WEEK FOLKS🙌🏽🙌🏽🙌🏽😍\n",
      "=====\n",
      "Bad bitch super thick\n",
      "That's the way he like it 😜😩😍 https://t.co/FGTr5lKVps\n",
      "=====\n",
      "RT @heyitsmikeyx: The new iPhone Xs Max is 😍😍😍😍😍😍😍😍 https://t.co/2GYhjpZRmB\n",
      "=====\n",
      "RT @ErnieGnc: Damn.😩😍😍 https://t.co/ourJ3h68ln\n"
     ]
    }
   ],
   "source": [
    "# search for keyword\n",
    "keyword = \"😍\" # \"😋\"\n",
    "numberOfTweets = 10\n",
    "for tweet in tweepy.Cursor(api.search, keyword, lang=\"en\").items(numberOfTweets):\n",
    "    print(\"=====\")\n",
    "    print(tweet.text)"
   ]
  },
  {
   "cell_type": "code",
   "execution_count": 6,
   "metadata": {},
   "outputs": [
    {
     "name": "stdout",
     "output_type": "stream",
     "text": [
      "{'created_at': 'Tue Sep 18 19:01:48 +0000 2018', 'id': 1042126562349510656, 'id_str': '1042126562349510656', 'text': 'RT @ErnieGnc: Damn.😩😍😍 https://t.co/ourJ3h68ln', 'truncated': False, 'entities': {'hashtags': [], 'symbols': [], 'user_mentions': [{'screen_name': 'ErnieGnc', 'name': 'Ernie', 'id': 760227676577607681, 'id_str': '760227676577607681', 'indices': [3, 12]}], 'urls': [], 'media': [{'id': 1041881063700742144, 'id_str': '1041881063700742144', 'indices': [23, 46], 'media_url': 'http://pbs.twimg.com/ext_tw_video_thumb/1041881063700742144/pu/img/C9DWD_j87IBjCwUV.jpg', 'media_url_https': 'https://pbs.twimg.com/ext_tw_video_thumb/1041881063700742144/pu/img/C9DWD_j87IBjCwUV.jpg', 'url': 'https://t.co/ourJ3h68ln', 'display_url': 'pic.twitter.com/ourJ3h68ln', 'expanded_url': 'https://twitter.com/ErnieGnc/status/1041881188741382145/video/1', 'type': 'photo', 'sizes': {'large': {'w': 480, 'h': 600, 'resize': 'fit'}, 'small': {'w': 480, 'h': 600, 'resize': 'fit'}, 'thumb': {'w': 150, 'h': 150, 'resize': 'crop'}, 'medium': {'w': 480, 'h': 600, 'resize': 'fit'}}, 'source_status_id': 1041881188741382145, 'source_status_id_str': '1041881188741382145', 'source_user_id': 760227676577607681, 'source_user_id_str': '760227676577607681'}]}, 'extended_entities': {'media': [{'id': 1041881063700742144, 'id_str': '1041881063700742144', 'indices': [23, 46], 'media_url': 'http://pbs.twimg.com/ext_tw_video_thumb/1041881063700742144/pu/img/C9DWD_j87IBjCwUV.jpg', 'media_url_https': 'https://pbs.twimg.com/ext_tw_video_thumb/1041881063700742144/pu/img/C9DWD_j87IBjCwUV.jpg', 'url': 'https://t.co/ourJ3h68ln', 'display_url': 'pic.twitter.com/ourJ3h68ln', 'expanded_url': 'https://twitter.com/ErnieGnc/status/1041881188741382145/video/1', 'type': 'video', 'sizes': {'large': {'w': 480, 'h': 600, 'resize': 'fit'}, 'small': {'w': 480, 'h': 600, 'resize': 'fit'}, 'thumb': {'w': 150, 'h': 150, 'resize': 'crop'}, 'medium': {'w': 480, 'h': 600, 'resize': 'fit'}}, 'source_status_id': 1041881188741382145, 'source_status_id_str': '1041881188741382145', 'source_user_id': 760227676577607681, 'source_user_id_str': '760227676577607681', 'video_info': {'aspect_ratio': [4, 5], 'duration_millis': 52570, 'variants': [{'bitrate': 256000, 'content_type': 'video/mp4', 'url': 'https://video.twimg.com/ext_tw_video/1041881063700742144/pu/vid/180x224/mk714rsXVZIhRaj9.mp4?tag=5'}, {'content_type': 'application/x-mpegURL', 'url': 'https://video.twimg.com/ext_tw_video/1041881063700742144/pu/pl/J90RHVCf8euJZX4U.m3u8?tag=5'}, {'bitrate': 2176000, 'content_type': 'video/mp4', 'url': 'https://video.twimg.com/ext_tw_video/1041881063700742144/pu/vid/480x600/TvkjFQfTlekwSAF3.mp4?tag=5'}, {'bitrate': 832000, 'content_type': 'video/mp4', 'url': 'https://video.twimg.com/ext_tw_video/1041881063700742144/pu/vid/360x450/w_PuZdK0JLsQqgOa.mp4?tag=5'}]}, 'additional_media_info': {'monetizable': False, 'source_user': {'id': 760227676577607681, 'id_str': '760227676577607681', 'name': 'Ernie', 'screen_name': 'ErnieGnc', 'location': '704 • North Carolina • 336', 'description': '@erniegnc / erniegnc@gmail.com | @erniegnc1', 'url': None, 'entities': {'description': {'urls': []}}, 'protected': False, 'followers_count': 13133, 'friends_count': 8326, 'listed_count': 303, 'created_at': 'Mon Aug 01 21:36:17 +0000 2016', 'favourites_count': 20415, 'utc_offset': None, 'time_zone': None, 'geo_enabled': False, 'verified': False, 'statuses_count': 1124, 'lang': 'en', 'contributors_enabled': False, 'is_translator': False, 'is_translation_enabled': False, 'profile_background_color': '000000', 'profile_background_image_url': 'http://abs.twimg.com/images/themes/theme1/bg.png', 'profile_background_image_url_https': 'https://abs.twimg.com/images/themes/theme1/bg.png', 'profile_background_tile': False, 'profile_image_url': 'http://pbs.twimg.com/profile_images/761007152131485697/kfJ3pIZT_normal.jpg', 'profile_image_url_https': 'https://pbs.twimg.com/profile_images/761007152131485697/kfJ3pIZT_normal.jpg', 'profile_banner_url': 'https://pbs.twimg.com/profile_banners/760227676577607681/1516163908', 'profile_link_color': 'E81C4F', 'profile_sidebar_border_color': '000000', 'profile_sidebar_fill_color': '000000', 'profile_text_color': '000000', 'profile_use_background_image': False, 'has_extended_profile': True, 'default_profile': False, 'default_profile_image': False, 'following': False, 'follow_request_sent': False, 'notifications': False, 'translator_type': 'none'}}}]}, 'metadata': {'iso_language_code': 'en', 'result_type': 'recent'}, 'source': '<a href=\"http://twitter.com/download/iphone\" rel=\"nofollow\">Twitter for iPhone</a>', 'in_reply_to_status_id': None, 'in_reply_to_status_id_str': None, 'in_reply_to_user_id': None, 'in_reply_to_user_id_str': None, 'in_reply_to_screen_name': None, 'user': {'id': 50793491, 'id_str': '50793491', 'name': '🇩🇴Diogenes♎️', 'screen_name': 'DominicanUlove', 'location': '', 'description': '♎️22♎️ 🇩🇴Dominican🇩🇴 •Figuring out life one stumble at a time •📸 Low-Key Photographer •IG:Dominicanulove_ •Snapchat:Dominicanulove', 'url': None, 'entities': {'description': {'urls': []}}, 'protected': False, 'followers_count': 305, 'friends_count': 199, 'listed_count': 2, 'created_at': 'Thu Jun 25 22:31:43 +0000 2009', 'favourites_count': 15535, 'utc_offset': None, 'time_zone': None, 'geo_enabled': True, 'verified': False, 'statuses_count': 24720, 'lang': 'en', 'contributors_enabled': False, 'is_translator': False, 'is_translation_enabled': False, 'profile_background_color': 'C0DEED', 'profile_background_image_url': 'http://abs.twimg.com/images/themes/theme1/bg.png', 'profile_background_image_url_https': 'https://abs.twimg.com/images/themes/theme1/bg.png', 'profile_background_tile': False, 'profile_image_url': 'http://pbs.twimg.com/profile_images/965122328094003200/9PufXPvg_normal.jpg', 'profile_image_url_https': 'https://pbs.twimg.com/profile_images/965122328094003200/9PufXPvg_normal.jpg', 'profile_banner_url': 'https://pbs.twimg.com/profile_banners/50793491/1524321889', 'profile_link_color': '1DA1F2', 'profile_sidebar_border_color': 'C0DEED', 'profile_sidebar_fill_color': 'DDEEF6', 'profile_text_color': '333333', 'profile_use_background_image': True, 'has_extended_profile': False, 'default_profile': True, 'default_profile_image': False, 'following': False, 'follow_request_sent': False, 'notifications': False, 'translator_type': 'none'}, 'geo': None, 'coordinates': None, 'place': None, 'contributors': None, 'retweeted_status': {'created_at': 'Tue Sep 18 02:46:47 +0000 2018', 'id': 1041881188741382145, 'id_str': '1041881188741382145', 'text': 'Damn.😩😍😍 https://t.co/ourJ3h68ln', 'truncated': False, 'entities': {'hashtags': [], 'symbols': [], 'user_mentions': [], 'urls': [], 'media': [{'id': 1041881063700742144, 'id_str': '1041881063700742144', 'indices': [9, 32], 'media_url': 'http://pbs.twimg.com/ext_tw_video_thumb/1041881063700742144/pu/img/C9DWD_j87IBjCwUV.jpg', 'media_url_https': 'https://pbs.twimg.com/ext_tw_video_thumb/1041881063700742144/pu/img/C9DWD_j87IBjCwUV.jpg', 'url': 'https://t.co/ourJ3h68ln', 'display_url': 'pic.twitter.com/ourJ3h68ln', 'expanded_url': 'https://twitter.com/ErnieGnc/status/1041881188741382145/video/1', 'type': 'photo', 'sizes': {'large': {'w': 480, 'h': 600, 'resize': 'fit'}, 'small': {'w': 480, 'h': 600, 'resize': 'fit'}, 'thumb': {'w': 150, 'h': 150, 'resize': 'crop'}, 'medium': {'w': 480, 'h': 600, 'resize': 'fit'}}}]}, 'extended_entities': {'media': [{'id': 1041881063700742144, 'id_str': '1041881063700742144', 'indices': [9, 32], 'media_url': 'http://pbs.twimg.com/ext_tw_video_thumb/1041881063700742144/pu/img/C9DWD_j87IBjCwUV.jpg', 'media_url_https': 'https://pbs.twimg.com/ext_tw_video_thumb/1041881063700742144/pu/img/C9DWD_j87IBjCwUV.jpg', 'url': 'https://t.co/ourJ3h68ln', 'display_url': 'pic.twitter.com/ourJ3h68ln', 'expanded_url': 'https://twitter.com/ErnieGnc/status/1041881188741382145/video/1', 'type': 'video', 'sizes': {'large': {'w': 480, 'h': 600, 'resize': 'fit'}, 'small': {'w': 480, 'h': 600, 'resize': 'fit'}, 'thumb': {'w': 150, 'h': 150, 'resize': 'crop'}, 'medium': {'w': 480, 'h': 600, 'resize': 'fit'}}, 'video_info': {'aspect_ratio': [4, 5], 'duration_millis': 52570, 'variants': [{'bitrate': 256000, 'content_type': 'video/mp4', 'url': 'https://video.twimg.com/ext_tw_video/1041881063700742144/pu/vid/180x224/mk714rsXVZIhRaj9.mp4?tag=5'}, {'content_type': 'application/x-mpegURL', 'url': 'https://video.twimg.com/ext_tw_video/1041881063700742144/pu/pl/J90RHVCf8euJZX4U.m3u8?tag=5'}, {'bitrate': 2176000, 'content_type': 'video/mp4', 'url': 'https://video.twimg.com/ext_tw_video/1041881063700742144/pu/vid/480x600/TvkjFQfTlekwSAF3.mp4?tag=5'}, {'bitrate': 832000, 'content_type': 'video/mp4', 'url': 'https://video.twimg.com/ext_tw_video/1041881063700742144/pu/vid/360x450/w_PuZdK0JLsQqgOa.mp4?tag=5'}]}, 'additional_media_info': {'monetizable': False}}]}, 'metadata': {'iso_language_code': 'en', 'result_type': 'recent'}, 'source': '<a href=\"http://twitter.com/download/iphone\" rel=\"nofollow\">Twitter for iPhone</a>', 'in_reply_to_status_id': None, 'in_reply_to_status_id_str': None, 'in_reply_to_user_id': None, 'in_reply_to_user_id_str': None, 'in_reply_to_screen_name': None, 'user': {'id': 760227676577607681, 'id_str': '760227676577607681', 'name': 'Ernie', 'screen_name': 'ErnieGnc', 'location': '704 • North Carolina • 336', 'description': '@erniegnc / erniegnc@gmail.com | @erniegnc1', 'url': None, 'entities': {'description': {'urls': []}}, 'protected': False, 'followers_count': 13133, 'friends_count': 8326, 'listed_count': 303, 'created_at': 'Mon Aug 01 21:36:17 +0000 2016', 'favourites_count': 20415, 'utc_offset': None, 'time_zone': None, 'geo_enabled': False, 'verified': False, 'statuses_count': 1124, 'lang': 'en', 'contributors_enabled': False, 'is_translator': False, 'is_translation_enabled': False, 'profile_background_color': '000000', 'profile_background_image_url': 'http://abs.twimg.com/images/themes/theme1/bg.png', 'profile_background_image_url_https': 'https://abs.twimg.com/images/themes/theme1/bg.png', 'profile_background_tile': False, 'profile_image_url': 'http://pbs.twimg.com/profile_images/761007152131485697/kfJ3pIZT_normal.jpg', 'profile_image_url_https': 'https://pbs.twimg.com/profile_images/761007152131485697/kfJ3pIZT_normal.jpg', 'profile_banner_url': 'https://pbs.twimg.com/profile_banners/760227676577607681/1516163908', 'profile_link_color': 'E81C4F', 'profile_sidebar_border_color': '000000', 'profile_sidebar_fill_color': '000000', 'profile_text_color': '000000', 'profile_use_background_image': False, 'has_extended_profile': True, 'default_profile': False, 'default_profile_image': False, 'following': False, 'follow_request_sent': False, 'notifications': False, 'translator_type': 'none'}, 'geo': None, 'coordinates': None, 'place': None, 'contributors': None, 'is_quote_status': False, 'retweet_count': 2772, 'favorite_count': 9565, 'favorited': False, 'retweeted': False, 'possibly_sensitive': False, 'lang': 'en'}, 'is_quote_status': False, 'retweet_count': 2772, 'favorite_count': 0, 'favorited': False, 'retweeted': False, 'possibly_sensitive': True, 'lang': 'en'}\n"
     ]
    }
   ],
   "source": [
    "print(tweet._json)"
   ]
  },
  {
   "cell_type": "code",
   "execution_count": 7,
   "metadata": {},
   "outputs": [
    {
     "name": "stdout",
     "output_type": "stream",
     "text": [
      "dict_keys(['created_at', 'id', 'id_str', 'text', 'truncated', 'entities', 'extended_entities', 'metadata', 'source', 'in_reply_to_status_id', 'in_reply_to_status_id_str', 'in_reply_to_user_id', 'in_reply_to_user_id_str', 'in_reply_to_screen_name', 'user', 'geo', 'coordinates', 'place', 'contributors', 'retweeted_status', 'is_quote_status', 'retweet_count', 'favorite_count', 'favorited', 'retweeted', 'possibly_sensitive', 'lang'])\n"
     ]
    }
   ],
   "source": [
    "dc = tweet._json\n",
    "print(dc.keys())"
   ]
  },
  {
   "cell_type": "code",
   "execution_count": 41,
   "metadata": {},
   "outputs": [
    {
     "name": "stdout",
     "output_type": "stream",
     "text": [
      "RT @ErnieGnc: Damn.😩😍😍 https://t.co/ourJ3h68ln\n",
      "['RT', ' ', '@ErnieGnc:', ' ', 'Damn.😩😍😍', ' ', 'https://t.co/ourJ3h68ln']\n",
      "['@ErnieGnc:']\n",
      "['RT']\n"
     ]
    }
   ],
   "source": [
    "str = dc.get('text')\n",
    "print(str)\n",
    "\n",
    "import re\n",
    "s2 = re.split('( )', str) # this is a list\n",
    "print(s2)\n",
    "#print(s2.startswith('@'))\n",
    "#[ t for t in s2 if t.startswith('s') ]\n",
    "print(re.findall(r'[@]\\S*', str))\n",
    "print(re.findall(r'[RT]\\S*', str))"
   ]
  },
  {
   "cell_type": "code",
   "execution_count": 9,
   "metadata": {},
   "outputs": [],
   "source": [
    "from time import sleep\n",
    "from datetime import datetime\n",
    "from textblob import TextBlob #For Sentiment Analysis\n",
    "import matplotlib.pyplot as plt\n"
   ]
  },
  {
   "cell_type": "code",
   "execution_count": 11,
   "metadata": {},
   "outputs": [],
   "source": [
    "polarity_list = []\n",
    "numbers_list = []\n",
    "number = 1"
   ]
  },
  {
   "cell_type": "code",
   "execution_count": 12,
   "metadata": {},
   "outputs": [],
   "source": [
    "# search for keyword\n",
    "keyword = \"cake\"\n",
    "numberOfTweets = 10\n",
    "for tweet in tweepy.Cursor(api.search, keyword, lang=\"en\").items(numberOfTweets):\n",
    "    try:\n",
    "        analysis = TextBlob(tweet.text)\n",
    "        analysis = analysis.sentiment\n",
    "        polarity = analysis.polarity\n",
    "        polarity_list.append(polarity)\n",
    "        numbers_list.append(number)\n",
    "        number = number + 1\n",
    "    except tweepy.TweepError as e:\n",
    "        print(e.reason)"
   ]
  },
  {
   "cell_type": "code",
   "execution_count": 27,
   "metadata": {
    "scrolled": true
   },
   "outputs": [
    {
     "data": {
      "image/png": "[encoded data removed]",
      "text/plain": [
       "<Figure size 432x288 with 1 Axes>"
      ]
     },
     "metadata": {
      "needs_background": "light"
     },
     "output_type": "display_data"
    }
   ],
   "source": [
    "axes = plt.gca()\n",
    "axes.set_ylim([-1, 2])\n",
    "plt.scatter(numbers_list, polarity_list)\n",
    "\n",
    "averagePolarity = (sum(polarity_list))/(len(polarity_list))\n",
    "averagePolarity = \"{0:.2f}\".format(averagePolarity)\n",
    "#averagePolarity = \"{0:.0f}%\".format(averagePolarity * 100)\n",
    "time  = datetime.now().strftime(\"At: %H:%M\\nOn: %m-%d-%y\")\n",
    "plt.text(5, 1, \"Average Sentiment:  \" + str(averagePolarity) + \"\\n\" + time, fontsize=12, bbox = dict(facecolor='none', edgecolor='black', boxstyle='square, pad = 1'))\n",
    "\n",
    "plt.title(\"Sentiment of \" + keyword + \" on Twitter\") \n",
    "plt.xlabel(\"Number of Tweets\")\n",
    "plt.ylabel(\"Sentiment\")\n",
    "plt.show()"
   ]
  },
  {
   "cell_type": "code",
   "execution_count": null,
   "metadata": {},
   "outputs": [],
   "source": []
  },
  {
   "cell_type": "code",
   "execution_count": null,
   "metadata": {},
   "outputs": [],
   "source": []
  }
 ],
 "metadata": {
  "kernelspec": {
   "display_name": "Python (insight)",
   "language": "python",
   "name": "insight"
  },
  "language_info": {
   "codemirror_mode": {
    "name": "ipython",
    "version": 3
   },
   "file_extension": ".py",
   "mimetype": "text/x-python",
   "name": "python",
   "nbconvert_exporter": "python",
   "pygments_lexer": "ipython3",
   "version": "3.6.6"
  },
  "varInspector": {
   "cols": {
    "lenName": 16,
    "lenType": 16,
    "lenVar": 40
   },
   "kernels_config": {
    "python": {
     "delete_cmd_postfix": "",
     "delete_cmd_prefix": "del ",
     "library": "var_list.py",
     "varRefreshCmd": "print(var_dic_list())"
    },
    "r": {
     "delete_cmd_postfix": ") ",
     "delete_cmd_prefix": "rm(",
     "library": "var_list.r",
     "varRefreshCmd": "cat(var_dic_list()) "
    }
   },
   "oldHeight": 359,
   "position": {
    "height": "381px",
    "left": "1082px",
    "right": "20px",
    "top": "29px",
    "width": "357px"
   },
   "types_to_exclude": [
    "module",
    "function",
    "builtin_function_or_method",
    "instance",
    "_Feature"
   ],
   "varInspector_section_display": "block",
   "window_display": true
  }
 },
 "nbformat": 4,
 "nbformat_minor": 2
}
