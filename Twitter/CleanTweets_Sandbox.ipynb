{
 "cells": [
  {
   "cell_type": "code",
   "execution_count": 1,
   "metadata": {},
   "outputs": [],
   "source": [
    "import os\n",
    "import pickle\n",
    "import numpy as np\n",
    "import re\n",
    "import emoji\n",
    "import regex"
   ]
  },
  {
   "cell_type": "code",
   "execution_count": 2,
   "metadata": {},
   "outputs": [],
   "source": [
    "def extract_emojis(text):\n",
    "\n",
    "    emoji_list = []\n",
    "    data = regex.findall(r'\\X', text)\n",
    "    for word in data:\n",
    "        if any(char in emoji.UNICODE_EMOJI for char in word):\n",
    "            emoji_list.append(word)\n",
    "\n",
    "    return emoji_list"
   ]
  },
  {
   "cell_type": "code",
   "execution_count": 3,
   "metadata": {},
   "outputs": [],
   "source": [
    "def delete_emojis(text):\n",
    "\n",
    "    emoji_list = []\n",
    "    data = regex.findall(r'\\X', text)\n",
    "    for word in data:\n",
    "        if any(char in emoji.UNICODE_EMOJI for char in word):\n",
    "            \n",
    "            text = re.sub(\"|\".join(word), \"\", text)\n",
    "\n",
    "    return text"
   ]
  },
  {
   "cell_type": "code",
   "execution_count": 4,
   "metadata": {},
   "outputs": [
    {
     "name": "stdout",
     "output_type": "stream",
     "text": [
      "['😀', '😁', '😂', '🤣', '😃', '😄', '😅', '😆', '😉', '😊', '😋', '😎', '😍', '😘', '😗', '😙', '😚', '☺️', '🙂', '🤗', '🤔', '😐', '😑', '😶', '🙄', '😏', '😣', '😥', '😮', '🤐', '😯', '😪', '😫', '😴', '😌', '😛', '😜', '😝', '🤤', '😒', '😓', '😔', '😕', '🙃', '🤑', '😲', '☹️', '🙁', '😖', '😞', '😟', '😤', '😢', '😭', '😦', '😧', '😨', '😩', '😬', '😰', '😱', '😳', '😵', '😡', '😠', '😷', '🤒', '🤕', '🤢', '🤧', '😇', '🤠', '🤡', '🤥', '🤓']\n",
      "75\n"
     ]
    }
   ],
   "source": [
    "# load emoji list\n",
    "fullfile = os.path.expanduser(\"~/Dropbox/insight/Emoji/\"+'mySmileys.p')\n",
    "with open(fullfile, 'rb') as fp:\n",
    "    emoji_list = pickle.load(fp)\n",
    "print(emoji_list)\n",
    "print(len(emoji_list))"
   ]
  },
  {
   "cell_type": "markdown",
   "metadata": {},
   "source": [
    "## 1. Testing: word-to-vec with TfidfVectorizer"
   ]
  },
  {
   "cell_type": "code",
   "execution_count": 19,
   "metadata": {},
   "outputs": [
    {
     "name": "stdout",
     "output_type": "stream",
     "text": [
      "{'😀': 0, '😁': 1, '😂': 2, '🤣': 3, '😃': 4, '😄': 5, '😅': 6, '😆': 7, '😉': 8, '😊': 9, '😋': 10, '😎': 11, '😍': 12, '😘': 13, '😗': 14, '😙': 15, '😚': 16, '☺️': 17, '🙂': 18, '🤗': 19, '🤔': 20, '😐': 21, '😑': 22, '😶': 23, '🙄': 24, '😏': 25, '😣': 26, '😥': 27, '😮': 28, '🤐': 29, '😯': 30, '😪': 31, '😫': 32, '😴': 33, '😌': 34, '😛': 35, '😜': 36, '😝': 37, '🤤': 38, '😒': 39, '😓': 40, '😔': 41, '😕': 42, '🙃': 43, '🤑': 44, '😲': 45, '☹️': 46, '🙁': 47, '😖': 48, '😞': 49, '😟': 50, '😤': 51, '😢': 52, '😭': 53, '😦': 54, '😧': 55, '😨': 56, '😩': 57, '😬': 58, '😰': 59, '😱': 60, '😳': 61, '😵': 62, '😡': 63, '😠': 64, '😷': 65, '🤒': 66, '🤕': 67, '🤢': 68, '🤧': 69, '😇': 70, '🤠': 71, '🤡': 72, '🤥': 73, '🤓': 74}\n"
     ]
    }
   ],
   "source": [
    "N = []\n",
    "for ii in range(75):\n",
    "    N.append(ii)\n",
    "Edict = dict(zip(emoji_list, N))\n",
    "print(Edict)"
   ]
  },
  {
   "cell_type": "code",
   "execution_count": 5,
   "metadata": {},
   "outputs": [
    {
     "data": {
      "text/plain": [
       "'     and other words! '"
      ]
     },
     "execution_count": 5,
     "metadata": {},
     "output_type": "execute_result"
    }
   ],
   "source": [
    "def sanitize_tweets(tweet):\n",
    "    # delete twitter-specific tags\n",
    "    b1 = re.findall(r'@\\S*', tweet) # Twitter user names\n",
    "    b2 = re.findall(r'RT\\S*', tweet) # \"RT\"\n",
    "    b3 = re.findall(r'http\\S*', tweet) # links\n",
    "\n",
    "    c = tweet #list(tweet.split())\n",
    "    for b in b1:\n",
    "        c = re.sub(re.escape(b),\"\",c)\n",
    "    for b in b2:\n",
    "        c = re.sub(re.escape(b),\"\",c)\n",
    "    for b in b3:\n",
    "        c = re.sub(re.escape(b),\"\",c)\n",
    "    return c\n",
    "    \n",
    "tweet = \"RT @aa RT @bbb https:__ and other words! httpsaa\" #RawT[-1]\n",
    "sanitize_tweets(tweet)"
   ]
  },
  {
   "cell_type": "code",
   "execution_count": 6,
   "metadata": {},
   "outputs": [],
   "source": [
    "# TASK: Build a vectorizer that splits strings into sequence of 1 to 3\n",
    "# characters instead of word tokens\n",
    "from sklearn.feature_extraction.text import TfidfVectorizer\n",
    "vectorizer = TfidfVectorizer(ngram_range=(1, 3), analyzer='word',# min_df=3, ngram_range=(1, 3)\n",
    "                             max_features = 2000, #stop_words='english',\n",
    "                             token_pattern=r\"(?u)\\b\\w\\w+\\b|!|\\?|\\\"|\\'\")\n",
    "\n",
    "# https://stackoverflow.com/questions/39254134/how-to-preserve-punctuation-marks-in-scikit-learn-text-countvectorizer-or-tfidfv"
   ]
  },
  {
   "cell_type": "code",
   "execution_count": 11,
   "metadata": {},
   "outputs": [],
   "source": [
    "fullfile = os.path.expanduser(\"~/Dropbox/insight_datadir/5k/\"+'outfile'+'😍'+'.p') # '😱'+'.p')\n",
    "with open(fullfile, 'rb') as fp:\n",
    "    Tweets = pickle.load(fp)"
   ]
  },
  {
   "cell_type": "code",
   "execution_count": 38,
   "metadata": {},
   "outputs": [
    {
     "name": "stdout",
     "output_type": "stream",
     "text": [
      "😀\n",
      "😁\n",
      "😂\n",
      "🤣\n",
      "😃\n",
      "😄\n",
      "😅\n",
      "😆\n",
      "😉\n",
      "😊\n",
      "😋\n",
      "😎\n",
      "😍\n",
      "😘\n",
      "😗\n",
      "😙\n",
      "😚\n",
      "☺️\n",
      "🙂\n",
      "🤗\n",
      "🤔\n",
      "😐\n",
      "😑\n",
      "😶\n",
      "🙄\n",
      "😏\n",
      "😣\n",
      "😥\n",
      "😮\n",
      "🤐\n",
      "😯\n",
      "😪\n",
      "😫\n",
      "😴\n",
      "😌\n",
      "😛\n",
      "😜\n",
      "😝\n",
      "🤤\n",
      "😒\n",
      "😓\n",
      "😔\n",
      "😕\n",
      "🙃\n",
      "🤑\n",
      "😲\n",
      "☹️\n",
      "🙁\n",
      "😖\n",
      "😞\n",
      "😟\n",
      "😤\n",
      "😢\n",
      "😭\n",
      "😦\n",
      "😧\n",
      "😨\n",
      "😩\n",
      "😬\n",
      "😰\n",
      "😱\n",
      "😳\n",
      "😵\n",
      "😡\n",
      "😠\n",
      "😷\n",
      "🤒\n",
      "🤕\n",
      "🤢\n",
      "🤧\n",
      "😇\n",
      "🤠\n",
      "🤡\n",
      "🤥\n",
      "🤓\n"
     ]
    }
   ],
   "source": [
    "# preprocessing with removing repeat tweets\n",
    "# IN\n",
    "target_names = emoji_list # ['😍','😡'] # \n",
    "\n",
    "# OUT\n",
    "rawdata = []\n",
    "data = []\n",
    "raw_target = []\n",
    "Len = []\n",
    "filenames = []\n",
    "target_arr = np.zeros((5000*75, 75))\n",
    "search_emoji = []\n",
    "\n",
    "# main loop\n",
    "ii = 0\n",
    "for keyword in target_names:\n",
    "    print(keyword)\n",
    "    fullfile = os.path.expanduser(\"~/Dropbox/insight_datadir/5k/\"+'outfile'+keyword+'.p')\n",
    "    with open(fullfile, 'rb') as fp:\n",
    "        Tweets = pickle.load(fp)\n",
    "\n",
    "        # remove repeat tweets\n",
    "        myset = set(Tweets)\n",
    "        Tweets_unique = list(myset)\n",
    "\n",
    "        Text = []\n",
    "        RawText = []\n",
    "        E = []\n",
    "        for tweet in Tweets_unique:\n",
    "            # remove tweets with more than one smiley\n",
    "            emojis = extract_emojis(tweet)\n",
    "            a = set(emojis) & set(emoji_list)\n",
    "            a2 = list(a)\n",
    "            if len(a2)==1 and a2[0]==keyword: # else: deal with later if doing multi-D target\n",
    "                \n",
    "                # save raw tweet\n",
    "                RawText.append(tweet)\n",
    "                # take out all emojis from input tweets\n",
    "                emojis = extract_emojis(tweet)\n",
    "                E.append(emojis)\n",
    "\n",
    "#                 # save emojis into target array \n",
    "#                 for x in emojis:\n",
    "#                     if x in emoji_list:\n",
    "#                         ix = Edict[x]\n",
    "#                         target_arr[ii,ix] = 1\n",
    "\n",
    "                # save sanitized text\n",
    "                text = sanitize_tweets(tweet)\n",
    "                text = delete_emojis(text)\n",
    "                Text.append(text)\n",
    "                ii = ii+1\n",
    "            \n",
    "        data = data + Text\n",
    "        rawdata = rawdata + RawText\n",
    "        raw_target = raw_target + E\n",
    "        filenames = filenames + [fullfile]\n",
    "        search_emoji = search_emoji + [keyword]\n",
    "        Len.append(len(Text))"
   ]
  },
  {
   "cell_type": "code",
   "execution_count": null,
   "metadata": {},
   "outputs": [],
   "source": []
  },
  {
   "cell_type": "code",
   "execution_count": null,
   "metadata": {},
   "outputs": [],
   "source": []
  },
  {
   "cell_type": "code",
   "execution_count": 28,
   "metadata": {},
   "outputs": [
    {
     "name": "stdout",
     "output_type": "stream",
     "text": [
      "['😍', '❤️', '🎶', '🎤', '🎂', '🎉', '🎁', '🎈', '😍', '🌟', '💫']\n",
      "{'😍'}\n",
      "True\n",
      "True\n"
     ]
    }
   ],
   "source": [
    "tweet = \"😍 ❤️🎶🎤🎂🎉🎁🎈😍🌟💫 shsha;lsdij \"\n",
    "emojis = extract_emojis(tweet)\n",
    "print(emojis)\n",
    "a = set(emojis) & set(emoji_list)\n",
    "a2 = list(a)\n",
    "print(a)\n",
    "print(len(a2)==1 and a2[0]=='😍')\n",
    "print(a2[0]=='😍')"
   ]
  },
  {
   "cell_type": "code",
   "execution_count": 14,
   "metadata": {},
   "outputs": [
    {
     "name": "stdout",
     "output_type": "stream",
     "text": [
      "86\n",
      "['❤️', '🎶', '🎤', '🎂', '🎉', '🎁', '🎈', '😍', '🌟', '💫', '🎇']\n",
      "['😍', '😍']\n",
      "['😍']\n",
      "['😍']\n",
      "['♥️', '♥️', '♥️', '😘', '😘', '😍', '😇']\n",
      "['😍', '💖', '💖']\n",
      "['😍', '😍', '😍', '😍', '😍', '😍']\n",
      "['😱', '😱', '😱', '😱', '😱', '😱', '😱', '😱', '😱', '😱', '😱']\n",
      "['💃', '💃', '💃', '😘', '😍', '💕']\n",
      "['😍']\n",
      "['😍', '😍', '😍', '❤️']\n",
      "['👏', '👏', '👏', '😍', '👶', '💦', '💖']\n",
      "['😍', '😭', '💓']\n",
      "['😍']\n",
      "['😍', '💜']\n",
      "['😍']\n",
      "['🎉', '🎉', '🎁', '🎁', '💰', '✅', '✅']\n",
      "['😍']\n",
      "['😍']\n",
      "['😍', '😘']\n",
      "['🙌', '😍', '👏']\n",
      "['😩', '😍', '💯', '🔥', '🔥']\n",
      "['😍']\n",
      "['😍']\n",
      "['😍']\n",
      "['😍']\n",
      "['😍', '😍', '😍', '😻', '😻', '😻']\n",
      "['😍', '😍', '😍', '😍']\n",
      "['😍']\n",
      "['😍', '😍']\n",
      "['😍']\n",
      "['😍', '😍', '👑', '👑']\n",
      "[]\n",
      "['😍']\n",
      "[]\n",
      "['😍']\n",
      "['😍', '🥀']\n",
      "['😍', '😘']\n",
      "['😍']\n",
      "['😍']\n",
      "['😍', '🐘']\n",
      "['😍', '😍']\n",
      "['😭', '😭', '😭', '😍', '😍', '😍', '😍', '😍', '😍', '😍']\n",
      "['😇', '😭', '😍', '😘']\n",
      "['💚', '😊']\n",
      "['😍', '🐶', '🐶', '🐶', '🐶', '🐶', '🐶', '🐶', '🐶', '🐶']\n",
      "['😍']\n",
      "[]\n",
      "['😍', '😍', '😍', '😍', '🔥', '❤️']\n",
      "['😍']\n",
      "['😍']\n",
      "['😍']\n",
      "['😍']\n",
      "['😇', '😍', '😘']\n",
      "['💕']\n",
      "['😘', '😘', '😍']\n",
      "[]\n",
      "['😍']\n",
      "['😍', '🔥', '🔥', '🔥']\n",
      "[]\n",
      "['😍']\n",
      "['😍', '😍', '😍']\n",
      "['😍']\n",
      "['💦', '💦', '😍']\n",
      "[]\n",
      "['😍']\n",
      "['😛', '😍', '🙌', '🙋', '🙆']\n",
      "['😍', '😍', '😘', '😘', '😬', '😬']\n",
      "['😭', '😭', '😭', '😂', '😭', '😂', '😂', '😍', '😍', '😍']\n",
      "['😍']\n",
      "['😍']\n",
      "['😍', '😍', '😍', '💃', '💃', '💃']\n",
      "['😍', '😍']\n",
      "['😍', '😍', '💙', '💦', '💜', '💙', '💟', '💙', '💜', '💦', '💙']\n",
      "['\\U0001f996', '\\U0001f995', '😍', '👍']\n",
      "[]\n",
      "['🐱', '😍', '😍']\n",
      "['😍']\n",
      "['😮', '😍']\n",
      "['💖', '😍']\n",
      "['😍']\n",
      "['😍', '😤']\n",
      "['😍']\n",
      "['😍', '😍', '😍', '😭', '😭', '😭']\n",
      "['😍']\n",
      "['😍', '😊', '🐶']\n"
     ]
    }
   ],
   "source": [
    "mylist = Tweets[:100]\n",
    "myset = set(mylist)\n",
    "mynewlist = list(myset)\n",
    "print(len(mynewlist))\n",
    "for tweet in mynewlist:\n",
    "    emojis = extract_emojis(tweet)\n",
    "    print(emojis)"
   ]
  },
  {
   "cell_type": "code",
   "execution_count": 15,
   "metadata": {},
   "outputs": [
    {
     "name": "stdout",
     "output_type": "stream",
     "text": [
      "RT @WORLDMUSICAWARD: Happy 26th Birthday to #EXO's very handsome and talented #CHEN! #HappyChenDay! @weareoneEXO\n",
      "❤️🇰🇷🎶🎤🎂🎉🎁🎈😍🌟💫🎇  \n",
      "https://t…❤️🎶🎤🎂🎉🎁🎈😍🌟💫🎇\n",
      "----------------\n",
      "RT @wx8: The buoy cam tonight in South Haven 10/10 😍😍 https://t.co/WYSrUmNYcI😍😍\n",
      "----------------\n",
      "RT @SundayChants: Volleyed rabona goal from outside the box. Class. 😍 https://t.co/zFerMsOGpY😍\n",
      "----------------\n",
      "RT @RyderCupEurope: In case you weren't already excited 😍\n",
      "\n",
      "#RyderCup #TeamEurope https://t.co/7YerfQROe7😍\n",
      "----------------\n",
      "@yejiapshai You're welcome pooo 😍💖💖😍💖💖\n",
      "----------------\n",
      "@takethat Love it 😍😍😍😍😍😍😍😍😍😍😍😍\n",
      "----------------\n",
      "@ColorsTV @sharmarashmi20 @VivianDsena01 @RubiDilaik Precap: oh no😱😱😱😱😱😱😱😱😱😱😱..wht if Agni tells Jolly tht Khushi i… https://t.co/XkA1mLZWQf😱😱😱😱😱😱😱😱😱😱😱\n",
      "----------------\n",
      "Kate Winslet 😍😍\n",
      "----------------\n",
      "Congratulations @AssaultSethuuu for 1K Viswasamana Followers 😍😍😍\n",
      "#Viswasam ❤️😍😍😍❤️\n",
      "----------------\n",
      "RT @Ryan_CaoDat: The baby( about 1 year old) can swim well!👏👏👏😍👶💦💖 https://t.co/iJE4z1VZTa👏👏👏😍👶💦💖\n",
      "----------------\n",
      "My boy so cute 😍.😍\n",
      "----------------\n",
      "RT @daydreamer7667: GOT7's spotify header 😍💜 \n",
      " https://t.co/H1IVkuMmKd\n",
      "#GOT7 #갓세븐 #PresentYOU #Lullaby @GOT7Official https://t.co/cigROK60Dm😍💜\n",
      "----------------\n",
      "@KodakBlack1k I love you 😍😍\n",
      "----------------\n",
      "RT @oldiesclub: Meet Sybil 😍 Sybil is a 10+ year old Yorkie who has just arrived in Oldies Club care. Sybil will be under assessment for th…😍\n",
      "----------------\n",
      "Yes please! 😍 https://t.co/a54975qdBO😍\n",
      "----------------\n",
      "RT @PinkBoutiqueUK: IT'S THAT TIME AGAIN! 🙌😍 RT and FOLLOW for your chance to win a £100 voucher  👏 #freebiefriday #competition #giveaway h…🙌😍👏\n",
      "----------------\n",
      "@urjchaeyeon @PRODUCESIAR nunna dissy 😍😍\n",
      "----------------\n",
      "@JordanPeele AHHHHHHHHHHH!! THIS IS SO FUCKING GREAT!! 😍😍\n",
      "----------------\n",
      "@YOSHEROSE Then I’m gna go out to have my lunch 😍😍\n",
      "----------------\n",
      "RT @ChuBoi: Goal of my life from Sarr 😍 https://t.co/bDb3Fnrr9w😍\n",
      "----------------\n",
      "@radin0007 Yeesss! 😍😍😍😻😻😻😍😍😍😻😻😻\n",
      "----------------\n",
      "@becslovesTT @HowardDonald Love him !!! 😍😍😍😍😍😍😍😍\n",
      "----------------\n",
      "RT @izzat_syafie: Ｃａｎ＇ｔ　Ｔａｋｅ　Ｍｙ　Ｅｙｅｓ　Ｏｆ　Ｙｏｕ 😍 https://t.co/pscttayuyd😍\n",
      "----------------\n",
      "@tweyj96 @GOT7Official I really like it too 😍😍 when ever you think he coulnt look better he comes around the corner… https://t.co/EgmstNznM9😍😍\n",
      "----------------\n",
      "RT @alyyy0469: i failed my physics test. 😍 https://t.co/pIBWt8r1jz😍\n",
      "----------------\n",
      "RT @The_BForce: A vision 😍😍👑👑 https://t.co/HkLZTPSgXi😍😍👑👑\n",
      "----------------\n",
      "RT @Animalzoo22: \"Cat vs catsnake\" &lt;- That floop in the end 😍 https://t.co/tR0pTncO7g😍\n",
      "----------------\n",
      "RT @Itsdogsvscats: Head rubs😍 https://t.co/0UForeHa9f😍\n",
      "----------------\n",
      "RT @meothmans: RT may be my sister’s husband is on your TL 😍🥀 https://t.co/8ZkmekPG5D😍🥀\n",
      "----------------\n",
      "@aleeintheskyy He is so pretty 😍😍\n",
      "----------------\n",
      "RT @Dinahscrown: DINAH IS REALLY BEAUTIFUL 😍\n",
      "\n",
      "#BottledUpOutNow https://t.co/ZaFM62MOZu😍\n",
      "----------------\n",
      "RT @iloveelephant26: There is NOTHING cuter than a baby elephant 😍  \n",
      " from @thesafaricottages  \n",
      "🐘#elephant #elephants #elephantlove #saveel…😍🐘\n",
      "----------------\n",
      "@fixmyhrtddl @BigHitEnt 'Wolf Prince' Jin😍😍😍😍\n",
      "----------------\n",
      "RT @kissyeollips: Chanyeol's Vogue Korea October 2018 Issue 💚\n",
      "Our Tommy Boy is not just a pretty face, but the star of the show 😊 His tall…💚😊\n",
      "----------------\n",
      "RT @BBCWorld: 😍 Meet the cutest and newest recruits for Chile's national police force 🐶🐶🐶🐶🐶🐶🐶🐶🐶 https://t.co/lLwVO7mB7a😍🐶🐶🐶🐶🐶🐶🐶🐶🐶\n",
      "----------------\n",
      "GOT7 IS LEADINGGG!!! 😍 #LULLABY #GOT7 #MCOUNTDOWN \n",
      "VOTE HERE: https://t.co/94NgQGh32V https://t.co/2DwSwhblD0😍\n",
      "----------------\n",
      "The new iPhone update 😍😍😍😍🔥❤️😍😍😍😍🔥❤️\n",
      "----------------\n",
      "RT @cel_antonio12: I think we can all agree that we are shook by those outfits. We want more 😍\n",
      "\n",
      "PS. The closeup on Jinyoung at ending is li…😍\n",
      "----------------\n",
      "RT @NAgarwal8: Picture of the day😍 https://t.co/F9CpHOMFUm😍\n",
      "----------------\n",
      "RT @YoohyeonWhat: Hee-jin\n",
      "(LOONA)\n",
      "Pencil\n",
      "---------------------\n",
      "I love her so much! She's my bias😍\n",
      "-----------------------------\n",
      "-\n",
      "-\n",
      "-\n",
      "-&gt; #h…😍\n",
      "----------------\n",
      "@Marge_theBrave Awe... I can bring some and a bucket of salt. Elo Marge you have beautiful eyes. 😍😍\n",
      "----------------\n",
      "RT @omgitslolly: @RYESOREO Can y’all just get married all ready ong goals 😍😍\n",
      "----------------\n",
      "@fiah213 @_Twinndiesel An Andy Mineo review 😍🔥🔥🔥 bars on bars😍🔥🔥🔥\n",
      "----------------\n",
      "RT @markantardesign: 2021 @MercedesAMGF1 with a @LewisHamilton twist! 😍\n",
      "\n",
      "Follow me on Instagram for more: https://t.co/kNXv3ZNaMb https://t…😍\n",
      "----------------\n",
      "So cute nd lovely picture of @Pvsindhu1 😍😍😍 #childhood https://t.co/nvcXb0Zd6s😍😍😍\n",
      "----------------\n",
      "RT @Uncle_Costy: twɛ nsuo ne T bread&gt;&gt;&gt;&gt;&gt;&gt;&gt;&gt;&gt;&gt;😍😍\n",
      "----------------\n",
      "RT @Montopia_0912: [HD] 20180916 Love Yourself Tour in Fort Worth\n",
      "\n",
      "Sweaty Joon 💦💦😍\n",
      "\n",
      " @BTS_twt #RM #알엠 #Namjoon #남준 #김남준 #BTS⁠ ⁠⁠#방탄소년단 http…💦💦😍\n",
      "----------------\n",
      "You most definitely don’t want to miss out on this! 😍 Get it now from Bou Melhem with #bitfood!\n",
      "#JouneyOfFood #Food… https://t.co/R7kqyWhNbo😍\n",
      "----------------\n",
      "RT @QueenCazza92: @nutmegiwobi I LOVE YOU 😍😍\n",
      "----------------\n",
      "The men of the Lee Singers 😍 especially after that performance in performance seminar! Best guys on campus!😍\n",
      "----------------\n",
      "RT @ZVicentia: Everyone Knows I love @black_motion... This #JoyJoy song has me feeling 😍😍😍💃💃💃 https://t.co/GlZbbsCHlI😍😍😍💃💃💃\n",
      "----------------\n",
      "RT @PestoChampion: Ultimate Recipe😍 Watch HERE &gt;&gt; https://t.co/65NAejJeO4  &lt;&lt; How to #Cook #IndianFood #Nihari😍 #IndianFood #Video by #Lond…😍😍\n",
      "----------------\n",
      "RT @TLeoni311: 😍Happy Thursday 😍\n",
      "      💙💦💜💙💟💙💜💦💙 https://t.co/Cv4CfRPZFv😍😍💙💦💜💙💟💙💜💦💙\n",
      "----------------\n",
      "@Shop_at_NHM #freebiefriday roar I’d love this for my girls 🦖 🦕 😍👍🦖🦕😍👍\n",
      "----------------\n",
      "RT @elysian9397: 🐱 : jungkook!!!\n",
      "I love this team 😍😍 https://t.co/C7BDSZwCxB🐱😍😍\n",
      "----------------\n",
      "WANT TO GET A FEEL FOR LE BOULEVARD BEFORE THE WEEKEND? 😍\n",
      "3 BEDROOMS, £1,800PCM - GROUVILLE\n",
      "https://t.co/nJ2Yz6aTIa https://t.co/nJ2Yz6aTIa😍\n",
      "----------------\n",
      "RT @baekchannie: LOOK AT THE AMOUNT OF PEOPLE UGHHH!! \n",
      "SIDE NOTE: DAMN JACKSON!! 💖😍\n",
      "#GOT7 \n",
      "#JACKSON \n",
      "#Jinyoung \n",
      "#잭슨 https://t.co/9ZlsEIXkIT💖😍\n",
      "----------------\n",
      "RT @papayaia: Jk really did THAT. Jimin playing along is so 😍 #BTSInHamilton https://t.co/LjoywCu0yG😍\n",
      "----------------\n",
      "RT @DAILYPUPPlES: Friendship 😍 https://t.co/E6TpHZs9GM😍\n",
      "----------------\n",
      "Grab all my faves and save our lives 😍 https://t.co/KGGUw4Qq6p😍\n",
      "----------------\n",
      "60\n"
     ]
    }
   ],
   "source": [
    "count = 0\n",
    "id = 0\n",
    "for tweet in mynewlist:\n",
    "    emojis = extract_emojis(tweet)\n",
    "    a = set(emojis) & set(emoji_list)\n",
    "    if len(a)==1:\n",
    "        print(tweet + \"\".join(emojis))\n",
    "        print(\"----------------\")\n",
    "        count+=1\n",
    "    id += 1\n",
    "print(count)"
   ]
  },
  {
   "cell_type": "code",
   "execution_count": 14,
   "metadata": {},
   "outputs": [
    {
     "name": "stdout",
     "output_type": "stream",
     "text": [
      "RT @WORLDMUSICAWARD: Happy 26th Birthday to #EXO's very handsome and talented #CHEN! #HappyChenDay! @weareoneEXO\n",
      "❤️🇰🇷🎶🎤🎂🎉🎁🎈😍🌟💫🎇  \n",
      "https://t…\n",
      "RT @WORLDMUSICAWARD: Happy 26th Birthday to #EXO's very handsome and talented #CHEN! #HappyChenDay! @weareoneEXO\n",
      "❤️🇰🇷🎶🎤🎂🎉🎁🎈😍🌟💫🎇  \n",
      "https://t…\n",
      "RT @WORLDMUSICAWARD: Happy 26th Birthday to #EXO's very handsome and talented #CHEN! #HappyChenDay! @weareoneEXO\n",
      "❤️🇰🇷🎶🎤🎂🎉🎁🎈😍🌟💫🎇  \n",
      "https://t…\n"
     ]
    }
   ],
   "source": [
    "print(Tweets[11])\n",
    "print(Tweets[13])\n",
    "print(Tweets[27])"
   ]
  },
  {
   "cell_type": "code",
   "execution_count": 7,
   "metadata": {},
   "outputs": [],
   "source": [
    "\n",
    "fullfile = os.path.expanduser(\"~/Dropbox/insight_datadir/5k/\"+'outfile'+'😮'+'.p')\n",
    "with open(fullfile, 'rb') as fp:\n",
    "    Tweets = pickle.load(fp)\n",
    "T = []\n",
    "T3 = \"\"\n",
    "for tweet in Tweets:\n",
    "#     emojis = extract_emojis(tweet)\n",
    "#     text = re.sub(\"|\".join(emoji_list), \"\", tweet) # delete emojis from tweet\n",
    "    text = delete_emojis(tweet)\n",
    "    text = sanitize_tweets(text)\n",
    "    T.append(text)\n",
    "    T3 = T3 + text\n",
    "    "
   ]
  },
  {
   "cell_type": "code",
   "execution_count": null,
   "metadata": {},
   "outputs": [],
   "source": [
    "# example"
   ]
  },
  {
   "cell_type": "code",
   "execution_count": 29,
   "metadata": {},
   "outputs": [],
   "source": [
    "S1 = \"The car is driven on the road.\"\n",
    "\n",
    "S2 = \"The truck is driven on the highway.\""
   ]
  },
  {
   "cell_type": "code",
   "execution_count": 35,
   "metadata": {},
   "outputs": [],
   "source": [
    "# sanity check generated vocab here\n",
    "X = vectorizer.fit_transform([S1,S2])"
   ]
  },
  {
   "cell_type": "code",
   "execution_count": 36,
   "metadata": {},
   "outputs": [
    {
     "name": "stdout",
     "output_type": "stream",
     "text": [
      "['car', 'driven', 'highway', 'is', 'on', 'road', 'the', 'truck']\n"
     ]
    }
   ],
   "source": [
    "# EDA\n",
    "f_names = vectorizer.get_feature_names()\n",
    "print(f_names)"
   ]
  },
  {
   "cell_type": "code",
   "execution_count": 38,
   "metadata": {},
   "outputs": [
    {
     "name": "stdout",
     "output_type": "stream",
     "text": [
      "  (0, 6)\t0.6043795515372431\n",
      "  (0, 0)\t0.42471718586982765\n",
      "  (0, 3)\t0.30218977576862155\n",
      "  (0, 1)\t0.30218977576862155\n",
      "  (0, 4)\t0.30218977576862155\n",
      "  (0, 5)\t0.42471718586982765\n",
      "  (1, 6)\t0.6043795515372431\n",
      "  (1, 3)\t0.30218977576862155\n",
      "  (1, 1)\t0.30218977576862155\n",
      "  (1, 4)\t0.30218977576862155\n",
      "  (1, 7)\t0.42471718586982765\n",
      "  (1, 2)\t0.42471718586982765\n",
      "(2, 8)\n"
     ]
    }
   ],
   "source": [
    "print(X)\n",
    "print(X.shape)"
   ]
  },
  {
   "cell_type": "code",
   "execution_count": 31,
   "metadata": {},
   "outputs": [
    {
     "name": "stdout",
     "output_type": "stream",
     "text": [
      "25\n",
      "(2, 25)\n",
      "0.37930349280874964\n",
      "(array([0, 0, 0, 0, 0, 0, 0, 0, 0, 0, 0, 0, 0, 0, 0, 0, 0], dtype=int32), array([ 3,  4,  5,  6,  7,  8,  9, 10, 11, 12, 15, 18, 20, 21, 22, 23, 24],\n",
      "      dtype=int32))\n"
     ]
    },
    {
     "ename": "IndexError",
     "evalue": "list index out of range",
     "output_type": "error",
     "traceback": [
      "\u001b[0;31m---------------------------------------------------------------------------\u001b[0m",
      "\u001b[0;31mIndexError\u001b[0m                                Traceback (most recent call last)",
      "\u001b[0;32m<ipython-input-31-399d1ad33f5d>\u001b[0m in \u001b[0;36m<module>\u001b[0;34m()\u001b[0m\n\u001b[1;32m      7\u001b[0m \u001b[0mtype\u001b[0m\u001b[0;34m(\u001b[0m\u001b[0mIX\u001b[0m\u001b[0;34m)\u001b[0m\u001b[0;34m\u001b[0m\u001b[0m\n\u001b[1;32m      8\u001b[0m \u001b[0mprint\u001b[0m\u001b[0;34m(\u001b[0m\u001b[0mIX\u001b[0m\u001b[0;34m)\u001b[0m\u001b[0;34m\u001b[0m\u001b[0m\n\u001b[0;32m----> 9\u001b[0;31m \u001b[0mprint\u001b[0m\u001b[0;34m(\u001b[0m\u001b[0mf_names\u001b[0m\u001b[0;34m[\u001b[0m\u001b[0;36m487\u001b[0m\u001b[0;34m]\u001b[0m\u001b[0;34m)\u001b[0m\u001b[0;34m\u001b[0m\u001b[0m\n\u001b[0m",
      "\u001b[0;31mIndexError\u001b[0m: list index out of range"
     ]
    }
   ],
   "source": [
    "# (temp)\n",
    "# print(X.max())\n",
    "# IX = np.nonzero(X[1,:]>0.1)\n",
    "# type(IX)\n",
    "# print(IX)\n",
    "# print(f_names[487])"
   ]
  },
  {
   "cell_type": "markdown",
   "metadata": {},
   "source": [
    "## 2. Make 75-dim target vector"
   ]
  },
  {
   "cell_type": "code",
   "execution_count": 20,
   "metadata": {
    "scrolled": true
   },
   "outputs": [
    {
     "name": "stdout",
     "output_type": "stream",
     "text": [
      "{'😀': 0, '😁': 1, '😂': 2, '🤣': 3, '😃': 4, '😄': 5, '😅': 6, '😆': 7, '😉': 8, '😊': 9, '😋': 10, '😎': 11, '😍': 12, '😘': 13, '😗': 14, '😙': 15, '😚': 16, '☺️': 17, '🙂': 18, '🤗': 19, '🤔': 20, '😐': 21, '😑': 22, '😶': 23, '🙄': 24, '😏': 25, '😣': 26, '😥': 27, '😮': 28, '🤐': 29, '😯': 30, '😪': 31, '😫': 32, '😴': 33, '😌': 34, '😛': 35, '😜': 36, '😝': 37, '🤤': 38, '😒': 39, '😓': 40, '😔': 41, '😕': 42, '🙃': 43, '🤑': 44, '😲': 45, '☹️': 46, '🙁': 47, '😖': 48, '😞': 49, '😟': 50, '😤': 51, '😢': 52, '😭': 53, '😦': 54, '😧': 55, '😨': 56, '😩': 57, '😬': 58, '😰': 59, '😱': 60, '😳': 61, '😵': 62, '😡': 63, '😠': 64, '😷': 65, '🤒': 66, '🤕': 67, '🤢': 68, '🤧': 69, '😇': 70, '🤠': 71, '🤡': 72, '🤥': 73, '🤓': 74}\n"
     ]
    }
   ],
   "source": [
    "N = []\n",
    "for ii in range(75):\n",
    "    N.append(ii)\n",
    "Edict = dict(zip(emoji_list, N))\n",
    "print(Edict)"
   ]
  },
  {
   "cell_type": "code",
   "execution_count": 9,
   "metadata": {},
   "outputs": [],
   "source": [
    "# # test code: make 75-D target\n",
    "# target_arr = np.zeros((10, 75))\n",
    "# for ii in range(10):\n",
    "#     e_list = D.raw_target[ii+10]\n",
    "#     for x in e_list:\n",
    "#         if x in emoji_list:\n",
    "#             ix = Edict[x]\n",
    "#             target_arr[ii,ix] = 1\n",
    "# #D.target = target_arr"
   ]
  },
  {
   "cell_type": "code",
   "execution_count": 19,
   "metadata": {},
   "outputs": [
    {
     "name": "stdout",
     "output_type": "stream",
     "text": [
      "😀\n",
      "😁\n",
      "😂\n",
      "🤣\n",
      "😃\n",
      "😄\n",
      "😅\n",
      "😆\n",
      "😉\n",
      "😊\n",
      "😋\n",
      "😎\n",
      "😍\n",
      "😘\n",
      "😗\n",
      "😙\n",
      "😚\n",
      "☺️\n",
      "🙂\n",
      "🤗\n",
      "🤔\n",
      "😐\n",
      "😑\n",
      "😶\n",
      "🙄\n",
      "😏\n",
      "😣\n",
      "😥\n",
      "😮\n",
      "🤐\n",
      "😯\n",
      "😪\n",
      "😫\n",
      "😴\n",
      "😌\n",
      "😛\n",
      "😜\n",
      "😝\n",
      "🤤\n",
      "😒\n",
      "😓\n",
      "😔\n",
      "😕\n",
      "🙃\n",
      "🤑\n",
      "😲\n",
      "☹️\n",
      "🙁\n",
      "😖\n",
      "😞\n",
      "😟\n",
      "😤\n",
      "😢\n",
      "😭\n",
      "😦\n",
      "😧\n",
      "😨\n",
      "😩\n",
      "😬\n",
      "😰\n",
      "😱\n",
      "😳\n",
      "😵\n",
      "😡\n",
      "😠\n",
      "😷\n",
      "🤒\n",
      "🤕\n",
      "🤢\n",
      "🤧\n",
      "😇\n",
      "🤠\n",
      "🤡\n",
      "🤥\n",
      "🤓\n"
     ]
    }
   ],
   "source": [
    "# 75-D preprocessing\n",
    "# IN\n",
    "target_names = ['😍','😡'] # emoji_list \n",
    "\n",
    "# OUT\n",
    "rawdata = []\n",
    "data = []\n",
    "raw_target = []\n",
    "Len = []\n",
    "filenames = []\n",
    "target_arr = np.zeros((5000*75, 75))\n",
    "search_emoji = []\n",
    "\n",
    "# main loop\n",
    "ii = 0\n",
    "for keyword in target_names:\n",
    "    print(keyword)\n",
    "    fullfile = os.path.expanduser(\"~/Dropbox/insight_datadir/5k/\"+'outfile'+keyword+'.p')\n",
    "    with open(fullfile, 'rb') as fp:\n",
    "        Tweets = pickle.load(fp)\n",
    "        Len.append(len(Tweets))\n",
    "        \n",
    "        Text = []\n",
    "        RawText = []\n",
    "        E = []\n",
    "        for tweet in Tweets:\n",
    "            # save raw tweet\n",
    "            RawText.append(tweet)\n",
    "            # take out all emojis from input tweets\n",
    "            emojis = extract_emojis(tweet)\n",
    "            E.append(emojis)\n",
    "            \n",
    "            # save emojis into target array \n",
    "            for x in emojis:\n",
    "                if x in emoji_list:\n",
    "                    ix = Edict[x]\n",
    "                    target_arr[ii,ix] = 1\n",
    "            \n",
    "            # save sanitized text\n",
    "            text = sanitize_tweets(tweet)\n",
    "            text = delete_emojis(text)\n",
    "            Text.append(text)\n",
    "            ii = ii+1\n",
    "            \n",
    "        data = data + Text\n",
    "        rawdata = rawdata + RawText\n",
    "        raw_target = raw_target + E\n",
    "        filenames = filenames + [fullfile]\n",
    "        search_emoji = search_emoji + [keyword]"
   ]
  },
  {
   "cell_type": "code",
   "execution_count": 34,
   "metadata": {},
   "outputs": [],
   "source": [
    "# optional now: get 1-D target\n",
    "numEmojis = len(target_names)\n",
    "arr = []\n",
    "for i in range(numEmojis):\n",
    "    arr.extend([i] * Len[i]) \n",
    "target_1d = np.array(arr, dtype=int)"
   ]
  },
  {
   "cell_type": "code",
   "execution_count": 39,
   "metadata": {},
   "outputs": [
    {
     "name": "stdout",
     "output_type": "stream",
     "text": [
      "[1437, 2168, 2621, 1432, 1921, 2062, 1689, 1481, 1948, 2214, 2154, 1968, 2228, 2137, 1917, 1931, 1825, 2250, 2353, 2114, 1584, 2378, 2588, 1260, 2804, 2244, 2210, 2240, 1816, 1117, 1960, 2979, 2101, 2480, 2667, 2490, 1733, 2078, 2434, 2711, 2361, 3098, 2532, 2841, 2141, 1525, 2991, 2445, 2365, 2871, 1809, 2308, 1677, 1696, 1583, 1944, 2084, 2017, 2174, 1105, 962, 1550, 1744, 1446, 2042, 2017, 2470, 798, 2833, 2261, 1869, 2109, 1507, 2266, 2245]\n"
     ]
    }
   ],
   "source": [
    "print(Len)"
   ]
  },
  {
   "cell_type": "code",
   "execution_count": 40,
   "metadata": {},
   "outputs": [],
   "source": [
    "# this struct is saving relatively raw data, for later use ~ visualizations\n",
    "class tweet_data:\n",
    "    pass\n",
    "\n",
    "D = tweet_data()\n",
    "D.raw_data = rawdata\n",
    "D.data = data\n",
    "D.raw_target = raw_target\n",
    "D.filenames = filenames\n",
    "D.numTweets = Len\n",
    "D.target_1d = target_1d\n",
    "D.target_arr = target_arr"
   ]
  },
  {
   "cell_type": "code",
   "execution_count": 41,
   "metadata": {},
   "outputs": [
    {
     "data": {
      "text/plain": [
       "155410"
      ]
     },
     "execution_count": 41,
     "metadata": {},
     "output_type": "execute_result"
    }
   ],
   "source": [
    "len(data)\n"
   ]
  },
  {
   "cell_type": "code",
   "execution_count": 42,
   "metadata": {},
   "outputs": [],
   "source": [
    "fullfile = os.path.expanduser(\"~/Dropbox/insight/Twitter/\"+'tweet_data_75xsingles.p')\n",
    "with open(fullfile, 'wb') as fp:\n",
    "    pickle.dump(D, fp)"
   ]
  },
  {
   "cell_type": "code",
   "execution_count": 40,
   "metadata": {},
   "outputs": [
    {
     "ename": "NameError",
     "evalue": "name 'data' is not defined",
     "output_type": "error",
     "traceback": [
      "\u001b[0;31m---------------------------------------------------------------------------\u001b[0m",
      "\u001b[0;31mNameError\u001b[0m                                 Traceback (most recent call last)",
      "\u001b[0;32m<ipython-input-40-94a0bbfd8c2b>\u001b[0m in \u001b[0;36m<module>\u001b[0;34m()\u001b[0m\n\u001b[1;32m      1\u001b[0m \u001b[0;32mfrom\u001b[0m \u001b[0msklearn\u001b[0m\u001b[0;34m.\u001b[0m\u001b[0mmodel_selection\u001b[0m \u001b[0;32mimport\u001b[0m \u001b[0mtrain_test_split\u001b[0m\u001b[0;34m\u001b[0m\u001b[0m\n\u001b[0;32m----> 2\u001b[0;31m \u001b[0mX_train\u001b[0m\u001b[0;34m,\u001b[0m \u001b[0mX_test\u001b[0m\u001b[0;34m,\u001b[0m \u001b[0my_train\u001b[0m\u001b[0;34m,\u001b[0m \u001b[0my_test\u001b[0m \u001b[0;34m=\u001b[0m \u001b[0mtrain_test_split\u001b[0m\u001b[0;34m(\u001b[0m\u001b[0mdata\u001b[0m\u001b[0;34m,\u001b[0m \u001b[0mtarget_arr\u001b[0m\u001b[0;34m,\u001b[0m \u001b[0mtest_size\u001b[0m\u001b[0;34m=\u001b[0m \u001b[0;36m0.2\u001b[0m\u001b[0;34m,\u001b[0m \u001b[0mrandom_state\u001b[0m\u001b[0;34m=\u001b[0m\u001b[0;36m1\u001b[0m\u001b[0;34m)\u001b[0m\u001b[0;34m\u001b[0m\u001b[0m\n\u001b[0m",
      "\u001b[0;31mNameError\u001b[0m: name 'data' is not defined"
     ]
    }
   ],
   "source": [
    "from sklearn.model_selection import train_test_split\n",
    "X_train, X_test, y_train, y_test = train_test_split(data, target_arr, test_size= 0.2, random_state=1)"
   ]
  },
  {
   "cell_type": "code",
   "execution_count": null,
   "metadata": {},
   "outputs": [],
   "source": []
  },
  {
   "cell_type": "code",
   "execution_count": 44,
   "metadata": {},
   "outputs": [],
   "source": [
    "# this will be directly loaded to train model\n",
    "class train_data:\n",
    "    pass\n",
    "\n",
    "T = train_data()\n",
    "T.data = data\n",
    "# X = vectorizer.fit_transform(data)\n",
    "# T.X = X\n",
    "# T.feature_names = vectorizer.get_feature_names()\n",
    "# T.X_shape = X.shape\n",
    "# T.Y = target_arr\n",
    "T.y = target_1d\n",
    "T.target_names = target_names"
   ]
  },
  {
   "cell_type": "code",
   "execution_count": 45,
   "metadata": {},
   "outputs": [],
   "source": [
    "\n",
    "\n",
    "fullfile = os.path.expanduser(\"~/Dropbox/insight/Twitter/\"+'train_data_75xsingles.p')\n",
    "with open(fullfile, 'wb') as fp:\n",
    "    pickle.dump(T, fp)\n"
   ]
  },
  {
   "cell_type": "markdown",
   "metadata": {},
   "source": [
    "### (old) small model with only 2 opposing emojis"
   ]
  },
  {
   "cell_type": "code",
   "execution_count": 16,
   "metadata": {},
   "outputs": [],
   "source": [
    "# # 1-D preprecessing\n",
    "# # IN\n",
    "# target_names = ['😍','😡'] # emoji_list # \n",
    "\n",
    "# # OUT\n",
    "# rawdata = []\n",
    "# data = []\n",
    "# raw_target = []\n",
    "# Len = []\n",
    "# filenames = []\n",
    "\n",
    "# # main loop\n",
    "# for keyword in target_names:\n",
    "#     fullfile = os.path.expanduser(\"~/Dropbox/insight_datadir/5k/\"+'outfile'+keyword+'.p')\n",
    "#     with open(fullfile, 'rb') as fp:\n",
    "#         itemlist = pickle.load(fp)\n",
    "#         Len.append(len(itemlist))\n",
    "        \n",
    "#         T = []\n",
    "#         RawT = []\n",
    "#         E = []\n",
    "#         for tweet in itemlist:\n",
    "#             # save raw tweet\n",
    "#             RawT.append(tweet)\n",
    "#             # take out all emojis from input tweets\n",
    "#             emojis = extract_emojis(tweet)\n",
    "#             E.append(emojis)\n",
    "#             # save sanitized text\n",
    "#             text = re.sub(\"|\".join(emoji_list), \"\", tweet)\n",
    "#             T.append(text)\n",
    "#         data = data + T\n",
    "#         rawdata = rawdata + RawT\n",
    "#         raw_target = raw_target + E\n",
    "#         filenames = filenames + [fullfile]\n",
    "        \n",
    "\n",
    "# class tweet_data:\n",
    "#     pass\n",
    "\n",
    "# D = tweet_data()\n",
    "# D.raw_data = rawdata\n",
    "# D.data = data\n",
    "# D.raw_target = raw_target\n",
    "# D.filesnames = filenames\n",
    "# D.numTweets = Len\n",
    "\n",
    "# # fullfile = os.path.expanduser(\"~/Dropbox/insight/Twitter/\"+'tweets_2x5k.p')\n",
    "# # #fullfile = os.path.expanduser(\"~/Dropbox/insight/Twitter/\"+'tweets_75x5k.p')\n",
    "# # with open(fullfile, 'wb') as fp:\n",
    "# #     pickle.dump(D, fp)\n",
    "\n",
    "\n",
    "# class tweet_train:\n",
    "#     pass\n",
    "# T = tweet_train()\n",
    "# T.target_names = target_names\n",
    "# T.data = D.data\n",
    "# T.filenames = filenames\n",
    "# T.target = target\n",
    "\n",
    "# fullfile = os.path.expanduser(\"~/Dropbox/insight/Twitter/\"+'tweet_train_2x5k.p')\n",
    "# with open(fullfile, 'wb') as fp:\n",
    "#     pickle.dump(T, fp)\n"
   ]
  },
  {
   "cell_type": "code",
   "execution_count": 47,
   "metadata": {},
   "outputs": [
    {
     "data": {
      "text/plain": [
       "datetime.datetime(2018, 10, 2, 1, 21, 47, 661600)"
      ]
     },
     "execution_count": 47,
     "metadata": {},
     "output_type": "execute_result"
    }
   ],
   "source": [
    "from datetime import datetime\n",
    "datetime.now()"
   ]
  },
  {
   "cell_type": "code",
   "execution_count": null,
   "metadata": {},
   "outputs": [],
   "source": [
    "tweet = \"😍 ❤️🎶🎤🎂🎉🎁🎈😍🌟💫 shsha;lsdij \"\n",
    "emojis = extract_emojis(tweet)\n",
    "print(emojis)\n",
    "a = set(emojis) & set(emoji_list)\n",
    "a2 = list(a)\n",
    "print(a)\n",
    "print(len(a2)==1 and a2[0]=='😍')\n",
    "print(a2[0]=='😍')"
   ]
  },
  {
   "cell_type": "code",
   "execution_count": null,
   "metadata": {},
   "outputs": [],
   "source": [
    "mylist = Tweets[:100]\n",
    "myset = set(mylist)\n",
    "mynewlist = list(myset)\n",
    "print(len(mynewlist))\n",
    "for tweet in mynewlist:\n",
    "    emojis = extract_emojis(tweet)\n",
    "    print(emojis)"
   ]
  },
  {
   "cell_type": "code",
   "execution_count": null,
   "metadata": {},
   "outputs": [],
   "source": [
    "count = 0\n",
    "id = 0\n",
    "for tweet in mynewlist:\n",
    "    emojis = extract_emojis(tweet)\n",
    "    a = set(emojis) & set(emoji_list)\n",
    "    if len(a)==1:\n",
    "        print(tweet + \"\".join(emojis))\n",
    "        print(\"----------------\")\n",
    "        count+=1\n",
    "    id += 1\n",
    "print(count)"
   ]
  }
 ],
 "metadata": {
  "kernelspec": {
   "display_name": "Python (insight)",
   "language": "python",
   "name": "insight"
  },
  "language_info": {
   "codemirror_mode": {
    "name": "ipython",
    "version": 3
   },
   "file_extension": ".py",
   "mimetype": "text/x-python",
   "name": "python",
   "nbconvert_exporter": "python",
   "pygments_lexer": "ipython3",
   "version": "3.6.6"
  },
  "varInspector": {
   "cols": {
    "lenName": 16,
    "lenType": 16,
    "lenVar": 40
   },
   "kernels_config": {
    "python": {
     "delete_cmd_postfix": "",
     "delete_cmd_prefix": "del ",
     "library": "var_list.py",
     "varRefreshCmd": "print(var_dic_list())"
    },
    "r": {
     "delete_cmd_postfix": ") ",
     "delete_cmd_prefix": "rm(",
     "library": "var_list.r",
     "varRefreshCmd": "cat(var_dic_list()) "
    }
   },
   "types_to_exclude": [
    "module",
    "function",
    "builtin_function_or_method",
    "instance",
    "_Feature"
   ],
   "window_display": false
  }
 },
 "nbformat": 4,
 "nbformat_minor": 2
}
