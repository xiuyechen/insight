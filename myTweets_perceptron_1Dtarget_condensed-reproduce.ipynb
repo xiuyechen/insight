{
 "cells": [
  {
   "cell_type": "code",
   "execution_count": 2,
   "metadata": {},
   "outputs": [],
   "source": [
    "import os\n",
    "import pickle\n",
    "import numpy as np\n",
    "import re\n",
    "import emoji\n",
    "import regex"
   ]
  },
  {
   "cell_type": "markdown",
   "metadata": {},
   "source": [
    "## Load dataset"
   ]
  },
  {
   "cell_type": "code",
   "execution_count": 3,
   "metadata": {},
   "outputs": [],
   "source": [
    "def extract_emojis(text):\n",
    "\n",
    "    emoji_list = []\n",
    "    data = regex.findall(r'\\X', text)\n",
    "    for word in data:\n",
    "        if any(char in emoji.UNICODE_EMOJI for char in word):\n",
    "            emoji_list.append(word)\n",
    "\n",
    "    return emoji_list"
   ]
  },
  {
   "cell_type": "code",
   "execution_count": 76,
   "metadata": {},
   "outputs": [
    {
     "name": "stdout",
     "output_type": "stream",
     "text": [
      "['😀', '😁', '😂', '🤣', '😃', '😄', '😅', '😆', '😉', '😊', '😋', '😎', '😍', '😘', '😗', '😙', '😚', '☺️', '🙂', '🤗', '🤔', '😐', '😑', '😶', '🙄', '😏', '😣', '😥', '😮', '🤐', '😯', '😪', '😫', '😴', '😌', '😛', '😜', '😝', '🤤', '😒', '😓', '😔', '😕', '🙃', '🤑', '😲', '☹️', '🙁', '😖', '😞', '😟', '😤', '😢', '😭', '😦', '😧', '😨', '😩', '😬', '😰', '😱', '😳', '😵', '😡', '😠', '😷', '🤒', '🤕', '🤢', '🤧', '😇', '🤠', '🤡', '🤥', '🤓']\n",
      "75\n"
     ]
    }
   ],
   "source": [
    "# load emoji list\n",
    "fullfile = os.path.expanduser(\"~/Dropbox/insight/Emoji/\"+'mySmileys.p')\n",
    "with open(fullfile, 'rb') as fp:\n",
    "    emoji_list = pickle.load(fp)\n",
    "print(emoji_list)\n",
    "print(len(emoji_list))\n",
    "target_names = emoji_list"
   ]
  },
  {
   "cell_type": "code",
   "execution_count": 5,
   "metadata": {},
   "outputs": [],
   "source": [
    "class tweet_data:\n",
    "    pass\n",
    "\n",
    "# D = tweet_data()\n",
    "# D.raw_data = rawdata\n",
    "# D.data = data\n",
    "# D.raw_target = raw_target\n",
    "# D.filenames = filenames\n",
    "# D.numTweets = Len\n",
    "# D.target_1d = target_1d\n",
    "# # D.target_arr = target_arr\n",
    "# D.target_names = target_names"
   ]
  },
  {
   "cell_type": "code",
   "execution_count": 63,
   "metadata": {},
   "outputs": [
    {
     "data": {
      "text/plain": [
       "308887"
      ]
     },
     "execution_count": 63,
     "metadata": {},
     "output_type": "execute_result"
    }
   ],
   "source": [
    "# load data\n",
    "\n",
    "fullfile = os.path.expanduser(\"~/Dropbox/insight/Twitter/\"+'tweet_data_75x_unique_singles_target1d.p')\n",
    "#'tweet_data_75x_unique_singles_target1d.p')\n",
    "with open(fullfile, 'rb') as fp:\n",
    "    D = pickle.load(fp)\n",
    "\n",
    "len(D.data)"
   ]
  },
  {
   "cell_type": "code",
   "execution_count": 64,
   "metadata": {},
   "outputs": [
    {
     "name": "stdout",
     "output_type": "stream",
     "text": [
      "['😀', '😁', '😂', '🤣', '😃', '😄', '😅', '😆', '😉', '😊', '😋', '😎', '😍', '😘', '😗', '😙', '😚', '☺️', '🙂', '🤗', '🤔', '😐', '😑', '😶', '🙄', '😏', '😣', '😥', '😮', '🤐', '😯', '😪', '😫', '😴', '😌', '😛', '😜', '😝', '🤤', '😒', '😓', '😔', '😕', '🙃', '🤑', '😲', '☹️', '🙁', '😖', '😞', '😟', '😤', '😢', '😭', '😦', '😧', '😨', '😩', '😬', '😰', '😱', '😳', '😵', '😡', '😠', '😷', '🤒', '🤕', '🤢', '🤧', '😇', '🤠', '🤡', '🤥', '🤓']\n"
     ]
    }
   ],
   "source": [
    "print(D.target_names)"
   ]
  },
  {
   "cell_type": "code",
   "execution_count": 99,
   "metadata": {},
   "outputs": [
    {
     "name": "stdout",
     "output_type": "stream",
     "text": [
      "8\n"
     ]
    }
   ],
   "source": [
    "# select subset\n",
    "target_names = ['😀','😎','😶','😛','😩','😱','😷','🤓']\n",
    "numEmojis = len(target_names)\n",
    "print(numEmojis)\n",
    "\n",
    "IX = [emoji_list.index(n) for n in target_names]\n",
    "Len = D.numTweets\n",
    "\n",
    "data = []\n",
    "target = []\n",
    "for i in range(numEmojis):\n",
    "    ix = IX[i]\n",
    "    i_end = (np.cumsum(Len)[ix])\n",
    "    i_start = i_end - Len[ix]\n",
    "    data_chunk = D.data[i_start:i_end]\n",
    "    target_chunk = D.target_1d[i_start:i_end]\n",
    "    data.extend(data_chunk)\n",
    "    target.extend(target_chunk)\n",
    "target_1d = np.array(target, dtype=int)  "
   ]
  },
  {
   "cell_type": "code",
   "execution_count": 100,
   "metadata": {},
   "outputs": [
    {
     "name": "stdout",
     "output_type": "stream",
     "text": [
      "30995\n",
      "(30995,)\n"
     ]
    }
   ],
   "source": [
    "print(len(data))\n",
    "print(target_1d.shape)"
   ]
  },
  {
   "cell_type": "markdown",
   "metadata": {},
   "source": [
    "### Format Tweet dataset; split training/testing\n"
   ]
  },
  {
   "cell_type": "code",
   "execution_count": null,
   "metadata": {},
   "outputs": [],
   "source": [
    "# this is like a struct\n",
    "class tweet_train:\n",
    "    pass\n",
    "\n",
    "T = tweet_train()\n",
    "T.target_names = target_names\n",
    "T.data = data\n",
    "#T.filenames = D.filenames\n",
    "T.target = target_1d\n",
    "\n",
    "if 0:\n",
    "    # load all data\n",
    "    target_names = emoji_list\n",
    "    T = tweet_train()\n",
    "    T.target_names = target_names\n",
    "    T.data = D.data\n",
    "    T.filenames = D.filenames\n",
    "    T.target = D.target_1d#target"
   ]
  },
  {
   "cell_type": "code",
   "execution_count": 152,
   "metadata": {},
   "outputs": [],
   "source": [
    "# fullfile = os.path.expanduser(\"~/Dropbox/insight/Twitter/\"+'tweet_train_2x5k.p')\n",
    "# with open(fullfile, 'rb') as fp:\n",
    "#     T = pickle.load(fp)\n"
   ]
  },
  {
   "cell_type": "code",
   "execution_count": 147,
   "metadata": {},
   "outputs": [
    {
     "name": "stdout",
     "output_type": "stream",
     "text": [
      "😀\n"
     ]
    }
   ],
   "source": [
    "T.target_names = target_names\n",
    "print(T.target_names[T.target[0]])"
   ]
  },
  {
   "cell_type": "code",
   "execution_count": 149,
   "metadata": {},
   "outputs": [],
   "source": [
    "# Split the dataset in training and test set:\n",
    "from sklearn.model_selection import train_test_split\n",
    "X_train, X_test, y_train, y_test = train_test_split(\n",
    "    T.data, T.target, test_size=0.2,random_state=0)"
   ]
  },
  {
   "cell_type": "code",
   "execution_count": 150,
   "metadata": {},
   "outputs": [
    {
     "data": {
      "text/plain": [
       "61778"
      ]
     },
     "execution_count": 150,
     "metadata": {},
     "output_type": "execute_result"
    }
   ],
   "source": [
    "len(y_test)"
   ]
  },
  {
   "cell_type": "markdown",
   "metadata": {},
   "source": [
    "## Training a classifier: Logistic Regression"
   ]
  },
  {
   "cell_type": "code",
   "execution_count": 106,
   "metadata": {},
   "outputs": [],
   "source": [
    "# TASK: Build a vectorizer that splits strings into sequence of 1 to 3\n",
    "# characters instead of word tokens\n",
    "from sklearn.feature_extraction.text import TfidfVectorizer\n",
    "# from sklearn.linear_model import Perceptron\n",
    "from sklearn import metrics\n",
    "from wordcloud import WordCloud\n",
    "import matplotlib.pyplot as plt\n",
    "from sklearn.linear_model import LogisticRegression"
   ]
  },
  {
   "cell_type": "code",
   "execution_count": 155,
   "metadata": {},
   "outputs": [],
   "source": [
    "# this one used for the 8-way model:\n",
    "# vectorizer = TfidfVectorizer(ngram_range=(1, 3), analyzer='word', \n",
    "#                              use_idf=True)\n",
    "vectorizer = TfidfVectorizer(ngram_range=(1,1), analyzer='word', min_df=6,\n",
    "                             use_idf=True)"
   ]
  },
  {
   "cell_type": "code",
   "execution_count": 158,
   "metadata": {},
   "outputs": [
    {
     "data": {
      "text/plain": [
       "(247109, 15207)"
      ]
     },
     "execution_count": 158,
     "metadata": {},
     "output_type": "execute_result"
    }
   ],
   "source": [
    "XV_train = vectorizer.fit_transform(X_train)\n",
    "XV_train.shape"
   ]
  },
  {
   "cell_type": "code",
   "execution_count": 161,
   "metadata": {},
   "outputs": [
    {
     "name": "stderr",
     "output_type": "stream",
     "text": [
      "[Parallel(n_jobs=1)]: Using backend SequentialBackend with 1 concurrent workers.\n",
      "/Users/xiuye/anaconda3/envs/insight/lib/python3.6/site-packages/sklearn/linear_model/logistic.py:757: ConvergenceWarning: lbfgs failed to converge. Increase the number of iterations.\n",
      "  \"of iterations.\", ConvergenceWarning)\n",
      "/Users/xiuye/anaconda3/envs/insight/lib/python3.6/site-packages/sklearn/linear_model/logistic.py:757: ConvergenceWarning: lbfgs failed to converge. Increase the number of iterations.\n",
      "  \"of iterations.\", ConvergenceWarning)\n",
      "/Users/xiuye/anaconda3/envs/insight/lib/python3.6/site-packages/sklearn/linear_model/logistic.py:757: ConvergenceWarning: lbfgs failed to converge. Increase the number of iterations.\n",
      "  \"of iterations.\", ConvergenceWarning)\n",
      "/Users/xiuye/anaconda3/envs/insight/lib/python3.6/site-packages/sklearn/linear_model/logistic.py:757: ConvergenceWarning: lbfgs failed to converge. Increase the number of iterations.\n",
      "  \"of iterations.\", ConvergenceWarning)\n",
      "/Users/xiuye/anaconda3/envs/insight/lib/python3.6/site-packages/sklearn/linear_model/logistic.py:757: ConvergenceWarning: lbfgs failed to converge. Increase the number of iterations.\n",
      "  \"of iterations.\", ConvergenceWarning)\n",
      "/Users/xiuye/anaconda3/envs/insight/lib/python3.6/site-packages/sklearn/linear_model/logistic.py:757: ConvergenceWarning: lbfgs failed to converge. Increase the number of iterations.\n",
      "  \"of iterations.\", ConvergenceWarning)\n",
      "/Users/xiuye/anaconda3/envs/insight/lib/python3.6/site-packages/sklearn/linear_model/logistic.py:757: ConvergenceWarning: lbfgs failed to converge. Increase the number of iterations.\n",
      "  \"of iterations.\", ConvergenceWarning)\n",
      "/Users/xiuye/anaconda3/envs/insight/lib/python3.6/site-packages/sklearn/linear_model/logistic.py:757: ConvergenceWarning: lbfgs failed to converge. Increase the number of iterations.\n",
      "  \"of iterations.\", ConvergenceWarning)\n",
      "/Users/xiuye/anaconda3/envs/insight/lib/python3.6/site-packages/sklearn/linear_model/logistic.py:757: ConvergenceWarning: lbfgs failed to converge. Increase the number of iterations.\n",
      "  \"of iterations.\", ConvergenceWarning)\n",
      "/Users/xiuye/anaconda3/envs/insight/lib/python3.6/site-packages/sklearn/linear_model/logistic.py:757: ConvergenceWarning: lbfgs failed to converge. Increase the number of iterations.\n",
      "  \"of iterations.\", ConvergenceWarning)\n",
      "/Users/xiuye/anaconda3/envs/insight/lib/python3.6/site-packages/sklearn/linear_model/logistic.py:757: ConvergenceWarning: lbfgs failed to converge. Increase the number of iterations.\n",
      "  \"of iterations.\", ConvergenceWarning)\n",
      "/Users/xiuye/anaconda3/envs/insight/lib/python3.6/site-packages/sklearn/linear_model/logistic.py:757: ConvergenceWarning: lbfgs failed to converge. Increase the number of iterations.\n",
      "  \"of iterations.\", ConvergenceWarning)\n",
      "/Users/xiuye/anaconda3/envs/insight/lib/python3.6/site-packages/sklearn/linear_model/logistic.py:757: ConvergenceWarning: lbfgs failed to converge. Increase the number of iterations.\n",
      "  \"of iterations.\", ConvergenceWarning)\n",
      "/Users/xiuye/anaconda3/envs/insight/lib/python3.6/site-packages/sklearn/linear_model/logistic.py:757: ConvergenceWarning: lbfgs failed to converge. Increase the number of iterations.\n",
      "  \"of iterations.\", ConvergenceWarning)\n",
      "/Users/xiuye/anaconda3/envs/insight/lib/python3.6/site-packages/sklearn/linear_model/logistic.py:757: ConvergenceWarning: lbfgs failed to converge. Increase the number of iterations.\n",
      "  \"of iterations.\", ConvergenceWarning)\n",
      "/Users/xiuye/anaconda3/envs/insight/lib/python3.6/site-packages/sklearn/linear_model/logistic.py:757: ConvergenceWarning: lbfgs failed to converge. Increase the number of iterations.\n",
      "  \"of iterations.\", ConvergenceWarning)\n",
      "/Users/xiuye/anaconda3/envs/insight/lib/python3.6/site-packages/sklearn/linear_model/logistic.py:757: ConvergenceWarning: lbfgs failed to converge. Increase the number of iterations.\n",
      "  \"of iterations.\", ConvergenceWarning)\n",
      "/Users/xiuye/anaconda3/envs/insight/lib/python3.6/site-packages/sklearn/linear_model/logistic.py:757: ConvergenceWarning: lbfgs failed to converge. Increase the number of iterations.\n",
      "  \"of iterations.\", ConvergenceWarning)\n",
      "/Users/xiuye/anaconda3/envs/insight/lib/python3.6/site-packages/sklearn/linear_model/logistic.py:757: ConvergenceWarning: lbfgs failed to converge. Increase the number of iterations.\n",
      "  \"of iterations.\", ConvergenceWarning)\n",
      "/Users/xiuye/anaconda3/envs/insight/lib/python3.6/site-packages/sklearn/linear_model/logistic.py:757: ConvergenceWarning: lbfgs failed to converge. Increase the number of iterations.\n",
      "  \"of iterations.\", ConvergenceWarning)\n",
      "[Parallel(n_jobs=1)]: Done  75 out of  75 | elapsed:  5.5min finished\n"
     ]
    },
    {
     "data": {
      "text/plain": [
       "LogisticRegression(C=1.0, class_weight=None, dual=False, fit_intercept=True,\n",
       "          intercept_scaling=1, max_iter=100, multi_class='ovr',\n",
       "          n_jobs=None, penalty='l2', random_state=0, solver='lbfgs',\n",
       "          tol=0.001, verbose=1, warm_start=False)"
      ]
     },
     "execution_count": 161,
     "metadata": {},
     "output_type": "execute_result"
    }
   ],
   "source": [
    "# this one used for the 8-way model:\n",
    "# clf = LogisticRegression(random_state=0, solver='lbfgs',\n",
    "#                          multi_class='ovr')\n",
    "clf = LogisticRegression(random_state=0, solver='lbfgs',\n",
    "                         multi_class='ovr',verbose=1, tol=0.001) #'multinomial')\n",
    "clf.fit(XV_train,y_train)"
   ]
  },
  {
   "cell_type": "code",
   "execution_count": 162,
   "metadata": {},
   "outputs": [],
   "source": [
    "XV_test = vectorizer.transform(X_test)"
   ]
  },
  {
   "cell_type": "code",
   "execution_count": 163,
   "metadata": {},
   "outputs": [],
   "source": [
    "y_predicted = clf.predict(XV_test)"
   ]
  },
  {
   "cell_type": "code",
   "execution_count": 164,
   "metadata": {},
   "outputs": [
    {
     "name": "stdout",
     "output_type": "stream",
     "text": [
      "              precision    recall  f1-score   support\n",
      "\n",
      "           😀       0.12      0.06      0.08       707\n",
      "           😁       0.06      0.03      0.04       922\n",
      "           😂       0.08      0.14      0.10       993\n",
      "           🤣       0.06      0.01      0.01       519\n",
      "           😃       0.11      0.09      0.10       786\n",
      "           😄       0.08      0.03      0.05       800\n",
      "           😅       0.04      0.02      0.02       761\n",
      "           😆       0.11      0.03      0.05       662\n",
      "           😉       0.06      0.07      0.07       761\n",
      "           😊       0.13      0.14      0.14       912\n",
      "           😋       0.20      0.21      0.20       820\n",
      "           😎       0.16      0.21      0.18       808\n",
      "           😍       0.11      0.22      0.15       913\n",
      "           😘       0.14      0.23      0.18       759\n",
      "           😗       0.09      0.01      0.03       405\n",
      "           😙       0.15      0.10      0.12       850\n",
      "           😚       0.13      0.13      0.13       635\n",
      "          ☺️       0.12      0.13      0.12       868\n",
      "           🙂       0.07      0.07      0.07       976\n",
      "           🤗       0.11      0.07      0.08       824\n",
      "           🤔       0.10      0.20      0.13       738\n",
      "           😐       0.06      0.05      0.06       921\n",
      "           😑       0.08      0.11      0.09      1100\n",
      "           😶       0.06      0.02      0.03       633\n",
      "           🙄       0.07      0.11      0.08      1111\n",
      "           😏       0.05      0.04      0.04       898\n",
      "           😣       0.05      0.03      0.04       923\n",
      "           😥       0.09      0.01      0.03       608\n",
      "           😮       0.12      0.16      0.13       666\n",
      "           🤐       0.15      0.14      0.15       574\n",
      "           😯       0.25      0.15      0.19       687\n",
      "           😪       0.06      0.07      0.06      1134\n",
      "           😫       0.06      0.04      0.05       832\n",
      "           😴       0.16      0.33      0.22       972\n",
      "           😌       0.06      0.06      0.06      1015\n",
      "           😛       0.10      0.15      0.12       937\n",
      "           😜       0.06      0.03      0.04       748\n",
      "           😝       0.05      0.04      0.05       776\n",
      "           🤤       0.10      0.26      0.14       840\n",
      "           😒       0.07      0.11      0.09      1001\n",
      "           😓       0.07      0.06      0.07      1036\n",
      "           😔       0.08      0.14      0.10      1241\n",
      "           😕       0.07      0.09      0.08      1116\n",
      "           🙃       0.07      0.10      0.08       979\n",
      "           🤑       0.22      0.39      0.28       810\n",
      "           😲       0.14      0.08      0.11       533\n",
      "          ☹️       0.10      0.15      0.12      1210\n",
      "           🙁       0.07      0.06      0.06       926\n",
      "           😖       0.10      0.05      0.06       890\n",
      "           😞       0.08      0.09      0.08      1132\n",
      "           😟       0.06      0.05      0.05       822\n",
      "           😤       0.08      0.12      0.10       960\n",
      "           😢       0.09      0.06      0.08       834\n",
      "           😭       0.12      0.07      0.09       815\n",
      "           😦       0.11      0.06      0.08       748\n",
      "           😧       0.03      0.01      0.01       658\n",
      "           😨       0.09      0.08      0.09       834\n",
      "           😩       0.08      0.06      0.07       877\n",
      "           😬       0.06      0.04      0.05       833\n",
      "           😰       0.18      0.02      0.04       577\n",
      "           😱       0.32      0.09      0.14       453\n",
      "           😳       0.06      0.02      0.02       591\n",
      "           😵       0.16      0.09      0.11       629\n",
      "           😡       0.16      0.12      0.13       603\n",
      "           😠       0.14      0.06      0.08       575\n",
      "           😷       0.16      0.11      0.13       825\n",
      "           🤒       0.26      0.29      0.27       968\n",
      "           🤕       0.17      0.06      0.09       644\n",
      "           🤢       0.16      0.31      0.21      1036\n",
      "           🤧       0.07      0.04      0.05       814\n",
      "           😇       0.22      0.21      0.22       797\n",
      "           🤠       0.21      0.19      0.20       838\n",
      "           🤡       0.35      0.20      0.25       621\n",
      "           🤥       0.43      0.41      0.42       839\n",
      "           🤓       0.14      0.18      0.16       919\n",
      "\n",
      "   micro avg       0.11      0.11      0.11     61778\n",
      "   macro avg       0.12      0.11      0.11     61778\n",
      "weighted avg       0.11      0.11      0.11     61778\n",
      "\n"
     ]
    }
   ],
   "source": [
    "print(metrics.classification_report(y_test, y_predicted,\n",
    "                                    target_names=T.target_names))"
   ]
  },
  {
   "cell_type": "code",
   "execution_count": 165,
   "metadata": {},
   "outputs": [
    {
     "data": {
      "text/plain": [
       "(75, 15207)"
      ]
     },
     "execution_count": 165,
     "metadata": {},
     "output_type": "execute_result"
    }
   ],
   "source": [
    "clf.coef_.shape"
   ]
  },
  {
   "cell_type": "code",
   "execution_count": 166,
   "metadata": {},
   "outputs": [
    {
     "data": {
      "text/plain": [
       "(61778, 75)"
      ]
     },
     "execution_count": 166,
     "metadata": {},
     "output_type": "execute_result"
    }
   ],
   "source": [
    "preds = clf.predict_proba(XV_test)\n",
    "preds.shape"
   ]
  },
  {
   "cell_type": "code",
   "execution_count": 167,
   "metadata": {},
   "outputs": [
    {
     "data": {
      "text/plain": [
       "(61778, 75)"
      ]
     },
     "execution_count": 167,
     "metadata": {},
     "output_type": "execute_result"
    }
   ],
   "source": [
    "# convert y_test into same shape as preds\n",
    "IX = [emoji_list.index(n) for n in target_names]\n",
    "\n",
    "truths = np.zeros((len(y_test), len(target_names)))\n",
    "for i in range(len(y_test)):\n",
    "    j = IX.index(y_test[i])\n",
    "    truths[i,j] = 1\n",
    "truths.shape"
   ]
  },
  {
   "cell_type": "code",
   "execution_count": 168,
   "metadata": {},
   "outputs": [],
   "source": [
    "#both preds and truths are same shape m by n (m is number of predictions and n is number of classes)\n",
    "def top_n_accuracy(preds, truths, n):\n",
    "    best_n = np.argsort(preds, axis=1)[:,-n:]\n",
    "    ts = np.argmax(truths, axis=1)\n",
    "    successes = 0\n",
    "    for i in range(ts.shape[0]):\n",
    "        if ts[i] in best_n[i,:]:\n",
    "            successes += 1\n",
    "    return float(successes)/ts.shape[0]\n",
    "# https://stackoverflow.com/questions/32461246/how-to-get-top-3-or-top-n-predictions-using-sklearns-sgdclassifier"
   ]
  },
  {
   "cell_type": "code",
   "execution_count": 169,
   "metadata": {},
   "outputs": [
    {
     "data": {
      "text/plain": [
       "0.21684094661529996"
      ]
     },
     "execution_count": 169,
     "metadata": {},
     "output_type": "execute_result"
    }
   ],
   "source": [
    "top_n_accuracy(preds, truths, 3)"
   ]
  },
  {
   "cell_type": "code",
   "execution_count": null,
   "metadata": {},
   "outputs": [],
   "source": [
    "numEmojis = 75\n",
    "x = np.array(range(1,numEmojis+1))\n",
    "y = [top_n_accuracy(preds, truths, i) for i in range(1,numEmojis+1)]\n",
    "\n",
    "plt.rcParams.update({'font.size': 22})"
   ]
  },
  {
   "cell_type": "code",
   "execution_count": 172,
   "metadata": {},
   "outputs": [
    {
     "data": {
      "image/png": "[encoded data removed]",
      "text/plain": [
       "<Figure size 432x288 with 1 Axes>"
      ]
     },
     "metadata": {
      "needs_background": "light"
     },
     "output_type": "display_data"
    }
   ],
   "source": [
    "fig, ax = plt.subplots()\n",
    "plt.plot(x, y, 'r', linewidth=2)\n",
    "plt.ylim(ymin=0)\n",
    "\n",
    "plt.xlabel('top n')\n",
    "plt.ylabel('accuracy')\n",
    "# plt.figtext(0.9, 0.05, '$x$')\n",
    "# plt.figtext(0.1, 0.9, '$y$')\n",
    "\n",
    "ax.spines['right'].set_visible(False)\n",
    "ax.spines['top'].set_visible(False)\n",
    "ax.xaxis.set_ticks_position('bottom')\n",
    "\n",
    "# a,b = 1,4\n",
    "# ax.set_xticks((a, b, numEmojis))\n",
    "# ax.set_xticklabels((str(a), str(b), str(numEmojis)))\n",
    "# ax.set_yticks([])\n",
    "\n",
    "plt.show()\n",
    "fig.savefig('top_n_accuracy_75x.png',bbox_inches='tight')"
   ]
  },
  {
   "cell_type": "code",
   "execution_count": 145,
   "metadata": {},
   "outputs": [],
   "source": [
    "# save model\n",
    "fullfile = os.path.expanduser(\"~/Dropbox/insight_datadir/\"+'clf_2step_8way_1002.p')\n",
    "with open(fullfile, 'wb') as fp:\n",
    "    pickle.dump([vectorizer,clf], fp)"
   ]
  },
  {
   "cell_type": "markdown",
   "metadata": {},
   "source": [
    "\n",
    "## Word cloud"
   ]
  },
  {
   "cell_type": "code",
   "execution_count": 36,
   "metadata": {},
   "outputs": [
    {
     "name": "stdout",
     "output_type": "stream",
     "text": [
      "['everybody', 'now', 'men', 'bored', 'tell', 'did', 'money', 'like', 'mean', 'whatever', 'ass', 'the', 'fucking', 'when', 'all', 'it', 'you', 'guess', 'he', 'get', 'yeah', 'tired of', 'class', 'why', 'monday', 'be', 'sure', 'then', 'doesn', 'phone', 'stupid', 'should', 'duh', 'obviously', 'to', 'or', 'but', 'because', 'lol', 'didn', 'they', 'what', 'work', 'annoying', 'no', 'that', 'don', 'people', 'hate', 'not']\n",
      "['everybody', 'now', 'men', 'bored', 'tell', 'did', 'money', 'like', 'mean', 'whatever', 'ass', 'the', 'f*cking', 'when', 'all', 'it', 'you', 'guess', 'he', 'get', 'yeah', 'tired of', 'class', 'why', 'monday', 'be', 'sure', 'then', 'doesn', 'phone', 'stupid', 'should', 'duh', 'obviously', 'to', 'or', 'but', 'because', 'lol', 'didn', 'they', 'what', 'work', 'annoying', 'no', 'that', 'don', 'people', 'hate', 'not']\n"
     ]
    }
   ],
   "source": [
    "to_sort = clf.coef_[2]\n",
    "to_sort.shape\n",
    "\n",
    "feature_names = vectorizer.get_feature_names()\n",
    "\n",
    "IX = np.argsort(to_sort)[-50:] # -50: largest values\n",
    "\n",
    "wordsList = []\n",
    "for ii in range(len(IX)):\n",
    "    wordsList.append(feature_names[IX[ii]])\n",
    "print(wordsList)\n",
    "\n",
    "# ix = wordsList.index(\"fucking\")\n",
    "# wordsList[ix] = 'f*cking'\n",
    "# print(wordsList)"
   ]
  },
  {
   "cell_type": "code",
   "execution_count": 37,
   "metadata": {},
   "outputs": [],
   "source": [
    "# make word cloud input\n",
    "K = wordsList\n",
    "V = abs(np.sort(to_sort)[:50])\n",
    "d = {}\n",
    "for ii in range(50):\n",
    "    k = K[ii]\n",
    "    v = V[ii]\n",
    "    d[k] = v"
   ]
  },
  {
   "cell_type": "code",
   "execution_count": 42,
   "metadata": {},
   "outputs": [
    {
     "data": {
      "image/png": "[encoded data removed]",
      "text/plain": [
       "<Figure size 432x288 with 1 Axes>"
      ]
     },
     "metadata": {
      "needs_background": "light"
     },
     "output_type": "display_data"
    },
    {
     "data": {
      "text/plain": [
       "<wordcloud.wordcloud.WordCloud at 0x105ccd6a0>"
      ]
     },
     "execution_count": 42,
     "metadata": {},
     "output_type": "execute_result"
    }
   ],
   "source": [
    "# wordcloud = WordCloud(background_color=\"white\",width=900,height=500, max_words=1628,relative_scaling=1,normalize_plurals=False).generate_from_frequencies(d)\n",
    "wordcloud = WordCloud(background_color=\"white\",width=900,height=500,max_font_size=100).generate_from_frequencies(d)\n",
    "\n",
    "plt.imshow(wordcloud, interpolation='bilinear')\n",
    "plt.axis(\"off\")\n",
    "plt.show()\n",
    "wordcloud.to_file(\"eye_roll_words.png\")"
   ]
  },
  {
   "cell_type": "code",
   "execution_count": null,
   "metadata": {},
   "outputs": [],
   "source": [
    "arr1 = np.array([0,1,2], dtype=float)\n",
    "print(arr1)\n",
    "arr2 = np.array([1,-1,0], dtype=float)\n",
    "print(arr2)\n",
    "np.dot(arr1, arr2)"
   ]
  },
  {
   "cell_type": "code",
   "execution_count": null,
   "metadata": {},
   "outputs": [],
   "source": []
  },
  {
   "cell_type": "code",
   "execution_count": null,
   "metadata": {},
   "outputs": [],
   "source": []
  },
  {
   "cell_type": "code",
   "execution_count": 102,
   "metadata": {},
   "outputs": [
    {
     "data": {
      "text/plain": [
       "0.8193333333333334"
      ]
     },
     "execution_count": 102,
     "metadata": {},
     "output_type": "execute_result"
    }
   ],
   "source": [
    "metrics.accuracy_score(y_test, y_predicted)"
   ]
  },
  {
   "cell_type": "markdown",
   "metadata": {},
   "source": [
    "The precision is the ratio tp / (tp + fp) where tp is the number of true positives and fp the number of false positives. The precision is intuitively the ability of the classifier not to label as positive a sample that is negative.\n",
    "\n",
    "The recall is the ratio tp / (tp + fn) where tp is the number of true positives and fn the number of false negatives. The recall is intuitively the ability of the classifier to find all the positive samples.\n",
    "\n",
    "The F-beta score can be interpreted as a weighted harmonic mean of the precision and recall, where an F-beta score reaches its best value at 1 and worst score at 0.\n",
    "\n",
    "The F-beta score weights recall more than precision by a factor of beta. beta == 1.0 means recall and precision are equally important.\n",
    "\n",
    "\n",
    "F1 = 2 * (precision * recall) / (precision + recall) \n",
    "https://github.com/scikit-learn/scikit-learn/blob/f0ab589f/sklearn/metrics/classification.py#L1363"
   ]
  },
  {
   "cell_type": "code",
   "execution_count": 28,
   "metadata": {},
   "outputs": [
    {
     "name": "stdout",
     "output_type": "stream",
     "text": [
      "[[877  97]\n",
      " [131 895]]\n"
     ]
    }
   ],
   "source": [
    "# Plot the confusion matrix\n",
    "cm = metrics.confusion_matrix(y_test, y_predicted)\n",
    "print(cm)"
   ]
  },
  {
   "cell_type": "code",
   "execution_count": 29,
   "metadata": {},
   "outputs": [
    {
     "data": {
      "image/png": "[encoded data removed]",
      "text/plain": [
       "<Figure size 288x288 with 1 Axes>"
      ]
     },
     "metadata": {
      "needs_background": "light"
     },
     "output_type": "display_data"
    }
   ],
   "source": [
    "import matplotlib.pyplot as plt\n",
    "plt.matshow(cm, cmap=plt.cm.jet)\n",
    "plt.show()"
   ]
  },
  {
   "cell_type": "code",
   "execution_count": 26,
   "metadata": {},
   "outputs": [],
   "source": [
    "# Predict the result on some short new sentences:\n",
    "sentences = [\n",
    "    u'lovely definition: 1. pleasant or enjoyable: 2. beautiful:',\n",
    "    u'Hate speech is a communication that carries no meaning other than the expression of hatred for some group',\n",
    "    u'amazing wow love this!!!',\n",
    "]\n",
    "predicted = clf.predict(sentences)"
   ]
  },
  {
   "cell_type": "code",
   "execution_count": 27,
   "metadata": {},
   "outputs": [
    {
     "name": "stdout",
     "output_type": "stream",
     "text": [
      "['😍', '😡', '😍']\n"
     ]
    }
   ],
   "source": [
    "output = []\n",
    "for ii in predicted:\n",
    "    output.append(T.target_names[ii])\n",
    "print(output)"
   ]
  },
  {
   "cell_type": "code",
   "execution_count": null,
   "metadata": {},
   "outputs": [],
   "source": [
    "# save model\n",
    "fullfile = os.path.expanduser(\"~/Dropbox/insight_datadir/Webapp_data/\"+'clf_0930.p')\n",
    "with open(fullfile, 'wb') as fp:\n",
    "    pickle.dump(clf, fp)"
   ]
  },
  {
   "cell_type": "code",
   "execution_count": null,
   "metadata": {},
   "outputs": [],
   "source": []
  },
  {
   "cell_type": "code",
   "execution_count": null,
   "metadata": {},
   "outputs": [],
   "source": [
    "docs_new = ['God is love', 'what have you done!','Oh yeah? don''t try to trick me']\n",
    "X_new_counts = count_vect.transform(docs_new)\n",
    "X_new_tfidf = tfidf_transformer.transform(X_new_counts)\n",
    "\n",
    "predicted = clf1.predict(X_new_tfidf)\n",
    "\n",
    "for doc, category in zip(docs_new, predicted):\n",
    "    print('%r => %s' % (doc, T.target_names[category]))"
   ]
  }
 ],
 "metadata": {
  "kernelspec": {
   "display_name": "Python (insight)",
   "language": "python",
   "name": "insight"
  },
  "language_info": {
   "codemirror_mode": {
    "name": "ipython",
    "version": 3
   },
   "file_extension": ".py",
   "mimetype": "text/x-python",
   "name": "python",
   "nbconvert_exporter": "python",
   "pygments_lexer": "ipython3",
   "version": "3.6.6"
  },
  "varInspector": {
   "cols": {
    "lenName": 16,
    "lenType": 16,
    "lenVar": 40
   },
   "kernels_config": {
    "python": {
     "delete_cmd_postfix": "",
     "delete_cmd_prefix": "del ",
     "library": "var_list.py",
     "varRefreshCmd": "print(var_dic_list())"
    },
    "r": {
     "delete_cmd_postfix": ") ",
     "delete_cmd_prefix": "rm(",
     "library": "var_list.r",
     "varRefreshCmd": "cat(var_dic_list()) "
    }
   },
   "oldHeight": 283,
   "position": {
    "height": "305px",
    "left": "1070px",
    "right": "20px",
    "top": "120px",
    "width": "326px"
   },
   "types_to_exclude": [
    "module",
    "function",
    "builtin_function_or_method",
    "instance",
    "_Feature"
   ],
   "varInspector_section_display": "block",
   "window_display": false
  }
 },
 "nbformat": 4,
 "nbformat_minor": 2
}
