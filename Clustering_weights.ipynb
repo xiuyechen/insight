{
 "cells": [
  {
   "cell_type": "code",
   "execution_count": 2,
   "metadata": {},
   "outputs": [],
   "source": [
    "import numpy as np\n",
    "import os, pickle\n",
    "import matplotlib.pyplot as plt\n",
    "\n",
    "from sklearn.feature_extraction.text import TfidfVectorizer\n",
    "from sklearn import metrics\n",
    "from wordcloud import WordCloud\n",
    "from sklearn.linear_model import LogisticRegression"
   ]
  },
  {
   "cell_type": "code",
   "execution_count": 3,
   "metadata": {},
   "outputs": [
    {
     "name": "stdout",
     "output_type": "stream",
     "text": [
      "['😀', '😁', '😂', '🤣', '😃', '😄', '😅', '😆', '😉', '😊', '😋', '😎', '😍', '😘', '😗', '😙', '😚', '☺️', '🙂', '🤗', '🤔', '😐', '😑', '😶', '🙄', '😏', '😣', '😥', '😮', '🤐', '😯', '😪', '😫', '😴', '😌', '😛', '😜', '😝', '🤤', '😒', '😓', '😔', '😕', '🙃', '🤑', '😲', '☹️', '🙁', '😖', '😞', '😟', '😤', '😢', '😭', '😦', '😧', '😨', '😩', '😬', '😰', '😱', '😳', '😵', '😡', '😠', '😷', '🤒', '🤕', '🤢', '🤧', '😇', '🤠', '🤡', '🤥', '🤓']\n",
      "75\n"
     ]
    }
   ],
   "source": [
    "# load emoji list\n",
    "fullfile = os.path.expanduser(\"~/Dropbox/insight/Emoji/\"+'mySmileys.p')\n",
    "with open(fullfile, 'rb') as fp:\n",
    "    emoji_list = pickle.load(fp)\n",
    "print(emoji_list)\n",
    "print(len(emoji_list))"
   ]
  },
  {
   "cell_type": "code",
   "execution_count": 4,
   "metadata": {},
   "outputs": [],
   "source": [
    "fullfile = os.path.expanduser(\"~/Dropbox/insight_datadir/\"+'clf_2step_75way_1002_mindf6.p')\n",
    "# fullfile = os.path.expanduser(\"~/Dropbox/insight_datadir/\"+'clf_2step_8way_1002.p')\n",
    "with open(fullfile, 'rb') as fp:\n",
    "    vectorizer,clf = pickle.load(fp)"
   ]
  },
  {
   "cell_type": "code",
   "execution_count": null,
   "metadata": {},
   "outputs": [],
   "source": [
    "# fullfile = os.path.expanduser(\"~/Dropbox/insight/Twitter/\"+'tweet_data_75x_unique_singles_target1d.p')\n",
    "# #'tweet_data_75x_unique_singles_target1d.p')\n",
    "# with open(fullfile, 'rb') as fp:\n",
    "#     D = pickle.load(fp)"
   ]
  },
  {
   "cell_type": "code",
   "execution_count": 5,
   "metadata": {},
   "outputs": [
    {
     "data": {
      "text/plain": [
       "(75, 15207)"
      ]
     },
     "execution_count": 5,
     "metadata": {},
     "output_type": "execute_result"
    }
   ],
   "source": [
    "X = clf.coef_\n",
    "X.shape"
   ]
  },
  {
   "cell_type": "code",
   "execution_count": null,
   "metadata": {},
   "outputs": [],
   "source": []
  },
  {
   "cell_type": "code",
   "execution_count": 6,
   "metadata": {},
   "outputs": [
    {
     "data": {
      "image/png": "[encoded data removed]",
      "text/plain": [
       "<Figure size 432x288 with 2 Axes>"
      ]
     },
     "metadata": {
      "needs_background": "light"
     },
     "output_type": "display_data"
    }
   ],
   "source": [
    "cm = np.corrcoef(X)\n",
    "\n",
    "plt.imshow(cm,interpolation='nearest')\n",
    "plt.colorbar()\n",
    "plt.show()"
   ]
  },
  {
   "cell_type": "code",
   "execution_count": 36,
   "metadata": {},
   "outputs": [],
   "source": []
  },
  {
   "cell_type": "markdown",
   "metadata": {},
   "source": [
    "## try the prediction probs"
   ]
  },
  {
   "cell_type": "code",
   "execution_count": 7,
   "metadata": {},
   "outputs": [],
   "source": [
    "# load data\n",
    "class tweet_data:\n",
    "    pass\n",
    "\n",
    "# D = tweet_data()\n",
    "# D.raw_data = rawdata\n",
    "# D.data = data\n",
    "# D.raw_target = raw_target\n",
    "# D.filenames = filenames\n",
    "# D.numTweets = Len\n",
    "# D.target_1d = target_1d\n",
    "# # D.target_arr = target_arr\n",
    "# D.target_names = target_names\n",
    "\n",
    "fullfile = os.path.expanduser(\"~/Dropbox/insight/Twitter/\"+'tweet_data_75x_unique_singles_target1d.p')\n",
    "#'tweet_data_75x_unique_singles_target1d.p')\n",
    "with open(fullfile, 'rb') as fp:\n",
    "    D = pickle.load(fp)"
   ]
  },
  {
   "cell_type": "code",
   "execution_count": 43,
   "metadata": {},
   "outputs": [
    {
     "name": "stdout",
     "output_type": "stream",
     "text": [
      "8\n"
     ]
    }
   ],
   "source": [
    "# select subset\n",
    "target_names = ['😀','😎','😶','😛','😩','😱','😷','🤓']\n",
    "numEmojis = len(target_names)\n",
    "print(numEmojis)\n",
    "\n",
    "IX = [emoji_list.index(n) for n in target_names]\n",
    "Len = D.numTweets\n",
    "\n",
    "data = []\n",
    "target = []\n",
    "for i in range(numEmojis):\n",
    "    ix = IX[i]\n",
    "    i_end = (np.cumsum(Len)[ix])\n",
    "    i_start = i_end - Len[ix]\n",
    "    data_chunk = D.data[i_start:i_end]\n",
    "    target_chunk = D.target_1d[i_start:i_end]\n",
    "    data.extend(data_chunk)\n",
    "    target.extend(target_chunk)\n",
    "target_1d = np.array(target, dtype=int)  "
   ]
  },
  {
   "cell_type": "code",
   "execution_count": 11,
   "metadata": {},
   "outputs": [],
   "source": [
    "# this is like a struct\n",
    "class tweet_train:\n",
    "    pass"
   ]
  },
  {
   "cell_type": "code",
   "execution_count": 9,
   "metadata": {},
   "outputs": [
    {
     "ename": "SyntaxError",
     "evalue": "unexpected EOF while parsing (<ipython-input-9-839ebf44d939>, line 12)",
     "output_type": "error",
     "traceback": [
      "\u001b[0;36m  File \u001b[0;32m\"<ipython-input-9-839ebf44d939>\"\u001b[0;36m, line \u001b[0;32m12\u001b[0m\n\u001b[0;31m    \u001b[0m\n\u001b[0m    ^\u001b[0m\n\u001b[0;31mSyntaxError\u001b[0m\u001b[0;31m:\u001b[0m unexpected EOF while parsing\n"
     ]
    }
   ],
   "source": [
    "T = tweet_train()\n",
    "T.target_names = target_names\n",
    "T.data = data\n",
    "#T.filenames = D.filenames\n",
    "T.target = target_1d\n",
    "\n",
    "# if 0:\n",
    "    "
   ]
  },
  {
   "cell_type": "code",
   "execution_count": 12,
   "metadata": {},
   "outputs": [],
   "source": [
    "    # load all data\n",
    "    target_names = emoji_list\n",
    "    T = tweet_train()\n",
    "    T.target_names = target_names\n",
    "    T.data = D.data\n",
    "    T.filenames = D.filenames\n",
    "    T.target = D.target_1d#target"
   ]
  },
  {
   "cell_type": "code",
   "execution_count": 13,
   "metadata": {},
   "outputs": [],
   "source": [
    "# Split the dataset in training and test set:\n",
    "from sklearn.model_selection import train_test_split\n",
    "X_train, X_test, y_train, y_test = train_test_split(\n",
    "    T.data, T.target, test_size=0.2,random_state=0)"
   ]
  },
  {
   "cell_type": "code",
   "execution_count": 75,
   "metadata": {},
   "outputs": [
    {
     "data": {
      "text/plain": [
       "(61778, 75)"
      ]
     },
     "execution_count": 75,
     "metadata": {},
     "output_type": "execute_result"
    }
   ],
   "source": [
    "XV_test = vectorizer.transform(X_test)\n",
    "\n",
    "preds = clf.predict_proba(XV_test)\n",
    "preds.shape"
   ]
  },
  {
   "cell_type": "code",
   "execution_count": 74,
   "metadata": {},
   "outputs": [
    {
     "data": {
      "text/plain": [
       "(308887, 75)"
      ]
     },
     "execution_count": 74,
     "metadata": {},
     "output_type": "execute_result"
    }
   ],
   "source": [
    "XV = vectorizer.transform(T.data)\n",
    "\n",
    "preds = clf.predict_proba(XV)\n",
    "preds.shape\n"
   ]
  },
  {
   "cell_type": "code",
   "execution_count": 73,
   "metadata": {},
   "outputs": [
    {
     "data": {
      "text/plain": [
       "(61778, 75)"
      ]
     },
     "execution_count": 73,
     "metadata": {},
     "output_type": "execute_result"
    }
   ],
   "source": [
    "# convert y_test into same shape as preds\n",
    "IX = [emoji_list.index(n) for n in target_names]\n",
    "\n",
    "truths = np.zeros((len(y_test), len(target_names)))\n",
    "for i in range(len(y_test)):\n",
    "    j = IX.index(y_test[i])\n",
    "    truths[i,j] = 1\n",
    "truths.shape\n",
    "    "
   ]
  },
  {
   "cell_type": "code",
   "execution_count": 84,
   "metadata": {},
   "outputs": [
    {
     "data": {
      "text/plain": [
       "(array([2316206,    4278,    2243,     898,     421,     289,     160,\n",
       "             61,      56,      13]),\n",
       " array([0.        , 0.07170415, 0.14340829, 0.21511244, 0.28681659,\n",
       "        0.35852074, 0.43022488, 0.50192903, 0.57363318, 0.64533733,\n",
       "        0.71704147]))"
      ]
     },
     "execution_count": 84,
     "metadata": {},
     "output_type": "execute_result"
    }
   ],
   "source": [
    "np.histogram(preds2[:])"
   ]
  },
  {
   "cell_type": "code",
   "execution_count": 85,
   "metadata": {},
   "outputs": [
    {
     "data": {
      "image/png": "[encoded data removed]",
      "text/plain": [
       "<Figure size 432x288 with 1 Axes>"
      ]
     },
     "metadata": {
      "needs_background": "light"
     },
     "output_type": "display_data"
    }
   ],
   "source": [
    "plt.hist(preds2[:], bins='auto')  # arguments are passed to np.histogram\n",
    "plt.title(\"Histogram with 'auto' bins\")\n",
    "plt.show()"
   ]
  },
  {
   "cell_type": "code",
   "execution_count": 16,
   "metadata": {},
   "outputs": [
    {
     "data": {
      "image/png": "[encoded data removed]",
      "text/plain": [
       "<Figure size 432x288 with 2 Axes>"
      ]
     },
     "metadata": {
      "needs_background": "light"
     },
     "output_type": "display_data"
    }
   ],
   "source": [
    "cm = np.corrcoef(np.transpose(preds))\n",
    "\n",
    "fig, ax = plt.subplots()\n",
    "plt.imshow(cm,interpolation='nearest')\n",
    "plt.colorbar()\n",
    "plt.show()\n",
    "fig.savefig('AllX_75_predprob_Corr.png', bbox_inches='tight')"
   ]
  },
  {
   "cell_type": "code",
   "execution_count": 19,
   "metadata": {},
   "outputs": [
    {
     "data": {
      "image/png": "[encoded data removed]",
      "text/plain": [
       "<Figure size 1440x504 with 1 Axes>"
      ]
     },
     "metadata": {
      "needs_background": "light"
     },
     "output_type": "display_data"
    }
   ],
   "source": [
    "from scipy.cluster.hierarchy import dendrogram, linkage, leaves_list\n",
    "\n",
    "\n",
    "linked = linkage(cm, 'single')\n",
    "\n",
    "labelList = emoji_list\n",
    "\n",
    "fig = plt.figure(figsize=(20, 7))  \n",
    "dg = dendrogram(linked,  \n",
    "            orientation='top',\n",
    "#             labels=labelList,\n",
    "            distance_sort='descending')\n",
    "plt.show()\n",
    "# fig.savefig('AllX_75_predprob_Hier.png', bbox_inches='tight')"
   ]
  },
  {
   "cell_type": "code",
   "execution_count": 21,
   "metadata": {},
   "outputs": [
    {
     "data": {
      "text/plain": [
       "dict_keys(['icoord', 'dcoord', 'ivl', 'leaves', 'color_list'])"
      ]
     },
     "execution_count": 21,
     "metadata": {},
     "output_type": "execute_result"
    }
   ],
   "source": [
    "dg.keys()"
   ]
  },
  {
   "cell_type": "code",
   "execution_count": 44,
   "metadata": {},
   "outputs": [
    {
     "name": "stdout",
     "output_type": "stream",
     "text": [
      "['b', 'g', 'g', 'b', 'r', 'b', 'b', 'c', 'm', 'm', 'm', 'm', 'm', 'm', 'm', 'm', 'm', 'm', 'y', 'y', 'b', 'b', 'b', 'b', 'b', 'b', 'b', 'b', 'k', 'k', 'k', 'k', 'k', 'b', 'b', 'b', 'b', 'b', 'g', 'r', 'r', 'r', 'r', 'r', 'r', 'r', 'r', 'b', 'b', 'b', 'b', 'b', 'b', 'b', 'c', 'm', 'm', 'm', 'b', 'b', 'b', 'b', 'b', 'b', 'b', 'b', 'b', 'b', 'b', 'b', 'b', 'b', 'b', 'b']\n",
      "['😀', '😁', '😂', '🤣', '😃', '😄']\n",
      "[33, 71, 72, 73, 66, 65, 68, 10, 38, 2, 3, 29, 51, 44, 12, 70, 34, 74, 7, 11, 35, 37, 14, 18, 15, 13, 16, 9, 17, 19, 4, 0, 1, 5, 25, 8, 36, 62, 30, 60, 56, 54, 55, 61, 28, 45, 20, 6, 58, 53, 69, 67, 32, 57, 59, 50, 41, 48, 42, 26, 31, 40, 52, 27, 46, 47, 49, 23, 63, 64, 43, 21, 22, 24, 39]\n"
     ]
    }
   ],
   "source": [
    "print(dg['color_list'])\n",
    "print(emoji_list[0:6])\n",
    "print(dg['leaves'])"
   ]
  },
  {
   "cell_type": "code",
   "execution_count": 42,
   "metadata": {},
   "outputs": [
    {
     "name": "stdout",
     "output_type": "stream",
     "text": [
      "[8, 9, 10, 11, 12, 13, 14, 15, 16, 17, 55, 56, 57]\n",
      "38\n",
      "2\n",
      "3\n",
      "29\n",
      "51\n",
      "44\n",
      "12\n",
      "70\n",
      "34\n",
      "74\n",
      "50\n",
      "41\n",
      "48\n"
     ]
    }
   ],
   "source": [
    "clist = dg['color_list']\n",
    "IX = [i for i, e in enumerate(clist) if e == 'm']\n",
    "print(IX)\n",
    "for i in IX:\n",
    "#     print(i)\n",
    "     print(dg['leaves'][i])"
   ]
  },
  {
   "cell_type": "code",
   "execution_count": 32,
   "metadata": {},
   "outputs": [
    {
     "data": {
      "text/plain": [
       "72"
      ]
     },
     "execution_count": 32,
     "metadata": {},
     "output_type": "execute_result"
    }
   ],
   "source": [
    "dg['leaves'][2]\n",
    "    "
   ]
  },
  {
   "cell_type": "code",
   "execution_count": 113,
   "metadata": {},
   "outputs": [],
   "source": [
    "# the above is just to visualize and decide nclus... = 34\n",
    "# https://stackabuse.com/hierarchical-clustering-with-python-and-scikit-learn/"
   ]
  },
  {
   "cell_type": "code",
   "execution_count": 131,
   "metadata": {},
   "outputs": [],
   "source": [
    "from sklearn.cluster import AgglomerativeClustering\n",
    "\n",
    "cluster = AgglomerativeClustering(n_clusters=25, affinity='euclidean', linkage='ward')  \n",
    "gIX = cluster.fit_predict(cm)"
   ]
  },
  {
   "cell_type": "code",
   "execution_count": 48,
   "metadata": {},
   "outputs": [
    {
     "data": {
      "text/plain": [
       "array([ 8,  8,  0,  0,  8,  8,  6,  4,  4, 16, 14,  4,  2, 19,  2, 19, 19,\n",
       "       16,  8, 16,  6,  5,  5,  9,  5,  4,  3, 12,  1,  0,  1,  3, 18, 10,\n",
       "        2, 17,  4, 17, 14,  5,  3, 12,  3,  5, 10,  1, 12, 12,  3, 12,  9,\n",
       "        0, 12, 11,  7,  7,  7, 18,  6,  9,  1,  1,  1, 15, 15, 13, 13,  3,\n",
       "       13, 11,  2, 10, 10, 10,  4])"
      ]
     },
     "execution_count": 48,
     "metadata": {},
     "output_type": "execute_result"
    }
   ],
   "source": []
  },
  {
   "cell_type": "code",
   "execution_count": 132,
   "metadata": {},
   "outputs": [
    {
     "name": "stdout",
     "output_type": "stream",
     "text": [
      "[[12, 14, 34, 70], [26, 31, 40, 42, 48, 67], [44, 71], [7, 11, 74], [23, 50, 59], [21, 22, 24, 39, 43], [6, 20, 58], [54, 55, 56], [0, 1, 4, 5, 18], [30, 60, 62], [8, 25, 36], [72, 73], [27, 41, 46, 47, 49, 52], [65, 66, 68], [10, 38], [63, 64], [9, 17, 19], [35, 37], [32, 57], [13, 15, 16], [2, 3], [28, 45, 61], [29, 51], [53, 69], [33]]\n"
     ]
    }
   ],
   "source": [
    "nClus = gIX.max()+1\n",
    "G = [[] for x in range(nClus)]\n",
    "\n",
    "for i in range(len(gIX)):\n",
    "    id = gIX[i]\n",
    "    G[id] = G[id] + [i]#.extend(i)\n",
    "    \n",
    "#     print(emoji_list[gIX[i]],end=' ')\n",
    "print(G)"
   ]
  },
  {
   "cell_type": "code",
   "execution_count": 85,
   "metadata": {},
   "outputs": [
    {
     "data": {
      "text/plain": [
       "[0, 1, 4, 5, 18]"
      ]
     },
     "execution_count": 85,
     "metadata": {},
     "output_type": "execute_result"
    }
   ],
   "source": [
    "def get_group(i_index,G):\n",
    "    for i in range(nClus):\n",
    "        a = G[i]\n",
    "        if i_index in a:\n",
    "            i_group = i #print(i)\n",
    "\n",
    "    this_group = G[i_group] \n",
    "    return this_group  \n",
    "\n",
    "get_group(18,G)"
   ]
  },
  {
   "cell_type": "code",
   "execution_count": 133,
   "metadata": {},
   "outputs": [
    {
     "name": "stdout",
     "output_type": "stream",
     "text": [
      "😍 😗 😌 😇 \n",
      "😣 😪 😓 😕 😖 🤕 \n",
      "🤑 🤠 \n",
      "😆 😎 🤓 \n",
      "😶 😟 😰 \n",
      "😐 😑 🙄 😒 🙃 \n",
      "😅 🤔 😬 \n",
      "😦 😧 😨 \n",
      "😀 😁 😃 😄 🙂 \n",
      "😯 😱 😵 \n",
      "😉 😏 😜 \n",
      "🤡 🤥 \n",
      "😥 😔 ☹️ 🙁 😞 😢 \n",
      "😷 🤒 🤢 \n",
      "😋 🤤 \n",
      "😡 😠 \n",
      "😊 ☺️ 🤗 \n",
      "😛 😝 \n",
      "😫 😩 \n",
      "😘 😙 😚 \n",
      "😂 🤣 \n",
      "😮 😲 😳 \n",
      "🤐 😤 \n",
      "😭 🤧 \n",
      "😴 \n"
     ]
    }
   ],
   "source": [
    "for i in range(nClus):\n",
    "    for j in range(len(G[i])):\n",
    "        print(emoji_list[G[i][j]],end=' ')\n",
    "    print(\"\")\n",
    "    "
   ]
  },
  {
   "cell_type": "code",
   "execution_count": 111,
   "metadata": {},
   "outputs": [],
   "source": [
    "def group_accuracy(preds, truths, n, G):\n",
    "    best_n = np.argsort(preds, axis=1)[:,-n:] # only for n=1 \n",
    "#     best_1 = np.argsort(preds, axis=1)[:,-1:] #\n",
    "    ts = np.argmax(truths, axis=1)\n",
    "    successes = 0\n",
    "    for i in range(ts.shape[0]): \n",
    "        this_group = get_group(ts[i],G) \n",
    "    \n",
    "        if len(set(list(best_n[i,:])) & set(list(this_group)))>0: #best_1[i,:] in this_group: # this becomes if ts[i] in group[i,:]\n",
    "            successes += 1\n",
    "    return float(successes)/ts.shape[0]"
   ]
  },
  {
   "cell_type": "code",
   "execution_count": 81,
   "metadata": {},
   "outputs": [
    {
     "data": {
      "text/plain": [
       "(61778,)"
      ]
     },
     "execution_count": 81,
     "metadata": {},
     "output_type": "execute_result"
    }
   ],
   "source": [
    "ts = np.argmax(truths, axis=1)\n",
    "ts.shape\n"
   ]
  },
  {
   "cell_type": "code",
   "execution_count": 134,
   "metadata": {},
   "outputs": [
    {
     "data": {
      "text/plain": [
       "0.19911619022953156"
      ]
     },
     "execution_count": 134,
     "metadata": {},
     "output_type": "execute_result"
    }
   ],
   "source": [
    "group_accuracy(preds, truths, 1, G)"
   ]
  },
  {
   "cell_type": "code",
   "execution_count": 77,
   "metadata": {},
   "outputs": [],
   "source": [
    "#both preds and truths are same shape m by n (m is number of predictions and n is number of classes)\n",
    "def top_n_accuracy(preds, truths, n):\n",
    "    best_n = np.argsort(preds, axis=1)[:,-n:]\n",
    "    ts = np.argmax(truths, axis=1)\n",
    "    successes = 0\n",
    "    for i in range(ts.shape[0]):\n",
    "        if ts[i] in best_n[i,:]:\n",
    "            successes += 1\n",
    "    return float(successes)/ts.shape[0]\n",
    "# https://stackoverflow.com/questions/32461246/h"
   ]
  },
  {
   "cell_type": "code",
   "execution_count": 106,
   "metadata": {},
   "outputs": [
    {
     "data": {
      "text/plain": [
       "True"
      ]
     },
     "execution_count": 106,
     "metadata": {},
     "output_type": "execute_result"
    }
   ],
   "source": [
    "len(set([2,5,3]) & set([3,4]))>0"
   ]
  },
  {
   "cell_type": "code",
   "execution_count": 117,
   "metadata": {},
   "outputs": [
    {
     "data": {
      "text/plain": [
       "0.2549127521124025"
      ]
     },
     "execution_count": 117,
     "metadata": {},
     "output_type": "execute_result"
    }
   ],
   "source": [
    "top_n_accuracy(preds, truths, 4)"
   ]
  },
  {
   "cell_type": "code",
   "execution_count": null,
   "metadata": {},
   "outputs": [],
   "source": []
  },
  {
   "cell_type": "code",
   "execution_count": null,
   "metadata": {},
   "outputs": [],
   "source": []
  },
  {
   "cell_type": "code",
   "execution_count": null,
   "metadata": {},
   "outputs": [],
   "source": []
  },
  {
   "cell_type": "code",
   "execution_count": null,
   "metadata": {},
   "outputs": [],
   "source": []
  }
 ],
 "metadata": {
  "kernelspec": {
   "display_name": "Python (insight)",
   "language": "python",
   "name": "insight"
  },
  "varInspector": {
   "cols": {
    "lenName": 16,
    "lenType": 16,
    "lenVar": 40
   },
   "kernels_config": {
    "python": {
     "delete_cmd_postfix": "",
     "delete_cmd_prefix": "del ",
     "library": "var_list.py",
     "varRefreshCmd": "print(var_dic_list())"
    },
    "r": {
     "delete_cmd_postfix": ") ",
     "delete_cmd_prefix": "rm(",
     "library": "var_list.r",
     "varRefreshCmd": "cat(var_dic_list()) "
    }
   },
   "types_to_exclude": [
    "module",
    "function",
    "builtin_function_or_method",
    "instance",
    "_Feature"
   ],
   "window_display": false
  }
 },
 "nbformat": 4,
 "nbformat_minor": 2
}
