{
 "cells": [
  {
   "cell_type": "code",
   "execution_count": 81,
   "metadata": {},
   "outputs": [],
   "source": [
    "import emoji\n",
    "import regex\n",
    "\n",
    "def extract_emojis(text):\n",
    "\n",
    "    emoji_list = []\n",
    "    data = regex.findall(r'\\X', text)\n",
    "    for word in data:\n",
    "        if any(char in emoji.UNICODE_EMOJI for char in word):\n",
    "            emoji_list.append(word)\n",
    "\n",
    "    return emoji_list"
   ]
  },
  {
   "cell_type": "code",
   "execution_count": 16,
   "metadata": {},
   "outputs": [
    {
     "name": "stdout",
     "output_type": "stream",
     "text": [
      "🤔 🙈 😌 💕 👭 👙 👩🏾‍ 🎓 👨‍ 👩‍ 👦‍ 👦 😊 🙅🏽 🙅🏽\n"
     ]
    }
   ],
   "source": [
    "#Testing (with more emojis with skin color):\n",
    "\n",
    "line = [\"🤔 🙈 me así, se 😌 ds 💕👭👙 hello 👩🏾‍🎓 emoji hello 👨‍👩‍👦‍👦 how are 😊 you today🙅🏽🙅🏽\"]\n",
    "\n",
    "counter = extract_emojis(line[0])\n",
    "print(' '.join(emoji for emoji in counter))"
   ]
  },
  {
   "cell_type": "code",
   "execution_count": 26,
   "metadata": {},
   "outputs": [
    {
     "data": {
      "text/plain": [
       "'  me así, se  ds  hello  emoji hello  how are  you today'"
      ]
     },
     "execution_count": 26,
     "metadata": {},
     "output_type": "execute_result"
    }
   ],
   "source": [
    "import re\n",
    "s = line[0]\n",
    "\n",
    "text = re.sub(\"|\".join(counter), \"\", s)\n",
    "text"
   ]
  },
  {
   "cell_type": "code",
   "execution_count": 27,
   "metadata": {},
   "outputs": [],
   "source": [
    "import emoji\n",
    "\n",
    "def extract_emojis(str):\n",
    "  return ''.join(c for c in str if c in emoji.UNICODE_EMOJI)"
   ]
  },
  {
   "cell_type": "code",
   "execution_count": 28,
   "metadata": {},
   "outputs": [
    {
     "name": "stdout",
     "output_type": "stream",
     "text": [
      "🤔 🙈 😌 💕 👭 👙 👩 🎓 👨 👩 👦 👦 😊 🙅 🙅\n"
     ]
    }
   ],
   "source": [
    "line = [\"🤔 🙈 me así, se 😌 ds 💕👭👙 hello 👩🏾‍🎓 emoji hello 👨‍👩‍👦‍👦 how are 😊 you today🙅🏽🙅🏽\"]\n",
    "\n",
    "counter = extract_emojis(line[0])\n",
    "print(' '.join(emoji for emoji in counter))"
   ]
  },
  {
   "cell_type": "code",
   "execution_count": 75,
   "metadata": {},
   "outputs": [
    {
     "name": "stdout",
     "output_type": "stream",
     "text": [
      "77\n",
      "😀😁😂🤣😃😄😅😆😉😊😋😎😍😘😗😙😚☺️🙂🤗🤔😐😑😶🙄😏😣😥😮🤐😯😪😫😴😌😛😜😝🤤😒😓😔😕🙃🤑😲☹️🙁😖😞😟😤😢😭😦😧😨😩😬😰😱😳😵😡😠😷🤒🤕🤢🤧😇🤠🤡🤥🤓\n"
     ]
    }
   ],
   "source": [
    "# http://getemoji.com/\n",
    "# my official smiley list: 77 browser supported human non-fantasy smileys\n",
    "Smileys = '😀 😁 😂 🤣 😃 😄 😅 😆 😉 😊 😋 😎 😍 😘 😗 😙 😚 ☺️ 🙂 🤗 🤔 😐 😑 😶 🙄 😏 😣 😥 😮 🤐 😯 😪 😫 😴 😌 😛 😜 😝 🤤 😒 😓 😔 😕 🙃 🤑 😲 ☹️ 🙁 😖 😞 😟 😤 😢 😭 😦 😧 😨 😩 😬 😰 😱 😳 😵 😡 😠 😷 🤒 🤕 🤢 🤧 😇 🤠 🤡 🤥 🤓'\n",
    "Smileys = Smileys.replace(\" \", \"\")\n",
    "print(len(Smileys))\n",
    "print(Smileys)\n",
    "\n",
    "S = \"😀😁😂🤣😃😄😅😆😉😊😋😎😍😘😗😙😚☺️🙂🤗🤔😐😑😶🙄😏😣😥😮🤐😯😪😫😴😌😛😜😝🤤😒😓😔😕🙃🤑😲☹️🙁😖😞😟😤😢😭😦😧😨😩😬😰😱😳😵😡😠😷🤒🤕🤢🤧😇🤠🤡🤥🤓\"\n"
   ]
  },
  {
   "cell_type": "code",
   "execution_count": 104,
   "metadata": {},
   "outputs": [
    {
     "name": "stdout",
     "output_type": "stream",
     "text": [
      "['😀', '😁', '😂', '🤣', '😃', '😄', '😅', '😆', '😉', '😊', '😋', '😎', '😍', '😘', '😗', '😙', '😚', '☺️', '🙂', '🤗', '🤔', '😐', '😑', '😶', '🙄', '😏', '😣', '😥', '😮', '🤐', '😯', '😪', '😫', '😴', '😌', '😛', '😜', '😝', '🤤', '😒', '😓', '😔', '😕', '🙃', '🤑', '😲', '☹️', '🙁', '😖', '😞', '😟', '😤', '😢', '😭', '😦', '😧', '😨', '😩', '😬', '😰', '😱', '😳', '😵', '😡', '😠', '😷', '🤒', '🤕', '🤢', '🤧', '😇', '🤠', '🤡', '🤥', '🤓']\n"
     ]
    }
   ],
   "source": [
    "# Emojis0 = \"😄 😃 😀 😊 ☺ 😉 😍 😘 😚 😗 😙 😜 😝 😛 😳 😁 😔 😌 😒 😞 😣 😢 😂 😭 😪 😥 😰 😅 😓 😩 😫 😨 😱 😠 😡 😤 😖 😆 😋 😷 😎 😴 😵 😲 😟 😦 😧 😈 👿 😮 😬 😐 😕 😯 😶 😇 😏 😑\"\n",
    "# Emojis = Emojis0.replace(\" \", \"\")\n",
    "# len(Emojis) = 58\n",
    "\n",
    "L = extract_emojis(S)\n",
    "print(L)"
   ]
  },
  {
   "cell_type": "code",
   "execution_count": 117,
   "metadata": {},
   "outputs": [],
   "source": [
    "# save my Smiley list\n",
    "# save model\n",
    "import pickle, os\n",
    "fullfile = os.path.expanduser(\"~/Dropbox/insight/Emoji/\"+'mySmileys.p')\n",
    "with open(fullfile, 'wb') as fp:\n",
    "    pickle.dump(L, fp)"
   ]
  },
  {
   "cell_type": "code",
   "execution_count": 92,
   "metadata": {},
   "outputs": [
    {
     "data": {
      "text/plain": [
       "['outfile☺',\n",
       " 'outfile😀',\n",
       " 'outfile😁',\n",
       " 'outfile😂',\n",
       " 'outfile😃',\n",
       " 'outfile😄',\n",
       " 'outfile😅',\n",
       " 'outfile😆',\n",
       " 'outfile😉',\n",
       " 'outfile😊',\n",
       " 'outfile😋',\n",
       " 'outfile😍',\n",
       " 'outfile😎',\n",
       " 'outfile😏',\n",
       " 'outfile😐',\n",
       " 'outfile😑',\n",
       " 'outfile😗',\n",
       " 'outfile😘',\n",
       " 'outfile😙',\n",
       " 'outfile😚',\n",
       " 'outfile😣',\n",
       " 'outfile😥',\n",
       " 'outfile😶',\n",
       " 'outfile🙂',\n",
       " 'outfile🙄',\n",
       " 'outfile🤔',\n",
       " 'outfile🤗',\n",
       " 'outfile🤣',\n",
       " 'outfile\\U0001f928',\n",
       " 'outfile\\U0001f929',\n",
       " 'outfile️']"
      ]
     },
     "execution_count": 92,
     "metadata": {},
     "output_type": "execute_result"
    }
   ],
   "source": [
    "from os.path import expanduser\n",
    "#home = expanduser(\"~\")\n",
    "mypath = expanduser(\"~/Dropbox/insight_datadir/5k_0921\")\n",
    "names = listdir(mypath)\n",
    "names"
   ]
  },
  {
   "cell_type": "code",
   "execution_count": 97,
   "metadata": {},
   "outputs": [
    {
     "data": {
      "text/plain": [
       "'😀'"
      ]
     },
     "execution_count": 97,
     "metadata": {},
     "output_type": "execute_result"
    }
   ],
   "source": [
    "e = extract_emojis(names[1])\n",
    "e[0]"
   ]
  },
  {
   "cell_type": "code",
   "execution_count": 101,
   "metadata": {},
   "outputs": [
    {
     "name": "stdout",
     "output_type": "stream",
     "text": [
      "[['☺'], ['😀'], ['😁'], ['😂'], ['😃'], ['😄'], ['😅'], ['😆'], ['😉'], ['😊'], ['😋'], ['😍'], ['😎'], ['😏'], ['😐'], ['😑'], ['😗'], ['😘'], ['😙'], ['😚'], ['😣'], ['😥'], ['😶'], ['🙂'], ['🙄'], ['🤔'], ['🤗'], ['🤣'], ['\\U0001f928'], ['\\U0001f929'], []]\n"
     ]
    }
   ],
   "source": [
    "E = []\n",
    "for ii in range(len(names)):\n",
    "    e = extract_emojis(names[ii])\n",
    "    E.append(e)\n",
    "print(E)"
   ]
  },
  {
   "cell_type": "code",
   "execution_count": 103,
   "metadata": {},
   "outputs": [
    {
     "name": "stdout",
     "output_type": "stream",
     "text": [
      "['😀', '😁', '😂', '😃', '😄', '😅', '😆', '😉', '😊', '😋', '😍', '😎', '😏', '😐', '😑', '😗', '😘', '😙', '😚', '😣', '😥', '😶', '🙂', '🙄', '🤔', '🤗', '🤣']\n"
     ]
    }
   ],
   "source": [
    "a1 = \"😀😁😂😃😄😅😆😉😊😋😍😎😏😐😑😗😘😙😚😣😥😶🙂🙄🤔🤗🤣\"\n",
    "\n",
    "L1 = []\n",
    "for e in a1:\n",
    "    L1.append(e)  \n",
    "print(L1)"
   ]
  },
  {
   "cell_type": "code",
   "execution_count": 111,
   "metadata": {},
   "outputs": [
    {
     "name": "stdout",
     "output_type": "stream",
     "text": [
      "48\n",
      "['😠', '😯', '😴', '😇', '😝', '😡', '🤡', '😵', '🤥', '🤢', '🙁', '🤠', '🤐', '🙃', '😬', '😜', '😳', '😓', '😒', '😟', '☺️', '😢', '☹️', '😤', '🤧', '😖', '😨', '😞', '😩', '😌', '😲', '🤒', '😔', '😰', '🤕', '😮', '😫', '😛', '🤑', '😦', '😱', '🤓', '😕', '😭', '😪', '😧', '😷', '🤤']\n"
     ]
    }
   ],
   "source": [
    "L2 = list(set(L) - set(L1))\n",
    "print(len(L2))\n",
    "print(L2)"
   ]
  },
  {
   "cell_type": "code",
   "execution_count": null,
   "metadata": {},
   "outputs": [],
   "source": []
  }
 ],
 "metadata": {
  "kernelspec": {
   "display_name": "Python (insight)",
   "language": "python",
   "name": "insight"
  },
  "language_info": {
   "codemirror_mode": {
    "name": "ipython",
    "version": 3
   },
   "file_extension": ".py",
   "mimetype": "text/x-python",
   "name": "python",
   "nbconvert_exporter": "python",
   "pygments_lexer": "ipython3",
   "version": "3.6.6"
  },
  "varInspector": {
   "cols": {
    "lenName": 16,
    "lenType": 16,
    "lenVar": 40
   },
   "kernels_config": {
    "python": {
     "delete_cmd_postfix": "",
     "delete_cmd_prefix": "del ",
     "library": "var_list.py",
     "varRefreshCmd": "print(var_dic_list())"
    },
    "r": {
     "delete_cmd_postfix": ") ",
     "delete_cmd_prefix": "rm(",
     "library": "var_list.r",
     "varRefreshCmd": "cat(var_dic_list()) "
    }
   },
   "types_to_exclude": [
    "module",
    "function",
    "builtin_function_or_method",
    "instance",
    "_Feature"
   ],
   "window_display": false
  }
 },
 "nbformat": 4,
 "nbformat_minor": 2
}
