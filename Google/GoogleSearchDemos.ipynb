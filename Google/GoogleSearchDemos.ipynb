{
 "cells": [
  {
   "cell_type": "code",
   "execution_count": 54,
   "metadata": {},
   "outputs": [],
   "source": [
    "import emoji\n",
    "import pandas as pd"
   ]
  },
  {
   "cell_type": "code",
   "execution_count": 20,
   "metadata": {},
   "outputs": [],
   "source": [
    "import pickle, os\n",
    "fullfile = os.path.expanduser(\"~/Dropbox/insight/Google/\"+'Song99Qs.p')\n",
    "with open(fullfile, 'rb') as fp:\n",
    "    Q = pickle.load(fp)"
   ]
  },
  {
   "cell_type": "code",
   "execution_count": 149,
   "metadata": {},
   "outputs": [],
   "source": [
    "def parse_content(res):\n",
    "    \n",
    "    # res.keys() = ['kind', 'items', 'queries', 'searchInformation', 'context', 'url']  \n",
    "    items = res['items']\n",
    "    strList = [];\n",
    "    for ii in range(len(items)):\n",
    "        item = items[ii]\n",
    "        # dict_keys(['kind', 'title', 'htmlTitle', 'link', 'displayLink', 'snippet', 'htmlSnippet', 'cacheId', 'formattedUrl', 'htmlFormattedUrl', 'pagemap'])\n",
    "        string = item['title'] + item['snippet']\n",
    "        strList.append(string)\n",
    "    # df = pd.DataFrame(strList)\n",
    "    return strList"
   ]
  },
  {
   "cell_type": "code",
   "execution_count": 59,
   "metadata": {},
   "outputs": [],
   "source": [
    "def parse_return(res):\n",
    "    # import pandas as pd\n",
    "    # res.keys() = ['kind', 'items', 'queries', 'searchInformation', 'context', 'url']  \n",
    "    items = res['items']\n",
    "    strList = [];\n",
    "    for ii in range(10):\n",
    "        item = items[ii]\n",
    "        # dict_keys(['kind', 'title', 'htmlTitle', 'link', 'displayLink', 'snippet', 'htmlSnippet', 'cacheId', 'formattedUrl', 'htmlFormattedUrl', 'pagemap'])\n",
    "        strList.append(ii+1)\n",
    "        strList.append(item['title'])\n",
    "        strList.append(item['snippet'])\n",
    "        strList.append(item['formattedUrl'])\n",
    "        strList.append('~~~~~~~~~~~~~~~~~~~~~')\n",
    "        \n",
    "    df = pd.DataFrame(strList)\n",
    "    return df"
   ]
  },
  {
   "cell_type": "code",
   "execution_count": 89,
   "metadata": {},
   "outputs": [],
   "source": [
    "def parse_return_annotated(res,labels):\n",
    "    # import pandas as pd\n",
    "    # res.keys() = ['kind', 'items', 'queries', 'searchInformation', 'context', 'url']  \n",
    "    items = res['items']\n",
    "    strList = [];\n",
    "    for ii in range(10):\n",
    "        item = items[ii]\n",
    "        # dict_keys(['kind', 'title', 'htmlTitle', 'link', 'displayLink', 'snippet', 'htmlSnippet', 'cacheId', 'formattedUrl', 'htmlFormattedUrl', 'pagemap'])\n",
    "        header = str(ii+1) + \" \" + str(labels[ii])\n",
    "        strList.append(header)\n",
    "        strList.append(item['title'])\n",
    "        strList.append(item['snippet'])\n",
    "        strList.append(item['formattedUrl'])\n",
    "        strList.append('~~~~~~~~~~~~~~~~~~~~~')\n",
    "        \n",
    "    df = pd.DataFrame(strList)\n",
    "    return df"
   ]
  },
  {
   "cell_type": "code",
   "execution_count": 56,
   "metadata": {},
   "outputs": [
    {
     "name": "stdout",
     "output_type": "stream",
     "text": [
      "['Shape of You', 'Despacito', \"That's What I Like\", 'Humble', 'Something Just Like This', 'Bad and Boujee', 'Closer', 'Body Like a Back Road', 'Believer', 'Congratulations']\n",
      "99\n"
     ]
    }
   ],
   "source": [
    "song_names = list(Q.keys())\n",
    "print(song_names[0:10])\n",
    "print(len(song_names))"
   ]
  },
  {
   "cell_type": "code",
   "execution_count": 135,
   "metadata": {},
   "outputs": [
    {
     "data": {
      "text/html": [
       "<div>\n",
       "<style scoped>\n",
       "    .dataframe tbody tr th:only-of-type {\n",
       "        vertical-align: middle;\n",
       "    }\n",
       "\n",
       "    .dataframe tbody tr th {\n",
       "        vertical-align: top;\n",
       "    }\n",
       "\n",
       "    .dataframe thead th {\n",
       "        text-align: right;\n",
       "    }\n",
       "</style>\n",
       "<table border=\"1\" class=\"dataframe\">\n",
       "  <thead>\n",
       "    <tr style=\"text-align: right;\">\n",
       "      <th></th>\n",
       "      <th>0</th>\n",
       "    </tr>\n",
       "  </thead>\n",
       "  <tbody>\n",
       "    <tr>\n",
       "      <th>0</th>\n",
       "      <td>1</td>\n",
       "    </tr>\n",
       "    <tr>\n",
       "      <th>1</th>\n",
       "      <td>Luis Fonsi - Despacito ft. Daddy Yankee - YouTube</td>\n",
       "    </tr>\n",
       "    <tr>\n",
       "      <th>2</th>\n",
       "      <td>Jan 12, 2017 ... Despacito” disponible ya en t...</td>\n",
       "    </tr>\n",
       "    <tr>\n",
       "      <th>3</th>\n",
       "      <td>https://www.youtube.com/watch?v=kJQP7kiw5Fk</td>\n",
       "    </tr>\n",
       "    <tr>\n",
       "      <th>4</th>\n",
       "      <td>~~~~~~~~~~~~~~~~~~~~~</td>\n",
       "    </tr>\n",
       "    <tr>\n",
       "      <th>5</th>\n",
       "      <td>2</td>\n",
       "    </tr>\n",
       "    <tr>\n",
       "      <th>6</th>\n",
       "      <td>Despacito - Wikipedia</td>\n",
       "    </tr>\n",
       "    <tr>\n",
       "      <th>7</th>\n",
       "      <td>Despacito is a song by Puerto Rican singer Lui...</td>\n",
       "    </tr>\n",
       "    <tr>\n",
       "      <th>8</th>\n",
       "      <td>https://en.wikipedia.org/wiki/Despacito</td>\n",
       "    </tr>\n",
       "    <tr>\n",
       "      <th>9</th>\n",
       "      <td>~~~~~~~~~~~~~~~~~~~~~</td>\n",
       "    </tr>\n",
       "    <tr>\n",
       "      <th>10</th>\n",
       "      <td>3</td>\n",
       "    </tr>\n",
       "    <tr>\n",
       "      <th>11</th>\n",
       "      <td>Luis Fonsi, Daddy Yankee - Despacito (Remix Au...</td>\n",
       "    </tr>\n",
       "    <tr>\n",
       "      <th>12</th>\n",
       "      <td>Apr 16, 2017 ... Luis Fonsi &amp; Daddy Yankee Des...</td>\n",
       "    </tr>\n",
       "    <tr>\n",
       "      <th>13</th>\n",
       "      <td>https://www.youtube.com/watch?v=72UO0v5ESUo</td>\n",
       "    </tr>\n",
       "    <tr>\n",
       "      <th>14</th>\n",
       "      <td>~~~~~~~~~~~~~~~~~~~~~</td>\n",
       "    </tr>\n",
       "    <tr>\n",
       "      <th>15</th>\n",
       "      <td>4</td>\n",
       "    </tr>\n",
       "    <tr>\n",
       "      <th>16</th>\n",
       "      <td>'Despacito' Lyrics Translated to English: It's...</td>\n",
       "    </tr>\n",
       "    <tr>\n",
       "      <th>17</th>\n",
       "      <td>Jul 19, 2017 ... If you've been at any sort of...</td>\n",
       "    </tr>\n",
       "    <tr>\n",
       "      <th>18</th>\n",
       "      <td>https://www.billboard.com/.../despacito-lyrics...</td>\n",
       "    </tr>\n",
       "    <tr>\n",
       "      <th>19</th>\n",
       "      <td>~~~~~~~~~~~~~~~~~~~~~</td>\n",
       "    </tr>\n",
       "    <tr>\n",
       "      <th>20</th>\n",
       "      <td>5</td>\n",
       "    </tr>\n",
       "    <tr>\n",
       "      <th>21</th>\n",
       "      <td>Justin Bieber – Despacito (Lyrics) ft. Luis Fo...</td>\n",
       "    </tr>\n",
       "    <tr>\n",
       "      <th>22</th>\n",
       "      <td>Apr 17, 2017 ... Justin Bieber – Despacito (Ly...</td>\n",
       "    </tr>\n",
       "    <tr>\n",
       "      <th>23</th>\n",
       "      <td>https://www.youtube.com/watch?v=whwe0KD_rGw</td>\n",
       "    </tr>\n",
       "    <tr>\n",
       "      <th>24</th>\n",
       "      <td>~~~~~~~~~~~~~~~~~~~~~</td>\n",
       "    </tr>\n",
       "    <tr>\n",
       "      <th>25</th>\n",
       "      <td>6</td>\n",
       "    </tr>\n",
       "    <tr>\n",
       "      <th>26</th>\n",
       "      <td>Shohei Ohtani sang Despacito for teammates | M...</td>\n",
       "    </tr>\n",
       "    <tr>\n",
       "      <th>27</th>\n",
       "      <td>2 days ago ... We were lucky enough to witness...</td>\n",
       "    </tr>\n",
       "    <tr>\n",
       "      <th>28</th>\n",
       "      <td>https://www.mlb.com/cut4/shohei-ohtani...despa...</td>\n",
       "    </tr>\n",
       "    <tr>\n",
       "      <th>29</th>\n",
       "      <td>~~~~~~~~~~~~~~~~~~~~~</td>\n",
       "    </tr>\n",
       "    <tr>\n",
       "      <th>30</th>\n",
       "      <td>7</td>\n",
       "    </tr>\n",
       "    <tr>\n",
       "      <th>31</th>\n",
       "      <td>Urban Dictionary: Despacito</td>\n",
       "    </tr>\n",
       "    <tr>\n",
       "      <th>32</th>\n",
       "      <td>A song you tell Alexa to play when you feel ve...</td>\n",
       "    </tr>\n",
       "    <tr>\n",
       "      <th>33</th>\n",
       "      <td>https://www.urbandictionary.com/define.php?ter...</td>\n",
       "    </tr>\n",
       "    <tr>\n",
       "      <th>34</th>\n",
       "      <td>~~~~~~~~~~~~~~~~~~~~~</td>\n",
       "    </tr>\n",
       "    <tr>\n",
       "      <th>35</th>\n",
       "      <td>8</td>\n",
       "    </tr>\n",
       "    <tr>\n",
       "      <th>36</th>\n",
       "      <td>Despacito | Know Your Meme</td>\n",
       "    </tr>\n",
       "    <tr>\n",
       "      <th>37</th>\n",
       "      <td>Jan 13, 2017 ... Despacito is a song by Puerto...</td>\n",
       "    </tr>\n",
       "    <tr>\n",
       "      <th>38</th>\n",
       "      <td>https://knowyourmeme.com/memes/despacito</td>\n",
       "    </tr>\n",
       "    <tr>\n",
       "      <th>39</th>\n",
       "      <td>~~~~~~~~~~~~~~~~~~~~~</td>\n",
       "    </tr>\n",
       "    <tr>\n",
       "      <th>40</th>\n",
       "      <td>9</td>\n",
       "    </tr>\n",
       "    <tr>\n",
       "      <th>41</th>\n",
       "      <td>Opinion | The Meaning of 'Despacito' in the Ag...</td>\n",
       "    </tr>\n",
       "    <tr>\n",
       "      <th>42</th>\n",
       "      <td>Aug 4, 2017 ... On Friday, “Despacito,” the hi...</td>\n",
       "    </tr>\n",
       "    <tr>\n",
       "      <th>43</th>\n",
       "      <td>https://www.nytimes.com/.../the-meaning-of-des...</td>\n",
       "    </tr>\n",
       "    <tr>\n",
       "      <th>44</th>\n",
       "      <td>~~~~~~~~~~~~~~~~~~~~~</td>\n",
       "    </tr>\n",
       "    <tr>\n",
       "      <th>45</th>\n",
       "      <td>10</td>\n",
       "    </tr>\n",
       "    <tr>\n",
       "      <th>46</th>\n",
       "      <td>Despacito | Spanish to English Translation - S...</td>\n",
       "    </tr>\n",
       "    <tr>\n",
       "      <th>47</th>\n",
       "      <td>Vayamos despacito porque las rocas están resba...</td>\n",
       "    </tr>\n",
       "    <tr>\n",
       "      <th>48</th>\n",
       "      <td>www.spanishdict.com/translate/despacito</td>\n",
       "    </tr>\n",
       "    <tr>\n",
       "      <th>49</th>\n",
       "      <td>~~~~~~~~~~~~~~~~~~~~~</td>\n",
       "    </tr>\n",
       "  </tbody>\n",
       "</table>\n",
       "</div>"
      ],
      "text/plain": [
       "                                                    0\n",
       "0                                                   1\n",
       "1   Luis Fonsi - Despacito ft. Daddy Yankee - YouTube\n",
       "2   Jan 12, 2017 ... Despacito” disponible ya en t...\n",
       "3         https://www.youtube.com/watch?v=kJQP7kiw5Fk\n",
       "4                               ~~~~~~~~~~~~~~~~~~~~~\n",
       "5                                                   2\n",
       "6                               Despacito - Wikipedia\n",
       "7   Despacito is a song by Puerto Rican singer Lui...\n",
       "8             https://en.wikipedia.org/wiki/Despacito\n",
       "9                               ~~~~~~~~~~~~~~~~~~~~~\n",
       "10                                                  3\n",
       "11  Luis Fonsi, Daddy Yankee - Despacito (Remix Au...\n",
       "12  Apr 16, 2017 ... Luis Fonsi & Daddy Yankee Des...\n",
       "13        https://www.youtube.com/watch?v=72UO0v5ESUo\n",
       "14                              ~~~~~~~~~~~~~~~~~~~~~\n",
       "15                                                  4\n",
       "16  'Despacito' Lyrics Translated to English: It's...\n",
       "17  Jul 19, 2017 ... If you've been at any sort of...\n",
       "18  https://www.billboard.com/.../despacito-lyrics...\n",
       "19                              ~~~~~~~~~~~~~~~~~~~~~\n",
       "20                                                  5\n",
       "21  Justin Bieber – Despacito (Lyrics) ft. Luis Fo...\n",
       "22  Apr 17, 2017 ... Justin Bieber – Despacito (Ly...\n",
       "23        https://www.youtube.com/watch?v=whwe0KD_rGw\n",
       "24                              ~~~~~~~~~~~~~~~~~~~~~\n",
       "25                                                  6\n",
       "26  Shohei Ohtani sang Despacito for teammates | M...\n",
       "27  2 days ago ... We were lucky enough to witness...\n",
       "28  https://www.mlb.com/cut4/shohei-ohtani...despa...\n",
       "29                              ~~~~~~~~~~~~~~~~~~~~~\n",
       "30                                                  7\n",
       "31                        Urban Dictionary: Despacito\n",
       "32  A song you tell Alexa to play when you feel ve...\n",
       "33  https://www.urbandictionary.com/define.php?ter...\n",
       "34                              ~~~~~~~~~~~~~~~~~~~~~\n",
       "35                                                  8\n",
       "36                         Despacito | Know Your Meme\n",
       "37  Jan 13, 2017 ... Despacito is a song by Puerto...\n",
       "38           https://knowyourmeme.com/memes/despacito\n",
       "39                              ~~~~~~~~~~~~~~~~~~~~~\n",
       "40                                                  9\n",
       "41  Opinion | The Meaning of 'Despacito' in the Ag...\n",
       "42  Aug 4, 2017 ... On Friday, “Despacito,” the hi...\n",
       "43  https://www.nytimes.com/.../the-meaning-of-des...\n",
       "44                              ~~~~~~~~~~~~~~~~~~~~~\n",
       "45                                                 10\n",
       "46  Despacito | Spanish to English Translation - S...\n",
       "47  Vayamos despacito porque las rocas están resba...\n",
       "48            www.spanishdict.com/translate/despacito\n",
       "49                              ~~~~~~~~~~~~~~~~~~~~~"
      ]
     },
     "execution_count": 135,
     "metadata": {},
     "output_type": "execute_result"
    }
   ],
   "source": [
    "Res = Q.get('Despacito')\n",
    "\n",
    "df = parse_return(Res[0])\n",
    "strList = parse_content(Res[0])\n",
    "df"
   ]
  },
  {
   "cell_type": "code",
   "execution_count": 31,
   "metadata": {},
   "outputs": [],
   "source": [
    "# load model trained from twitter data\n",
    "from sklearn.feature_extraction.text import TfidfVectorizer\n",
    "vectorizer = TfidfVectorizer(ngram_range=(1, 3), analyzer='char',\n",
    "                             use_idf=False)\n",
    "\n",
    "from sklearn.linear_model import Perceptron\n",
    "from sklearn.pipeline import Pipeline\n",
    "# TASK: Build a vectorizer / classifier pipeline using the previous analyzer\n",
    "# the pipeline instance should stored in a variable named clf\n",
    "clf = Pipeline([\n",
    "    ('vec', vectorizer),\n",
    "    ('clf', Perceptron(tol=1e-3)),\n",
    "])\n",
    "\n",
    "fullfile = os.path.expanduser(\"~/Dropbox/insight_side/\"+'clf_0927.p') # perceptron\n",
    "with open(fullfile, 'rb') as fp:\n",
    "    clf = pickle.load(fp)"
   ]
  },
  {
   "cell_type": "code",
   "execution_count": 32,
   "metadata": {},
   "outputs": [
    {
     "name": "stdout",
     "output_type": "stream",
     "text": [
      "[ 6 74 15  6 15  6 42 42 72  6]\n"
     ]
    }
   ],
   "source": [
    "# predict: results from page 1\n",
    "predicted = clf.predict(strList)\n",
    "print(predicted)"
   ]
  },
  {
   "cell_type": "code",
   "execution_count": 35,
   "metadata": {},
   "outputs": [
    {
     "data": {
      "text/plain": [
       "75"
      ]
     },
     "execution_count": 35,
     "metadata": {},
     "output_type": "execute_result"
    }
   ],
   "source": [
    "fullfile = os.path.expanduser(\"~/Dropbox/insight/Emoji/\"+'mySmileys.p')\n",
    "with open(fullfile, 'rb') as fp:\n",
    "    emoji_list = pickle.load(fp)\n",
    "len(emoji_list)"
   ]
  },
  {
   "cell_type": "code",
   "execution_count": 48,
   "metadata": {},
   "outputs": [
    {
     "data": {
      "text/plain": [
       "'🤓'"
      ]
     },
     "execution_count": 48,
     "metadata": {},
     "output_type": "execute_result"
    }
   ],
   "source": [
    "emoji_list[74]"
   ]
  },
  {
   "cell_type": "code",
   "execution_count": 156,
   "metadata": {},
   "outputs": [
    {
     "data": {
      "text/plain": [
       "':face_with_head-bandage:'"
      ]
     },
     "execution_count": 156,
     "metadata": {},
     "output_type": "execute_result"
    }
   ],
   "source": [
    "emoji.UNICODE_EMOJI[\"🤕\"]"
   ]
  },
  {
   "cell_type": "code",
   "execution_count": 62,
   "metadata": {},
   "outputs": [
    {
     "name": "stdout",
     "output_type": "stream",
     "text": [
      "😅 :grinning_face_with_sweat:\n",
      "🤓 :nerd_face:\n",
      "😙 :kissing_face_with_smiling_eyes:\n",
      "😅 :grinning_face_with_sweat:\n",
      "😙 :kissing_face_with_smiling_eyes:\n",
      "😅 :grinning_face_with_sweat:\n",
      "😕 :confused_face:\n",
      "😕 :confused_face:\n",
      "🤡 :clown_face:\n",
      "😅 :grinning_face_with_sweat:\n"
     ]
    }
   ],
   "source": [
    "for ix in list(predicted):\n",
    "    e = emoji_list[ix]\n",
    "    print(e + \" \" + emoji.UNICODE_EMOJI[e])"
   ]
  },
  {
   "cell_type": "code",
   "execution_count": 91,
   "metadata": {},
   "outputs": [],
   "source": [
    "def get_labels_from_predicted(predicted,emoji_list):\n",
    "    labels = []\n",
    "    labels_text = []\n",
    "    for ix in list(predicted):\n",
    "        e = emoji_list[ix]\n",
    "        labels.append(e)\n",
    "        labels_text.append(emoji.UNICODE_EMOJI[e])\n",
    "    return labels"
   ]
  },
  {
   "cell_type": "markdown",
   "metadata": {},
   "source": [
    "## For each query, get all 10 pages and sort"
   ]
  },
  {
   "cell_type": "code",
   "execution_count": null,
   "metadata": {},
   "outputs": [],
   "source": []
  },
  {
   "cell_type": "code",
   "execution_count": 153,
   "metadata": {},
   "outputs": [
    {
     "name": "stdout",
     "output_type": "stream",
     "text": [
      "😅 🤓 😙 😅 😙 😅 😕 😕 🤡 😅 😮 😞 😱 😀 😅 🤓 🤓 😅 🤡 🤓 😅 😀 😙 😞 😱 😀 😀 🤡 🤓 😅 😅 😀 😅 😞 🤓 🤓 😅 😙 😞 😅 😅 😀 😞 😅 😀 😅 🤓 🤓 😅 😅 🤓 😞 😅 🤓 😀 😙 😅 🤓 😅 🤓 😞 😅 😞 🤣 🤓 😞 😕 😀 😅 😅 😅 😙 😌 🤓 😞 😅 🤓 😀\n"
     ]
    }
   ],
   "source": [
    "# get 10 pages, combine emojis \n",
    "# not all data have 100 results \n",
    "Labels = []\n",
    "for i in range(len(Res)):\n",
    "    res = Res[i]\n",
    "    if 'items' in res.keys():\n",
    "        strList = parse_content(res)\n",
    "        predicted = clf.predict(strList)\n",
    "        labels = get_labels_from_predicted(predicted,emoji_list)\n",
    "        Labels = Labels + labels\n",
    "    \n",
    "text = \" \".join(Labels)\n",
    "print(text) "
   ]
  },
  {
   "cell_type": "code",
   "execution_count": 158,
   "metadata": {},
   "outputs": [
    {
     "data": {
      "text/plain": [
       "':face_with_head-bandage:'"
      ]
     },
     "execution_count": 158,
     "metadata": {},
     "output_type": "execute_result"
    }
   ],
   "source": [
    "#emoji.UNICODE_EMOJI(\"😅\")\n",
    "emoji.UNICODE_EMOJI[\"🤕\"]"
   ]
  },
  {
   "cell_type": "code",
   "execution_count": 163,
   "metadata": {},
   "outputs": [
    {
     "name": "stdout",
     "output_type": "stream",
     "text": [
      "[':grinning_face_with_sweat:', ':nerd_face:', ':kissing_face_with_smiling_eyes:', ':grinning_face_with_sweat:', ':kissing_face_with_smiling_eyes:', ':grinning_face_with_sweat:', ':confused_face:', ':confused_face:', ':clown_face:', ':grinning_face_with_sweat:', ':face_with_open_mouth:', ':disappointed_face:', ':face_screaming_in_fear:', ':grinning_face:', ':grinning_face_with_sweat:', ':nerd_face:', ':nerd_face:', ':grinning_face_with_sweat:', ':clown_face:', ':nerd_face:', ':grinning_face_with_sweat:', ':grinning_face:', ':kissing_face_with_smiling_eyes:', ':disappointed_face:', ':face_screaming_in_fear:', ':grinning_face:', ':grinning_face:', ':clown_face:', ':nerd_face:', ':grinning_face_with_sweat:', ':grinning_face_with_sweat:', ':grinning_face:', ':grinning_face_with_sweat:', ':disappointed_face:', ':nerd_face:', ':nerd_face:', ':grinning_face_with_sweat:', ':kissing_face_with_smiling_eyes:', ':disappointed_face:', ':grinning_face_with_sweat:', ':grinning_face_with_sweat:', ':grinning_face:', ':disappointed_face:', ':grinning_face_with_sweat:', ':grinning_face:', ':grinning_face_with_sweat:', ':nerd_face:', ':nerd_face:', ':grinning_face_with_sweat:', ':grinning_face_with_sweat:', ':nerd_face:', ':disappointed_face:', ':grinning_face_with_sweat:', ':nerd_face:', ':grinning_face:', ':kissing_face_with_smiling_eyes:', ':grinning_face_with_sweat:', ':nerd_face:', ':grinning_face_with_sweat:', ':nerd_face:', ':disappointed_face:', ':grinning_face_with_sweat:', ':disappointed_face:', ':rolling_on_the_floor_laughing:', ':nerd_face:', ':disappointed_face:', ':confused_face:', ':grinning_face:', ':grinning_face_with_sweat:', ':grinning_face_with_sweat:', ':grinning_face_with_sweat:', ':kissing_face_with_smiling_eyes:', ':relieved_face:', ':nerd_face:', ':disappointed_face:', ':grinning_face_with_sweat:', ':nerd_face:', ':grinning_face:']\n"
     ]
    }
   ],
   "source": [
    "# convert to words\n",
    "textLabels = []\n",
    "for e in Labels:\n",
    "    textLabels.append(emoji.UNICODE_EMOJI[e])\n",
    "print(textLabels)\n",
    "text = \" \".join(textLabels)"
   ]
  },
  {
   "cell_type": "code",
   "execution_count": 177,
   "metadata": {},
   "outputs": [
    {
     "name": "stdout",
     "output_type": "stream",
     "text": [
      "😅 -> 25\n",
      "🤓 -> 16\n",
      "😙 -> 6\n",
      "😕 -> 3\n",
      "🤡 -> 3\n",
      "😮 -> 1\n",
      "😞 -> 10\n",
      "😱 -> 2\n",
      "😀 -> 10\n",
      "🤣 -> 1\n",
      "😌 -> 1\n"
     ]
    },
    {
     "data": {
      "text/plain": [
       "['😅', '🤓', '😞', '😀', '😙']"
      ]
     },
     "execution_count": 177,
     "metadata": {},
     "output_type": "execute_result"
    }
   ],
   "source": [
    "# rank and get top 3 \n",
    "import collections \n",
    "  \n",
    "arr = Labels\n",
    "freq = collections.Counter(arr) \n",
    "\n",
    "X = [] # emoji\n",
    "Y = [] # count occurrence\n",
    "for key, value in freq.items(): \n",
    "    X.append(key)\n",
    "    Y.append(value)\n",
    "    print(key + \" -> \" + str(value))\n",
    "    \n",
    "keydict = dict(zip(X, Y))\n",
    "X.sort(key=keydict.get,reverse=True)\n",
    "X[0:5]"
   ]
  },
  {
   "cell_type": "code",
   "execution_count": 179,
   "metadata": {},
   "outputs": [
    {
     "data": {
      "text/plain": [
       "str"
      ]
     },
     "execution_count": 179,
     "metadata": {},
     "output_type": "execute_result"
    }
   ],
   "source": [
    "top3 = X[0:3]\n",
    "type(top3[1])"
   ]
  },
  {
   "cell_type": "code",
   "execution_count": 92,
   "metadata": {},
   "outputs": [
    {
     "name": "stdout",
     "output_type": "stream",
     "text": [
      "                                                    0\n",
      "0                                                 1 😅\n",
      "1   Luis Fonsi - Despacito ft. Daddy Yankee - YouTube\n",
      "2   Jan 12, 2017 ... Despacito” disponible ya en t...\n",
      "3         https://www.youtube.com/watch?v=kJQP7kiw5Fk\n",
      "4                               ~~~~~~~~~~~~~~~~~~~~~\n",
      "5                                                 2 🤓\n",
      "6                               Despacito - Wikipedia\n",
      "7   Despacito is a song by Puerto Rican singer Lui...\n",
      "8             https://en.wikipedia.org/wiki/Despacito\n",
      "9                               ~~~~~~~~~~~~~~~~~~~~~\n",
      "10                                                3 😙\n",
      "11  Luis Fonsi, Daddy Yankee - Despacito (Remix Au...\n",
      "12  Apr 16, 2017 ... Luis Fonsi & Daddy Yankee Des...\n",
      "13        https://www.youtube.com/watch?v=72UO0v5ESUo\n",
      "14                              ~~~~~~~~~~~~~~~~~~~~~\n",
      "15                                                4 😅\n",
      "16  'Despacito' Lyrics Translated to English: It's...\n",
      "17  Jul 19, 2017 ... If you've been at any sort of...\n",
      "18  https://www.billboard.com/.../despacito-lyrics...\n",
      "19                              ~~~~~~~~~~~~~~~~~~~~~\n",
      "20                                                5 😙\n",
      "21  Justin Bieber – Despacito (Lyrics) ft. Luis Fo...\n",
      "22  Apr 17, 2017 ... Justin Bieber – Despacito (Ly...\n",
      "23        https://www.youtube.com/watch?v=whwe0KD_rGw\n",
      "24                              ~~~~~~~~~~~~~~~~~~~~~\n",
      "25                                                6 😅\n",
      "26  Shohei Ohtani sang Despacito for teammates | M...\n",
      "27  2 days ago ... We were lucky enough to witness...\n",
      "28  https://www.mlb.com/cut4/shohei-ohtani...despa...\n",
      "29                              ~~~~~~~~~~~~~~~~~~~~~\n",
      "30                                                7 😕\n",
      "31                        Urban Dictionary: Despacito\n",
      "32  A song you tell Alexa to play when you feel ve...\n",
      "33  https://www.urbandictionary.com/define.php?ter...\n",
      "34                              ~~~~~~~~~~~~~~~~~~~~~\n",
      "35                                                8 😕\n",
      "36                         Despacito | Know Your Meme\n",
      "37  Jan 13, 2017 ... Despacito is a song by Puerto...\n",
      "38           https://knowyourmeme.com/memes/despacito\n",
      "39                              ~~~~~~~~~~~~~~~~~~~~~\n",
      "40                                                9 🤡\n",
      "41  Opinion | The Meaning of 'Despacito' in the Ag...\n",
      "42  Aug 4, 2017 ... On Friday, “Despacito,” the hi...\n",
      "43  https://www.nytimes.com/.../the-meaning-of-des...\n",
      "44                              ~~~~~~~~~~~~~~~~~~~~~\n",
      "45                                               10 😅\n",
      "46  Despacito | Spanish to English Translation - S...\n",
      "47  Vayamos despacito porque las rocas están resba...\n",
      "48            www.spanishdict.com/translate/despacito\n",
      "49                              ~~~~~~~~~~~~~~~~~~~~~\n"
     ]
    }
   ],
   "source": [
    "labels = get_labels_from_predicted(predicted,emoji_list)\n",
    "df2 = parse_return_annotated(Res[0],labels)\n",
    "print(df2)"
   ]
  },
  {
   "cell_type": "code",
   "execution_count": 102,
   "metadata": {},
   "outputs": [
    {
     "name": "stdout",
     "output_type": "stream",
     "text": [
      "😅 🤓 😙 😅 😙 😅 😕 😕 🤡 😅\n"
     ]
    }
   ],
   "source": [
    "text = \" \".join(labels)\n",
    "print(text)"
   ]
  },
  {
   "cell_type": "code",
   "execution_count": 99,
   "metadata": {},
   "outputs": [],
   "source": [
    "from wordcloud import WordCloud"
   ]
  },
  {
   "cell_type": "code",
   "execution_count": 109,
   "metadata": {},
   "outputs": [],
   "source": [
    "fullfile = os.path.expanduser(\"~/Dropbox/insight/conda_install.txt\")\n",
    "text = open(fullfile).read()"
   ]
  },
  {
   "cell_type": "code",
   "execution_count": 113,
   "metadata": {},
   "outputs": [
    {
     "name": "stdout",
     "output_type": "stream",
     "text": [
      "conda install numpy scipy pandas matplotlib flask scikit-learn jupyter --yes\n",
      "\n",
      "conda install -c conda-forge tweepy --yes\n",
      "\n",
      "conda install -c conda-forge python-dotenv --yes\n",
      "\n",
      "\n"
     ]
    }
   ],
   "source": [
    "print(text)"
   ]
  },
  {
   "cell_type": "code",
   "execution_count": 164,
   "metadata": {},
   "outputs": [
    {
     "data": {
      "image/png": "[encoded data removed]",
      "text/plain": [
       "<Figure size 432x288 with 1 Axes>"
      ]
     },
     "metadata": {
      "needs_background": "light"
     },
     "output_type": "display_data"
    },
    {
     "data": {
      "image/png": "[encoded data removed]",
      "text/plain": [
       "<Figure size 432x288 with 1 Axes>"
      ]
     },
     "metadata": {
      "needs_background": "light"
     },
     "output_type": "display_data"
    }
   ],
   "source": [
    "wordcloud = WordCloud().generate(text)\n",
    "\n",
    "# Display the generated image:\n",
    "# the matplotlib way:\n",
    "import matplotlib.pyplot as plt\n",
    "plt.imshow(wordcloud, interpolation='bilinear')\n",
    "plt.axis(\"off\")\n",
    "\n",
    "# lower max_font_size\n",
    "wordcloud = WordCloud(max_font_size=40).generate(text)\n",
    "plt.figure()\n",
    "plt.imshow(wordcloud, interpolation=\"bilinear\")\n",
    "plt.axis(\"off\")\n",
    "plt.show()"
   ]
  },
  {
   "cell_type": "code",
   "execution_count": 181,
   "metadata": {},
   "outputs": [
    {
     "ename": "NameError",
     "evalue": "name 'datetime' is not defined",
     "output_type": "error",
     "traceback": [
      "\u001b[0;31m---------------------------------------------------------------------------\u001b[0m",
      "\u001b[0;31mNameError\u001b[0m                                 Traceback (most recent call last)",
      "\u001b[0;32m<ipython-input-181-d808525ef18a>\u001b[0m in \u001b[0;36m<module>\u001b[0;34m()\u001b[0m\n\u001b[1;32m      1\u001b[0m \u001b[0;34m\u001b[0m\u001b[0m\n\u001b[0;32m----> 2\u001b[0;31m \u001b[0mdatetime\u001b[0m\u001b[0;34m.\u001b[0m\u001b[0mtime\u001b[0m\u001b[0;34m\u001b[0m\u001b[0m\n\u001b[0m",
      "\u001b[0;31mNameError\u001b[0m: name 'datetime' is not defined"
     ]
    }
   ],
   "source": [
    "\n",
    "datetime.time"
   ]
  },
  {
   "cell_type": "code",
   "execution_count": 136,
   "metadata": {},
   "outputs": [
    {
     "data": {
      "text/plain": [
       "dict_keys(['Shape of You', 'Despacito', \"That's What I Like\", 'Humble', 'Something Just Like This', 'Bad and Boujee', 'Closer', 'Body Like a Back Road', 'Believer', 'Congratulations', \"Say You Won't Let Go\", \"I'm the One\", 'XO Tour Llif3', 'Mask Off', 'Unforgettable', '24K Magic', 'Stay', 'Wild Thoughts', 'Black Beatles', 'Starboy', 'Location', 'Attention', \"There's Nothing Holdin' Me Back\", 'Bodak Yellow (Money Moves)', 'Redbone', \"I Don't Wanna Live Forever\", \"It Ain't Me\", 'iSpy', 'Issues', 'Scars to Your Beautiful', '1-800-273-8255', 'Slow Hands', 'Love on the Brain', 'I Feel It Coming', 'Bounce Back', 'Strip That Down', 'Fake Love', \"Don't Wanna Know\", 'Look What You Made Me Do', 'Castle on the Hill', 'Bad Things', 'Paris', 'Side to Side', 'Rockabye', 'Feel It Still', 'Let Me Love You', 'Sorry Not Sorry', 'Bank Account', \"Can't Stop the Feeling!\", 'Mi Gente', 'Thunder', 'T-Shirt', 'Rake It Up', 'Mercy', 'Tunnel Vision', 'Rockstar', \"In Case You Didn't Know\", 'Heathens', 'Now or Never', 'Caroline', 'Rolex', 'DNA', 'Juju on That Beat (TZ Anthem)', 'Swang', 'Passionfruit', 'Loyalty', 'Praying', 'Goosebumps', 'Cold', 'Broccoli', 'Slide', 'What Ifs', 'Chained to the Rhythm', 'Feels', 'All Time Low', 'Hurricane', 'Too Good at Goodbyes', 'Young Dumb & Broke', 'Magnolia', 'Love Galore', 'Drowning', 'Starving', 'Both', 'What About Us', 'Swalla', 'Slippery', 'Sign of the Times', 'Water Under the Bridge', 'Malibu', 'Down', 'No Promises', 'Treat You Better', 'I Get the Bag', 'Small Town Boy', 'Everyday We Lit', 'Havana', 'What Lovers Do', 'Do Re Mi', 'Look at Me!'])"
      ]
     },
     "execution_count": 136,
     "metadata": {},
     "output_type": "execute_result"
    }
   ],
   "source": [
    "Q.keys()"
   ]
  }
 ],
 "metadata": {
  "kernelspec": {
   "display_name": "Python (insight)",
   "language": "python",
   "name": "insight"
  },
  "language_info": {
   "codemirror_mode": {
    "name": "ipython",
    "version": 3
   },
   "file_extension": ".py",
   "mimetype": "text/x-python",
   "name": "python",
   "nbconvert_exporter": "python",
   "pygments_lexer": "ipython3",
   "version": "3.6.6"
  },
  "varInspector": {
   "cols": {
    "lenName": 16,
    "lenType": 16,
    "lenVar": 40
   },
   "kernels_config": {
    "python": {
     "delete_cmd_postfix": "",
     "delete_cmd_prefix": "del ",
     "library": "var_list.py",
     "varRefreshCmd": "print(var_dic_list())"
    },
    "r": {
     "delete_cmd_postfix": ") ",
     "delete_cmd_prefix": "rm(",
     "library": "var_list.r",
     "varRefreshCmd": "cat(var_dic_list()) "
    }
   },
   "types_to_exclude": [
    "module",
    "function",
    "builtin_function_or_method",
    "instance",
    "_Feature"
   ],
   "window_display": false
  }
 },
 "nbformat": 4,
 "nbformat_minor": 2
}
