{
 "cells": [
  {
   "cell_type": "code",
   "execution_count": null,
   "metadata": {},
   "outputs": [],
   "source": [
    "# -*- coding: utf-8 -*-\n",
    "\"\"\"\n",
    "Created on Thu Sep 13 12:16:17 2018\n",
    "\n",
    "@author: xiuye\n",
    "\"\"\"\n",
    "\n",
    "#!/usr/bin/env python\n",
    "# -*- coding: utf-8 -*-\n",
    "#\n",
    "# Copyright 2014 Google Inc. All Rights Reserved.\n",
    "#\n",
    "# Licensed under the Apache License, Version 2.0 (the \"License\");\n",
    "# you may not use this file except in compliance with the License.\n",
    "# You may obtain a copy of the License at\n",
    "#\n",
    "#      http://www.apache.org/licenses/LICENSE-2.0\n",
    "#\n",
    "# Unless required by applicable law or agreed to in writing, software\n",
    "# distributed under the License is distributed on an \"AS IS\" BASIS,\n",
    "# WITHOUT WARRANTIES OR CONDITIONS OF ANY KIND, either express or implied.\n",
    "# See the License for the specific language governing permissions and\n",
    "# limitations under the License.\n",
    "\n",
    "\"\"\"Simple command-line example for Custom Search.\n",
    "\n",
    "Command-line application that does a search.\n",
    "\"\"\"\n",
    "\n",
    "__author__ = 'jcgregorio@google.com (Joe Gregorio)'\n",
    "\n",
    "import pprint\n",
    "\n",
    "from googleapiclient.discovery import build\n",
    "\n",
    "\n",
    "\n",
    "def main():\n",
    "  # Build a service object for interacting with the API. Visit\n",
    "  # the Google APIs Console <http://code.google.com/apis/console>\n",
    "  # to get an API key for your own application.\n",
    "\n",
    "  # load sensitive info\n",
    "  from dotenv import load_dotenv\n",
    "  import os\n",
    "  load_dotenv()\n",
    "  my_developerKey = os.getenv('GOOGLE_DEVELOPER_KEY')\n",
    "  customsearch_cx = os.getenv('GOOGLE_CUSTOM_SEARCH_ENGINE_CX')\n",
    "\n",
    "  service = build(\"customsearch\", \"v1\",\n",
    "            developerKey=my_developerKey)\n",
    "\n",
    "  res = service.cse().list(\n",
    "      q='cake',\n",
    "      cx=customsearch_cx,\n",
    "    ).execute()\n",
    "  return res \n",
    "  \n",
    "def parse_return():\n",
    "    gs = main()\n",
    "    # gs.keys() = ['kind', 'items', 'queries', 'searchInformation', 'context', 'url']\n",
    "    items = gs['items']    \n",
    "\n",
    "if __name__ == '__main__':\n",
    "  main()"
   ]
  }
 ],
 "metadata": {
  "kernelspec": {
   "display_name": "Python (insight)",
   "language": "python",
   "name": "insight"
  },
  "language_info": {
   "codemirror_mode": {
    "name": "ipython",
    "version": 3
   },
   "file_extension": ".py",
   "mimetype": "text/x-python",
   "name": "python",
   "nbconvert_exporter": "python",
   "pygments_lexer": "ipython3",
   "version": "3.6.6"
  },
  "varInspector": {
   "cols": {
    "lenName": 16,
    "lenType": 16,
    "lenVar": 40
   },
   "kernels_config": {
    "python": {
     "delete_cmd_postfix": "",
     "delete_cmd_prefix": "del ",
     "library": "var_list.py",
     "varRefreshCmd": "print(var_dic_list())"
    },
    "r": {
     "delete_cmd_postfix": ") ",
     "delete_cmd_prefix": "rm(",
     "library": "var_list.r",
     "varRefreshCmd": "cat(var_dic_list()) "
    }
   },
   "types_to_exclude": [
    "module",
    "function",
    "builtin_function_or_method",
    "instance",
    "_Feature"
   ],
   "window_display": false
  }
 },
 "nbformat": 4,
 "nbformat_minor": 2
}
