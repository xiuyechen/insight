{
 "cells": [
  {
   "cell_type": "code",
   "execution_count": 1,
   "metadata": {},
   "outputs": [],
   "source": [
    "import pprint\n",
    "from googleapiclient.discovery import build\n",
    "from dotenv import load_dotenv\n",
    "import os"
   ]
  },
  {
   "cell_type": "code",
   "execution_count": 2,
   "metadata": {},
   "outputs": [],
   "source": [
    "def return_search_json(query,page_ix):\n",
    "    # Build a service object for interacting with the API. Visit\n",
    "    # the Google APIs Console <http://code.google.com/apis/console>\n",
    "    # to get an API key for your own application.\n",
    "    #if not page_ix:\n",
    "     #   page_ix = 1\n",
    "    start_ix = 10*(page_ix-1)+1\n",
    "\n",
    "    # load sensitive info\n",
    "    from dotenv import load_dotenv\n",
    "    import os\n",
    "    load_dotenv()\n",
    "    my_developerKey = os.getenv('GOOGLE_DEVELOPER_KEY')\n",
    "    customsearch_cx = os.getenv('GOOGLE_CUSTOM_SEARCH_ENGINE_CX')\n",
    "\n",
    "    service = build(\"customsearch\", \"v1\",\n",
    "            developerKey=my_developerKey)\n",
    "\n",
    "    res = service.cse().list(\n",
    "        q=query,\n",
    "        cx=customsearch_cx,\n",
    "        start=start_ix,\n",
    "      ).execute()\n",
    "    \n",
    "    return res \n",
    "\n"
   ]
  },
  {
   "cell_type": "code",
   "execution_count": 3,
   "metadata": {},
   "outputs": [],
   "source": [
    "def parse_return(res):\n",
    "    \n",
    "    # res.keys() = ['kind', 'items', 'queries', 'searchInformation', 'context', 'url']  \n",
    "    items = res['items']\n",
    "    strList = [];\n",
    "    for ii in range(10):\n",
    "        item = items[ii]\n",
    "        # dict_keys(['kind', 'title', 'htmlTitle', 'link', 'displayLink', 'snippet', 'htmlSnippet', 'cacheId', 'formattedUrl', 'htmlFormattedUrl', 'pagemap'])\n",
    "        s = item['title'] + ' ' + item['snippet']\n",
    "        strList.append(s)\n",
    "        \n",
    "    return strList"
   ]
  },
  {
   "cell_type": "code",
   "execution_count": 4,
   "metadata": {},
   "outputs": [
    {
     "name": "stdout",
     "output_type": "stream",
     "text": [
      "['Life (2017 film) - Wikipedia Life is a 2017 American science fiction horror film directed by Daniel Espinosa, \\nwritten by Rhett Reese and Paul Wernick and starring Jake Gyllenhaal, Rebecca\\n\\xa0...', 'Life - Wikipedia Life is a characteristic that distinguishes physical entities that have biological \\nprocesses, such as signaling and self-sustaining processes, from those that do \\nnot,\\xa0...', 'Life (magazine) - Wikipedia Life was an American magazine published weekly until 1972, as an intermittent \"\\nspecial\" until 1978, and as a monthly from 1978 to 2000. During its golden age\\xa0...', 'life - Wiktionary From Middle English lif, lyf, from Old English līf (“life, existence; life-time”), from \\nProto-Germanic *lībą (“life, body”), from *lībaną (“to remain, stay, be left”), from\\xa0...', 'Life expectancy - Wikipedia Life expectancy is a statistical measure of the average time an organism is \\nexpected to live, based on the year of its birth, its current age and other \\ndemographic\\xa0...', \"Conway's Game of Life - Wikipedia The Game of Life, also known simply as Life, is a cellular automaton devised by \\nthe British mathematician John Horton Conway in 1970. The game is a\\xa0...\", \"Life (UK TV series) - Wikipedia Life is a British nature documentary series created and produced by the BBC in \\nassociation with The Open University. It was first broadcast as part of the BBC's\\xa0...\", 'Mirror life - Wikipedia Mirror life is a hypothetical form of life with mirror-reflected molecular building \\nblocks. The possibility of mirror life was first discussed by Louis Pasteur. Although\\n\\xa0...', 'Life insurance - Wikipedia Life insurance is a contract between an insurance policy holder and an insurer or \\nassurer, where the insurer promises to pay a designated beneficiary a sum of\\xa0...', 'Biological life cycle - Wikipedia In biology, a biological life cycle is a series of changes in form that an organism \\nundergoes, returning to the starting state. \"The concept is closely related to those\\n\\xa0...']\n"
     ]
    }
   ],
   "source": [
    "# test search\n",
    "query = 'life'\n",
    "\n",
    "# first page of 10 results\n",
    "res = return_search_json(query,page_ix=1)\n",
    "strList = parse_return(res)\n",
    "print(strList)"
   ]
  },
  {
   "cell_type": "code",
   "execution_count": 5,
   "metadata": {},
   "outputs": [
    {
     "name": "stdout",
     "output_type": "stream",
     "text": [
      "['Life (U.S. TV series) - Wikipedia Life is an American crime drama television program created by Rand Ravich that \\naired for two seasons on NBC. It was produced by Universal Media Studios\\xa0...', 'Everyday life - Wikipedia Everyday life, daily life or routine life comprises the ways in which people \\ntypically act, think, and feel on a daily basis. Everyday life may be described as\\xa0...', 'Life imprisonment - Wikipedia Life imprisonment is any sentence of imprisonment for a crime under which \\nconvicted persons are to remain in prison either for the rest of their natural life or \\nuntil\\xa0...', 'Life Itself (2018 film) - Wikipedia Life Itself is a 2018 American romantic comedy-drama film written and directed by \\nDan Fogelman. It stars Oscar Isaac, Olivia Wilde, Mandy Patinkin, Olivia Cooke\\xa0...', 'Life (The Cardigans album) - Wikipedia Life is the second studio album of The Cardigans. It was released worldwide in \\n1995 and was an international success, especially in Japan, where it achieved\\xa0...', 'Quality of life - Wikipedia Quality of life (QOL) is the general well-being of individuals and societies, \\noutlining negative and positive features of life. It observes life satisfaction, \\nincluding\\xa0...', 'Half-life - Wikipedia Half-life (symbol t1⁄2) is the time required for a quantity to reduce to half its initial \\nvalue. The term is commonly used in nuclear physics to describe how quickly\\xa0...', \"Personal life - Wikipedia Personal life is the course of an individual's life, especially when viewed as the \\nsum of personal choices contributing to one's personal identity. In ancient past\\xa0...\", 'Life (Keith Richards) - Wikipedia Life is a memoir by the Rolling Stones guitarist Keith Richards, written with the \\nassistance of journalist James Fox. Published in October 2010, in hardback, \\naudio\\xa0...', 'Life (disambiguation) - Wikipedia Life is the characteristic that distinguishes organisms from inorganic substances \\nand dead objects. Life or The Life may also refer to:\\xa0...']\n"
     ]
    }
   ],
   "source": [
    "# second page, 10 more results\n",
    "#page_ix = 2;\n",
    "res = return_search_json(query,page_ix=2)\n",
    "strList = parse_return(res)\n",
    "print(strList)"
   ]
  },
  {
   "cell_type": "code",
   "execution_count": null,
   "metadata": {},
   "outputs": [],
   "source": []
  }
 ],
 "metadata": {
  "kernelspec": {
   "display_name": "Python (insight)",
   "language": "python",
   "name": "insight"
  },
  "language_info": {
   "codemirror_mode": {
    "name": "ipython",
    "version": 3
   },
   "file_extension": ".py",
   "mimetype": "text/x-python",
   "name": "python",
   "nbconvert_exporter": "python",
   "pygments_lexer": "ipython3",
   "version": "3.6.6"
  },
  "varInspector": {
   "cols": {
    "lenName": 16,
    "lenType": 16,
    "lenVar": 40
   },
   "kernels_config": {
    "python": {
     "delete_cmd_postfix": "",
     "delete_cmd_prefix": "del ",
     "library": "var_list.py",
     "varRefreshCmd": "print(var_dic_list())"
    },
    "r": {
     "delete_cmd_postfix": ") ",
     "delete_cmd_prefix": "rm(",
     "library": "var_list.r",
     "varRefreshCmd": "cat(var_dic_list()) "
    }
   },
   "oldHeight": 236,
   "position": {
    "height": "40px",
    "left": "1070px",
    "right": "20px",
    "top": "120px",
    "width": "354px"
   },
   "types_to_exclude": [
    "module",
    "function",
    "builtin_function_or_method",
    "instance",
    "_Feature"
   ],
   "varInspector_section_display": "none",
   "window_display": true
  }
 },
 "nbformat": 4,
 "nbformat_minor": 2
}
