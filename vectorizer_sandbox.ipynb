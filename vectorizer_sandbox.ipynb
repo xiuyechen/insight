{
 "cells": [
  {
   "cell_type": "code",
   "execution_count": null,
   "metadata": {},
   "outputs": [],
   "source": [
    "# example\n",
    "\n",
    "S1 = \"The car is driven on the road.\"\n",
    "\n",
    "S2 = \"The truck is driven on the highway.\"\n",
    "\n",
    "# sanity check generated vocab here\n",
    "X = vectorizer.fit_transform([S1,S2])\n",
    "\n",
    "# EDA\n",
    "f_names = vectorizer.get_feature_names()\n",
    "print(f_names)\n",
    "\n",
    "print(X)\n",
    "print(X.shape)"
   ]
  }
 ],
 "metadata": {
  "kernelspec": {
   "display_name": "Python (insight)",
   "language": "python",
   "name": "insight"
  },
  "language_info": {
   "codemirror_mode": {
    "name": "ipython",
    "version": 3
   },
   "file_extension": ".py",
   "mimetype": "text/x-python",
   "name": "python",
   "nbconvert_exporter": "python",
   "pygments_lexer": "ipython3",
   "version": "3.6.6"
  }
 },
 "nbformat": 4,
 "nbformat_minor": 2
}
